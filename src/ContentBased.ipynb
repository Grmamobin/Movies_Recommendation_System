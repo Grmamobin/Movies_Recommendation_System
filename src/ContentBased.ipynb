{
 "cells": [
  {
   "cell_type": "markdown",
   "id": "08aa0fac",
   "metadata": {},
   "source": [
    "# Task3"
   ]
  },
  {
   "cell_type": "code",
   "execution_count": null,
   "id": "2ffcb5e1",
   "metadata": {},
   "outputs": [],
   "source": [
    "import pandas as pd\n",
    "import matplotlib.pyplot as plt\n",
    "import seaborn as sns\n",
    "from sklearn.metrics.pairwise import sigmoid_kernel\n",
    "from sklearn.feature_extraction.text import TfidfVectorizer"
   ]
  },
  {
   "cell_type": "code",
   "execution_count": 20,
   "id": "2909cac5",
   "metadata": {},
   "outputs": [],
   "source": [
    "df = pd.read_csv('../data/movies.csv')"
   ]
  },
  {
   "cell_type": "code",
   "execution_count": 21,
   "id": "589e1487",
   "metadata": {},
   "outputs": [],
   "source": [
    "df.dropna(inplace=True)"
   ]
  },
  {
   "cell_type": "code",
   "execution_count": 22,
   "id": "cc8813f6",
   "metadata": {},
   "outputs": [
    {
     "data": {
      "application/vnd.microsoft.datawrangler.viewer.v0+json": {
       "columns": [
        {
         "name": "index",
         "rawType": "int64",
         "type": "integer"
        },
        {
         "name": "id",
         "rawType": "int64",
         "type": "integer"
        },
        {
         "name": "title",
         "rawType": "object",
         "type": "string"
        },
        {
         "name": "genres",
         "rawType": "object",
         "type": "string"
        },
        {
         "name": "overview",
         "rawType": "object",
         "type": "string"
        },
        {
         "name": "rating",
         "rawType": "float64",
         "type": "float"
        },
        {
         "name": "spoken_languages",
         "rawType": "object",
         "type": "string"
        },
        {
         "name": "cast",
         "rawType": "object",
         "type": "string"
        },
        {
         "name": "crew",
         "rawType": "object",
         "type": "string"
        },
        {
         "name": "vote_average",
         "rawType": "float64",
         "type": "float"
        },
        {
         "name": "vote_count",
         "rawType": "float64",
         "type": "float"
        },
        {
         "name": "popularity",
         "rawType": "float64",
         "type": "float"
        },
        {
         "name": "budget",
         "rawType": "int64",
         "type": "integer"
        },
        {
         "name": "keywords",
         "rawType": "object",
         "type": "string"
        },
        {
         "name": "production_companies",
         "rawType": "object",
         "type": "string"
        },
        {
         "name": "revenue",
         "rawType": "float64",
         "type": "float"
        },
        {
         "name": "runtime",
         "rawType": "float64",
         "type": "float"
        },
        {
         "name": "poster_path",
         "rawType": "object",
         "type": "string"
        },
        {
         "name": "tagline",
         "rawType": "object",
         "type": "string"
        }
       ],
       "ref": "51d609c0-1175-4397-9f94-ff9d195090c7",
       "rows": [
        [
         "0",
         "862",
         "Toy Story",
         "Animation Comedy Family",
         "Led by Woody, Andy's toys live happily in his room until Andy's birthday brings Buzz Lightyear onto the scene. Afraid of losing his place in Andy's heart, Woody plots against Buzz. But when circumstances separate Buzz and Woody from their owner, the duo eventually learns to put aside their differences.",
         "3.0",
         "English",
         "TomHanks TimAllen DonRickles",
         "JohnLasseter",
         "7.7",
         "5415.0",
         "21.946943",
         "30000000",
         "jealousy toy boy friendship friends rivalry boynextdoor newtoy toycomestolife",
         "Pixar Animation Studios",
         "373554033.0",
         "81.0",
         "/rhIRbceoE9lR4veEXuwCC2wARtG.jpg",
         "English jealousy toy boy friendship friends rivalry boynextdoor newtoy toycomestolife Animation Comedy Family TomHanks TimAllen DonRickles JohnLasseter Led by Woody, Andy's toys live happily in his room until Andy's birthday brings Buzz Lightyear onto the scene. Afraid of losing his place in Andy's heart, Woody plots against Buzz. But when circumstances separate Buzz and Woody from their owner, the duo eventually learns to put aside their differences. Pixar Animation Studios /rhIRbceoE9lR4veEXuwCC2wARtG.jpg"
        ],
        [
         "1",
         "862",
         "Toy Story",
         "Animation Comedy Family",
         "Led by Woody, Andy's toys live happily in his room until Andy's birthday brings Buzz Lightyear onto the scene. Afraid of losing his place in Andy's heart, Woody plots against Buzz. But when circumstances separate Buzz and Woody from their owner, the duo eventually learns to put aside their differences.",
         "4.0",
         "English",
         "TomHanks TimAllen DonRickles",
         "JohnLasseter",
         "7.7",
         "5415.0",
         "21.946943",
         "30000000",
         "jealousy toy boy friendship friends rivalry boynextdoor newtoy toycomestolife",
         "Pixar Animation Studios",
         "373554033.0",
         "81.0",
         "/rhIRbceoE9lR4veEXuwCC2wARtG.jpg",
         "English jealousy toy boy friendship friends rivalry boynextdoor newtoy toycomestolife Animation Comedy Family TomHanks TimAllen DonRickles JohnLasseter Led by Woody, Andy's toys live happily in his room until Andy's birthday brings Buzz Lightyear onto the scene. Afraid of losing his place in Andy's heart, Woody plots against Buzz. But when circumstances separate Buzz and Woody from their owner, the duo eventually learns to put aside their differences. Pixar Animation Studios /rhIRbceoE9lR4veEXuwCC2wARtG.jpg"
        ],
        [
         "2",
         "862",
         "Toy Story",
         "Animation Comedy Family",
         "Led by Woody, Andy's toys live happily in his room until Andy's birthday brings Buzz Lightyear onto the scene. Afraid of losing his place in Andy's heart, Woody plots against Buzz. But when circumstances separate Buzz and Woody from their owner, the duo eventually learns to put aside their differences.",
         "5.0",
         "English",
         "TomHanks TimAllen DonRickles",
         "JohnLasseter",
         "7.7",
         "5415.0",
         "21.946943",
         "30000000",
         "jealousy toy boy friendship friends rivalry boynextdoor newtoy toycomestolife",
         "Pixar Animation Studios",
         "373554033.0",
         "81.0",
         "/rhIRbceoE9lR4veEXuwCC2wARtG.jpg",
         "English jealousy toy boy friendship friends rivalry boynextdoor newtoy toycomestolife Animation Comedy Family TomHanks TimAllen DonRickles JohnLasseter Led by Woody, Andy's toys live happily in his room until Andy's birthday brings Buzz Lightyear onto the scene. Afraid of losing his place in Andy's heart, Woody plots against Buzz. But when circumstances separate Buzz and Woody from their owner, the duo eventually learns to put aside their differences. Pixar Animation Studios /rhIRbceoE9lR4veEXuwCC2wARtG.jpg"
        ],
        [
         "3",
         "862",
         "Toy Story",
         "Animation Comedy Family",
         "Led by Woody, Andy's toys live happily in his room until Andy's birthday brings Buzz Lightyear onto the scene. Afraid of losing his place in Andy's heart, Woody plots against Buzz. But when circumstances separate Buzz and Woody from their owner, the duo eventually learns to put aside their differences.",
         "2.0",
         "English",
         "TomHanks TimAllen DonRickles",
         "JohnLasseter",
         "7.7",
         "5415.0",
         "21.946943",
         "30000000",
         "jealousy toy boy friendship friends rivalry boynextdoor newtoy toycomestolife",
         "Pixar Animation Studios",
         "373554033.0",
         "81.0",
         "/rhIRbceoE9lR4veEXuwCC2wARtG.jpg",
         "English jealousy toy boy friendship friends rivalry boynextdoor newtoy toycomestolife Animation Comedy Family TomHanks TimAllen DonRickles JohnLasseter Led by Woody, Andy's toys live happily in his room until Andy's birthday brings Buzz Lightyear onto the scene. Afraid of losing his place in Andy's heart, Woody plots against Buzz. But when circumstances separate Buzz and Woody from their owner, the duo eventually learns to put aside their differences. Pixar Animation Studios /rhIRbceoE9lR4veEXuwCC2wARtG.jpg"
        ],
        [
         "4",
         "862",
         "Toy Story",
         "Animation Comedy Family",
         "Led by Woody, Andy's toys live happily in his room until Andy's birthday brings Buzz Lightyear onto the scene. Afraid of losing his place in Andy's heart, Woody plots against Buzz. But when circumstances separate Buzz and Woody from their owner, the duo eventually learns to put aside their differences.",
         "3.5",
         "English",
         "TomHanks TimAllen DonRickles",
         "JohnLasseter",
         "7.7",
         "5415.0",
         "21.946943",
         "30000000",
         "jealousy toy boy friendship friends rivalry boynextdoor newtoy toycomestolife",
         "Pixar Animation Studios",
         "373554033.0",
         "81.0",
         "/rhIRbceoE9lR4veEXuwCC2wARtG.jpg",
         "English jealousy toy boy friendship friends rivalry boynextdoor newtoy toycomestolife Animation Comedy Family TomHanks TimAllen DonRickles JohnLasseter Led by Woody, Andy's toys live happily in his room until Andy's birthday brings Buzz Lightyear onto the scene. Afraid of losing his place in Andy's heart, Woody plots against Buzz. But when circumstances separate Buzz and Woody from their owner, the duo eventually learns to put aside their differences. Pixar Animation Studios /rhIRbceoE9lR4veEXuwCC2wARtG.jpg"
        ]
       ],
       "shape": {
        "columns": 18,
        "rows": 5
       }
      },
      "text/html": [
       "<div>\n",
       "<style scoped>\n",
       "    .dataframe tbody tr th:only-of-type {\n",
       "        vertical-align: middle;\n",
       "    }\n",
       "\n",
       "    .dataframe tbody tr th {\n",
       "        vertical-align: top;\n",
       "    }\n",
       "\n",
       "    .dataframe thead th {\n",
       "        text-align: right;\n",
       "    }\n",
       "</style>\n",
       "<table border=\"1\" class=\"dataframe\">\n",
       "  <thead>\n",
       "    <tr style=\"text-align: right;\">\n",
       "      <th></th>\n",
       "      <th>id</th>\n",
       "      <th>title</th>\n",
       "      <th>genres</th>\n",
       "      <th>overview</th>\n",
       "      <th>rating</th>\n",
       "      <th>spoken_languages</th>\n",
       "      <th>cast</th>\n",
       "      <th>crew</th>\n",
       "      <th>vote_average</th>\n",
       "      <th>vote_count</th>\n",
       "      <th>popularity</th>\n",
       "      <th>budget</th>\n",
       "      <th>keywords</th>\n",
       "      <th>production_companies</th>\n",
       "      <th>revenue</th>\n",
       "      <th>runtime</th>\n",
       "      <th>poster_path</th>\n",
       "      <th>tagline</th>\n",
       "    </tr>\n",
       "  </thead>\n",
       "  <tbody>\n",
       "    <tr>\n",
       "      <th>0</th>\n",
       "      <td>862</td>\n",
       "      <td>Toy Story</td>\n",
       "      <td>Animation Comedy Family</td>\n",
       "      <td>Led by Woody, Andy's toys live happily in his ...</td>\n",
       "      <td>3.0</td>\n",
       "      <td>English</td>\n",
       "      <td>TomHanks TimAllen DonRickles</td>\n",
       "      <td>JohnLasseter</td>\n",
       "      <td>7.7</td>\n",
       "      <td>5415.0</td>\n",
       "      <td>21.946943</td>\n",
       "      <td>30000000</td>\n",
       "      <td>jealousy toy boy friendship friends rivalry bo...</td>\n",
       "      <td>Pixar Animation Studios</td>\n",
       "      <td>373554033.0</td>\n",
       "      <td>81.0</td>\n",
       "      <td>/rhIRbceoE9lR4veEXuwCC2wARtG.jpg</td>\n",
       "      <td>English jealousy toy boy friendship friends ri...</td>\n",
       "    </tr>\n",
       "    <tr>\n",
       "      <th>1</th>\n",
       "      <td>862</td>\n",
       "      <td>Toy Story</td>\n",
       "      <td>Animation Comedy Family</td>\n",
       "      <td>Led by Woody, Andy's toys live happily in his ...</td>\n",
       "      <td>4.0</td>\n",
       "      <td>English</td>\n",
       "      <td>TomHanks TimAllen DonRickles</td>\n",
       "      <td>JohnLasseter</td>\n",
       "      <td>7.7</td>\n",
       "      <td>5415.0</td>\n",
       "      <td>21.946943</td>\n",
       "      <td>30000000</td>\n",
       "      <td>jealousy toy boy friendship friends rivalry bo...</td>\n",
       "      <td>Pixar Animation Studios</td>\n",
       "      <td>373554033.0</td>\n",
       "      <td>81.0</td>\n",
       "      <td>/rhIRbceoE9lR4veEXuwCC2wARtG.jpg</td>\n",
       "      <td>English jealousy toy boy friendship friends ri...</td>\n",
       "    </tr>\n",
       "    <tr>\n",
       "      <th>2</th>\n",
       "      <td>862</td>\n",
       "      <td>Toy Story</td>\n",
       "      <td>Animation Comedy Family</td>\n",
       "      <td>Led by Woody, Andy's toys live happily in his ...</td>\n",
       "      <td>5.0</td>\n",
       "      <td>English</td>\n",
       "      <td>TomHanks TimAllen DonRickles</td>\n",
       "      <td>JohnLasseter</td>\n",
       "      <td>7.7</td>\n",
       "      <td>5415.0</td>\n",
       "      <td>21.946943</td>\n",
       "      <td>30000000</td>\n",
       "      <td>jealousy toy boy friendship friends rivalry bo...</td>\n",
       "      <td>Pixar Animation Studios</td>\n",
       "      <td>373554033.0</td>\n",
       "      <td>81.0</td>\n",
       "      <td>/rhIRbceoE9lR4veEXuwCC2wARtG.jpg</td>\n",
       "      <td>English jealousy toy boy friendship friends ri...</td>\n",
       "    </tr>\n",
       "    <tr>\n",
       "      <th>3</th>\n",
       "      <td>862</td>\n",
       "      <td>Toy Story</td>\n",
       "      <td>Animation Comedy Family</td>\n",
       "      <td>Led by Woody, Andy's toys live happily in his ...</td>\n",
       "      <td>2.0</td>\n",
       "      <td>English</td>\n",
       "      <td>TomHanks TimAllen DonRickles</td>\n",
       "      <td>JohnLasseter</td>\n",
       "      <td>7.7</td>\n",
       "      <td>5415.0</td>\n",
       "      <td>21.946943</td>\n",
       "      <td>30000000</td>\n",
       "      <td>jealousy toy boy friendship friends rivalry bo...</td>\n",
       "      <td>Pixar Animation Studios</td>\n",
       "      <td>373554033.0</td>\n",
       "      <td>81.0</td>\n",
       "      <td>/rhIRbceoE9lR4veEXuwCC2wARtG.jpg</td>\n",
       "      <td>English jealousy toy boy friendship friends ri...</td>\n",
       "    </tr>\n",
       "    <tr>\n",
       "      <th>4</th>\n",
       "      <td>862</td>\n",
       "      <td>Toy Story</td>\n",
       "      <td>Animation Comedy Family</td>\n",
       "      <td>Led by Woody, Andy's toys live happily in his ...</td>\n",
       "      <td>3.5</td>\n",
       "      <td>English</td>\n",
       "      <td>TomHanks TimAllen DonRickles</td>\n",
       "      <td>JohnLasseter</td>\n",
       "      <td>7.7</td>\n",
       "      <td>5415.0</td>\n",
       "      <td>21.946943</td>\n",
       "      <td>30000000</td>\n",
       "      <td>jealousy toy boy friendship friends rivalry bo...</td>\n",
       "      <td>Pixar Animation Studios</td>\n",
       "      <td>373554033.0</td>\n",
       "      <td>81.0</td>\n",
       "      <td>/rhIRbceoE9lR4veEXuwCC2wARtG.jpg</td>\n",
       "      <td>English jealousy toy boy friendship friends ri...</td>\n",
       "    </tr>\n",
       "  </tbody>\n",
       "</table>\n",
       "</div>"
      ],
      "text/plain": [
       "    id      title                   genres  \\\n",
       "0  862  Toy Story  Animation Comedy Family   \n",
       "1  862  Toy Story  Animation Comedy Family   \n",
       "2  862  Toy Story  Animation Comedy Family   \n",
       "3  862  Toy Story  Animation Comedy Family   \n",
       "4  862  Toy Story  Animation Comedy Family   \n",
       "\n",
       "                                            overview  rating spoken_languages  \\\n",
       "0  Led by Woody, Andy's toys live happily in his ...     3.0          English   \n",
       "1  Led by Woody, Andy's toys live happily in his ...     4.0          English   \n",
       "2  Led by Woody, Andy's toys live happily in his ...     5.0          English   \n",
       "3  Led by Woody, Andy's toys live happily in his ...     2.0          English   \n",
       "4  Led by Woody, Andy's toys live happily in his ...     3.5          English   \n",
       "\n",
       "                           cast          crew  vote_average  vote_count  \\\n",
       "0  TomHanks TimAllen DonRickles  JohnLasseter           7.7      5415.0   \n",
       "1  TomHanks TimAllen DonRickles  JohnLasseter           7.7      5415.0   \n",
       "2  TomHanks TimAllen DonRickles  JohnLasseter           7.7      5415.0   \n",
       "3  TomHanks TimAllen DonRickles  JohnLasseter           7.7      5415.0   \n",
       "4  TomHanks TimAllen DonRickles  JohnLasseter           7.7      5415.0   \n",
       "\n",
       "   popularity    budget                                           keywords  \\\n",
       "0   21.946943  30000000  jealousy toy boy friendship friends rivalry bo...   \n",
       "1   21.946943  30000000  jealousy toy boy friendship friends rivalry bo...   \n",
       "2   21.946943  30000000  jealousy toy boy friendship friends rivalry bo...   \n",
       "3   21.946943  30000000  jealousy toy boy friendship friends rivalry bo...   \n",
       "4   21.946943  30000000  jealousy toy boy friendship friends rivalry bo...   \n",
       "\n",
       "      production_companies      revenue  runtime  \\\n",
       "0  Pixar Animation Studios  373554033.0     81.0   \n",
       "1  Pixar Animation Studios  373554033.0     81.0   \n",
       "2  Pixar Animation Studios  373554033.0     81.0   \n",
       "3  Pixar Animation Studios  373554033.0     81.0   \n",
       "4  Pixar Animation Studios  373554033.0     81.0   \n",
       "\n",
       "                        poster_path  \\\n",
       "0  /rhIRbceoE9lR4veEXuwCC2wARtG.jpg   \n",
       "1  /rhIRbceoE9lR4veEXuwCC2wARtG.jpg   \n",
       "2  /rhIRbceoE9lR4veEXuwCC2wARtG.jpg   \n",
       "3  /rhIRbceoE9lR4veEXuwCC2wARtG.jpg   \n",
       "4  /rhIRbceoE9lR4veEXuwCC2wARtG.jpg   \n",
       "\n",
       "                                             tagline  \n",
       "0  English jealousy toy boy friendship friends ri...  \n",
       "1  English jealousy toy boy friendship friends ri...  \n",
       "2  English jealousy toy boy friendship friends ri...  \n",
       "3  English jealousy toy boy friendship friends ri...  \n",
       "4  English jealousy toy boy friendship friends ri...  "
      ]
     },
     "execution_count": 22,
     "metadata": {},
     "output_type": "execute_result"
    }
   ],
   "source": [
    "df['tagline'] = (\n",
    "    df['spoken_languages'].fillna('') + ' ' +\n",
    "    df['keywords'].fillna('') + ' ' +\n",
    "    df['genres'].fillna('') + ' ' +\n",
    "    df['cast'].fillna('') + ' ' +\n",
    "    df['crew'].fillna('') + ' ' +\n",
    "    df['overview'].fillna('') + ' ' +\n",
    "    df['production_companies'].fillna('') + ' ' +\n",
    "    df['poster_path'].fillna('')\n",
    ")\n",
    "\n",
    "df.head(5)"
   ]
  },
  {
   "cell_type": "code",
   "execution_count": 23,
   "id": "b09b461e",
   "metadata": {},
   "outputs": [
    {
     "data": {
      "application/vnd.microsoft.datawrangler.viewer.v0+json": {
       "columns": [
        {
         "name": "index",
         "rawType": "int64",
         "type": "integer"
        },
        {
         "name": "id",
         "rawType": "int64",
         "type": "integer"
        },
        {
         "name": "title",
         "rawType": "object",
         "type": "string"
        },
        {
         "name": "genres",
         "rawType": "object",
         "type": "string"
        },
        {
         "name": "overview",
         "rawType": "object",
         "type": "string"
        },
        {
         "name": "poster_path",
         "rawType": "object",
         "type": "string"
        },
        {
         "name": "tagline",
         "rawType": "object",
         "type": "string"
        }
       ],
       "ref": "7746c830-ffaf-4beb-956d-3ba1153b1087",
       "rows": [
        [
         "0",
         "862",
         "Toy Story",
         "Animation Comedy Family",
         "Led by Woody, Andy's toys live happily in his room until Andy's birthday brings Buzz Lightyear onto the scene. Afraid of losing his place in Andy's heart, Woody plots against Buzz. But when circumstances separate Buzz and Woody from their owner, the duo eventually learns to put aside their differences.",
         "/rhIRbceoE9lR4veEXuwCC2wARtG.jpg",
         "English jealousy toy boy friendship friends rivalry boynextdoor newtoy toycomestolife Animation Comedy Family TomHanks TimAllen DonRickles JohnLasseter Led by Woody, Andy's toys live happily in his room until Andy's birthday brings Buzz Lightyear onto the scene. Afraid of losing his place in Andy's heart, Woody plots against Buzz. But when circumstances separate Buzz and Woody from their owner, the duo eventually learns to put aside their differences. Pixar Animation Studios /rhIRbceoE9lR4veEXuwCC2wARtG.jpg"
        ],
        [
         "1",
         "862",
         "Toy Story",
         "Animation Comedy Family",
         "Led by Woody, Andy's toys live happily in his room until Andy's birthday brings Buzz Lightyear onto the scene. Afraid of losing his place in Andy's heart, Woody plots against Buzz. But when circumstances separate Buzz and Woody from their owner, the duo eventually learns to put aside their differences.",
         "/rhIRbceoE9lR4veEXuwCC2wARtG.jpg",
         "English jealousy toy boy friendship friends rivalry boynextdoor newtoy toycomestolife Animation Comedy Family TomHanks TimAllen DonRickles JohnLasseter Led by Woody, Andy's toys live happily in his room until Andy's birthday brings Buzz Lightyear onto the scene. Afraid of losing his place in Andy's heart, Woody plots against Buzz. But when circumstances separate Buzz and Woody from their owner, the duo eventually learns to put aside their differences. Pixar Animation Studios /rhIRbceoE9lR4veEXuwCC2wARtG.jpg"
        ],
        [
         "2",
         "862",
         "Toy Story",
         "Animation Comedy Family",
         "Led by Woody, Andy's toys live happily in his room until Andy's birthday brings Buzz Lightyear onto the scene. Afraid of losing his place in Andy's heart, Woody plots against Buzz. But when circumstances separate Buzz and Woody from their owner, the duo eventually learns to put aside their differences.",
         "/rhIRbceoE9lR4veEXuwCC2wARtG.jpg",
         "English jealousy toy boy friendship friends rivalry boynextdoor newtoy toycomestolife Animation Comedy Family TomHanks TimAllen DonRickles JohnLasseter Led by Woody, Andy's toys live happily in his room until Andy's birthday brings Buzz Lightyear onto the scene. Afraid of losing his place in Andy's heart, Woody plots against Buzz. But when circumstances separate Buzz and Woody from their owner, the duo eventually learns to put aside their differences. Pixar Animation Studios /rhIRbceoE9lR4veEXuwCC2wARtG.jpg"
        ],
        [
         "3",
         "862",
         "Toy Story",
         "Animation Comedy Family",
         "Led by Woody, Andy's toys live happily in his room until Andy's birthday brings Buzz Lightyear onto the scene. Afraid of losing his place in Andy's heart, Woody plots against Buzz. But when circumstances separate Buzz and Woody from their owner, the duo eventually learns to put aside their differences.",
         "/rhIRbceoE9lR4veEXuwCC2wARtG.jpg",
         "English jealousy toy boy friendship friends rivalry boynextdoor newtoy toycomestolife Animation Comedy Family TomHanks TimAllen DonRickles JohnLasseter Led by Woody, Andy's toys live happily in his room until Andy's birthday brings Buzz Lightyear onto the scene. Afraid of losing his place in Andy's heart, Woody plots against Buzz. But when circumstances separate Buzz and Woody from their owner, the duo eventually learns to put aside their differences. Pixar Animation Studios /rhIRbceoE9lR4veEXuwCC2wARtG.jpg"
        ],
        [
         "4",
         "862",
         "Toy Story",
         "Animation Comedy Family",
         "Led by Woody, Andy's toys live happily in his room until Andy's birthday brings Buzz Lightyear onto the scene. Afraid of losing his place in Andy's heart, Woody plots against Buzz. But when circumstances separate Buzz and Woody from their owner, the duo eventually learns to put aside their differences.",
         "/rhIRbceoE9lR4veEXuwCC2wARtG.jpg",
         "English jealousy toy boy friendship friends rivalry boynextdoor newtoy toycomestolife Animation Comedy Family TomHanks TimAllen DonRickles JohnLasseter Led by Woody, Andy's toys live happily in his room until Andy's birthday brings Buzz Lightyear onto the scene. Afraid of losing his place in Andy's heart, Woody plots against Buzz. But when circumstances separate Buzz and Woody from their owner, the duo eventually learns to put aside their differences. Pixar Animation Studios /rhIRbceoE9lR4veEXuwCC2wARtG.jpg"
        ]
       ],
       "shape": {
        "columns": 6,
        "rows": 5
       }
      },
      "text/html": [
       "<div>\n",
       "<style scoped>\n",
       "    .dataframe tbody tr th:only-of-type {\n",
       "        vertical-align: middle;\n",
       "    }\n",
       "\n",
       "    .dataframe tbody tr th {\n",
       "        vertical-align: top;\n",
       "    }\n",
       "\n",
       "    .dataframe thead th {\n",
       "        text-align: right;\n",
       "    }\n",
       "</style>\n",
       "<table border=\"1\" class=\"dataframe\">\n",
       "  <thead>\n",
       "    <tr style=\"text-align: right;\">\n",
       "      <th></th>\n",
       "      <th>id</th>\n",
       "      <th>title</th>\n",
       "      <th>genres</th>\n",
       "      <th>overview</th>\n",
       "      <th>poster_path</th>\n",
       "      <th>tagline</th>\n",
       "    </tr>\n",
       "  </thead>\n",
       "  <tbody>\n",
       "    <tr>\n",
       "      <th>0</th>\n",
       "      <td>862</td>\n",
       "      <td>Toy Story</td>\n",
       "      <td>Animation Comedy Family</td>\n",
       "      <td>Led by Woody, Andy's toys live happily in his ...</td>\n",
       "      <td>/rhIRbceoE9lR4veEXuwCC2wARtG.jpg</td>\n",
       "      <td>English jealousy toy boy friendship friends ri...</td>\n",
       "    </tr>\n",
       "    <tr>\n",
       "      <th>1</th>\n",
       "      <td>862</td>\n",
       "      <td>Toy Story</td>\n",
       "      <td>Animation Comedy Family</td>\n",
       "      <td>Led by Woody, Andy's toys live happily in his ...</td>\n",
       "      <td>/rhIRbceoE9lR4veEXuwCC2wARtG.jpg</td>\n",
       "      <td>English jealousy toy boy friendship friends ri...</td>\n",
       "    </tr>\n",
       "    <tr>\n",
       "      <th>2</th>\n",
       "      <td>862</td>\n",
       "      <td>Toy Story</td>\n",
       "      <td>Animation Comedy Family</td>\n",
       "      <td>Led by Woody, Andy's toys live happily in his ...</td>\n",
       "      <td>/rhIRbceoE9lR4veEXuwCC2wARtG.jpg</td>\n",
       "      <td>English jealousy toy boy friendship friends ri...</td>\n",
       "    </tr>\n",
       "    <tr>\n",
       "      <th>3</th>\n",
       "      <td>862</td>\n",
       "      <td>Toy Story</td>\n",
       "      <td>Animation Comedy Family</td>\n",
       "      <td>Led by Woody, Andy's toys live happily in his ...</td>\n",
       "      <td>/rhIRbceoE9lR4veEXuwCC2wARtG.jpg</td>\n",
       "      <td>English jealousy toy boy friendship friends ri...</td>\n",
       "    </tr>\n",
       "    <tr>\n",
       "      <th>4</th>\n",
       "      <td>862</td>\n",
       "      <td>Toy Story</td>\n",
       "      <td>Animation Comedy Family</td>\n",
       "      <td>Led by Woody, Andy's toys live happily in his ...</td>\n",
       "      <td>/rhIRbceoE9lR4veEXuwCC2wARtG.jpg</td>\n",
       "      <td>English jealousy toy boy friendship friends ri...</td>\n",
       "    </tr>\n",
       "  </tbody>\n",
       "</table>\n",
       "</div>"
      ],
      "text/plain": [
       "    id      title                   genres  \\\n",
       "0  862  Toy Story  Animation Comedy Family   \n",
       "1  862  Toy Story  Animation Comedy Family   \n",
       "2  862  Toy Story  Animation Comedy Family   \n",
       "3  862  Toy Story  Animation Comedy Family   \n",
       "4  862  Toy Story  Animation Comedy Family   \n",
       "\n",
       "                                            overview  \\\n",
       "0  Led by Woody, Andy's toys live happily in his ...   \n",
       "1  Led by Woody, Andy's toys live happily in his ...   \n",
       "2  Led by Woody, Andy's toys live happily in his ...   \n",
       "3  Led by Woody, Andy's toys live happily in his ...   \n",
       "4  Led by Woody, Andy's toys live happily in his ...   \n",
       "\n",
       "                        poster_path  \\\n",
       "0  /rhIRbceoE9lR4veEXuwCC2wARtG.jpg   \n",
       "1  /rhIRbceoE9lR4veEXuwCC2wARtG.jpg   \n",
       "2  /rhIRbceoE9lR4veEXuwCC2wARtG.jpg   \n",
       "3  /rhIRbceoE9lR4veEXuwCC2wARtG.jpg   \n",
       "4  /rhIRbceoE9lR4veEXuwCC2wARtG.jpg   \n",
       "\n",
       "                                             tagline  \n",
       "0  English jealousy toy boy friendship friends ri...  \n",
       "1  English jealousy toy boy friendship friends ri...  \n",
       "2  English jealousy toy boy friendship friends ri...  \n",
       "3  English jealousy toy boy friendship friends ri...  \n",
       "4  English jealousy toy boy friendship friends ri...  "
      ]
     },
     "execution_count": 23,
     "metadata": {},
     "output_type": "execute_result"
    }
   ],
   "source": [
    "df = df.drop(['rating','spoken_languages','vote_average','vote_count','popularity','budget','revenue','runtime','cast','keywords','crew','production_companies'],axis=1)\n",
    "df.head(5)"
   ]
  },
  {
   "cell_type": "code",
   "execution_count": 24,
   "id": "19b55fb0",
   "metadata": {},
   "outputs": [
    {
     "name": "stdout",
     "output_type": "stream",
     "text": [
      "18816\n"
     ]
    }
   ],
   "source": [
    "print(df.duplicated().sum())\n",
    "df = df.drop_duplicates().reset_index(drop=True)"
   ]
  },
  {
   "cell_type": "code",
   "execution_count": null,
   "id": "c5c4c38b",
   "metadata": {},
   "outputs": [],
   "source": [
    "tfv = TfidfVectorizer(min_df=3,\n",
    "                      max_features=None, \n",
    "                      strip_accents = 'unicode',\n",
    "                      analyzer = 'word',\n",
    "                      token_pattern = r'\\w{1,}',\n",
    "                      ngram_range = (1, 3), # takes combination 1-3 words\n",
    "                      stop_words = 'english') # this will remove all the unnecessary words like the that etc.\n",
    "\n",
    "df['tagline'] = df['tagline'].fillna('')"
   ]
  },
  {
   "cell_type": "code",
   "execution_count": 26,
   "id": "c0d5990e",
   "metadata": {},
   "outputs": [
    {
     "name": "stdout",
     "output_type": "stream",
     "text": [
      "<Compressed Sparse Row sparse matrix of dtype 'float64'\n",
      "\twith 447829 stored elements and shape (7796, 31769)>\n",
      "  Coords\tValues\n",
      "  (0, 8921)\t0.01646027868811301\n",
      "  (0, 15333)\t0.07947364997008137\n",
      "  (0, 29135)\t0.10055453674062553\n",
      "  (0, 3323)\t0.06381802659304497\n",
      "  (0, 12091)\t0.06522780901959223\n",
      "  (0, 12071)\t0.05663129605716433\n",
      "  (0, 24077)\t0.08851891235514049\n",
      "  (0, 29137)\t0.11095211359146435\n",
      "  (0, 1467)\t0.11933097785503265\n",
      "  (0, 5263)\t0.029841657376342052\n",
      "  (0, 10491)\t0.040792627710735586\n",
      "  (0, 28983)\t0.09300771514271958\n",
      "  (0, 28834)\t0.11095211359146435\n",
      "  (0, 15665)\t0.122550373684948\n",
      "  (0, 16678)\t0.08080461895725395\n",
      "  (0, 31173)\t0.31821181283400624\n",
      "  (0, 1408)\t0.30526565994981103\n",
      "  (0, 24712)\t0.08446493459972879\n",
      "  (0, 29139)\t0.10880552472707368\n",
      "  (0, 17120)\t0.06914699775520045\n",
      "  (0, 13326)\t0.09891648920597931\n",
      "  (0, 24547)\t0.0901569598897867\n",
      "  (0, 2991)\t0.09074529147446762\n",
      "  (0, 3485)\t0.08176242504178977\n",
      "  (0, 3842)\t0.3547049681706488\n",
      "  :\t:\n",
      "  (7795, 28926)\t0.12969274006701068\n",
      "  (7795, 5953)\t0.14053298689703983\n",
      "  (7795, 12648)\t0.11278561256024155\n",
      "  (7795, 10083)\t0.11278561256024155\n",
      "  (7795, 29105)\t0.14551785941669657\n",
      "  (7795, 23441)\t0.12969274006701068\n",
      "  (7795, 146)\t0.14551785941669657\n",
      "  (7795, 7668)\t0.12528855225480348\n",
      "  (7795, 23616)\t0.1288841152613648\n",
      "  (7795, 145)\t0.14751968973541604\n",
      "  (7795, 29858)\t0.14751968973541604\n",
      "  (7795, 19425)\t0.14975754563746482\n",
      "  (7795, 148)\t0.15229461741039277\n",
      "  (7795, 1678)\t0.13142118703429279\n",
      "  (7795, 14914)\t0.14205378354474857\n",
      "  (7795, 9628)\t0.1552234518281323\n",
      "  (7795, 29662)\t0.16292721392084858\n",
      "  (7795, 15669)\t0.1552234518281323\n",
      "  (7795, 21148)\t0.1552234518281323\n",
      "  (7795, 26366)\t0.15868752770008032\n",
      "  (7795, 13037)\t0.14370698362111356\n",
      "  (7795, 9326)\t0.15868752770008032\n",
      "  (7795, 29109)\t0.15229461741039277\n",
      "  (7795, 24037)\t0.16292721392084858\n",
      "  (7795, 5706)\t0.16292721392084858\n"
     ]
    }
   ],
   "source": [
    "# Fitting the TF-IDF on the 'overview' text\n",
    "tfv_matrix = tfv.fit_transform(df['tagline'])\n",
    "print(tfv_matrix)"
   ]
  },
  {
   "cell_type": "code",
   "execution_count": null,
   "id": "eeb560c8",
   "metadata": {},
   "outputs": [],
   "source": [
    "sig = sigmoid_kernel(tfv_matrix, tfv_matrix)\n",
    "indices = pd.Series(df.index, index=df['title']).drop_duplicates()"
   ]
  },
  {
   "cell_type": "code",
   "execution_count": null,
   "id": "fe7d4312",
   "metadata": {},
   "outputs": [],
   "source": [
    "def get_recommendations(title, sig=sig):\n",
    "    \n",
    "    idx = indices[title]  \n",
    "    sig_scores = list(enumerate(sig[idx].flatten()))\n",
    "    sig_scores = sorted(sig_scores, key=lambda x: x[1], reverse=True)[1:11] \n",
    "    movie_indices = [df.index[i] for i, _ in sig_scores]    \n",
    "    return df.loc[movie_indices, 'title'].tolist()"
   ]
  },
  {
   "cell_type": "code",
   "execution_count": null,
   "id": "9f43124a",
   "metadata": {},
   "outputs": [],
   "source": [
    "def recommend_cold_start(fav_genres=None, fav_titles=None):\n",
    "    if fav_genres:\n",
    "        subset = df[df['genres'].apply(lambda g: any(genre.lower() in g.lower() for genre in fav_genres))]\n",
    "        return subset.sort_values('title', ascending=False).head(10)['title'].tolist()\n",
    "\n",
    "    elif fav_titles:\n",
    "        all_recommendations = []\n",
    "        for title in fav_titles:\n",
    "            if title in indices:\n",
    "                recs = get_recommendations(title)\n",
    "                all_recommendations.extend(recs)\n",
    "\n",
    "        seen = set()\n",
    "        unique_recs = []\n",
    "        for m in all_recommendations:\n",
    "            if m not in seen and m not in fav_titles:\n",
    "                seen.add(m)\n",
    "                unique_recs.append(m)\n",
    "\n",
    "        return unique_recs[:10]\n",
    "\n",
    "    else:\n",
    "        return df.sort_values('title', ascending=False).head(10)['title'].tolist()"
   ]
  },
  {
   "cell_type": "code",
   "execution_count": null,
   "id": "374a9607",
   "metadata": {},
   "outputs": [
    {
     "name": "stdout",
     "output_type": "stream",
     "text": [
      "['’Round Midnight', 'Æon Flux', 'xXx: State of the Union', 'xXx', 'eXistenZ', 'Zulu', 'Zorro, The Gay Blade', 'Zorba the Greek', 'Zoot Suit', 'Zombeavers']\n",
      "['My Giant', 'Othello', 'Extreme Measures', 'Dracula: Dead and Loving It', 'Did You Hear About the Morgans?', 'Little Big League', 'Envy', 'Striptease', 'Misery', 'Absolute Power']\n",
      "['’Round Midnight', 'Æon Flux', '¡Three Amigos!', 'xXx: State of the Union', 'xXx', 'loudQUIETloud: A Film About the Pixies', 'eXistenZ', '[REC]', 'Zulu', 'Zorro, The Gay Blade']\n"
     ]
    }
   ],
   "source": [
    "print(recommend_cold_start(fav_genres=[\"Action\", \"Drama\"]))\n",
    "print(recommend_cold_start(fav_titles=[\"City Hall\"]))\n",
    "print(recommend_cold_start())\n"
   ]
  },
  {
   "cell_type": "code",
   "execution_count": 31,
   "id": "30740780",
   "metadata": {},
   "outputs": [],
   "source": [
    "#SAVE \n",
    "import pickle\n",
    "with open(\"models/sig.pkl\", \"wb\") as f:\n",
    "    pickle.dump(sig, f)\n",
    "\n",
    "with open(\"models/df.pkl\", \"wb\") as f:\n",
    "    pickle.dump(df, f)"
   ]
  }
 ],
 "metadata": {
  "kernelspec": {
   "display_name": "Python 3",
   "language": "python",
   "name": "python3"
  },
  "language_info": {
   "codemirror_mode": {
    "name": "ipython",
    "version": 3
   },
   "file_extension": ".py",
   "mimetype": "text/x-python",
   "name": "python",
   "nbconvert_exporter": "python",
   "pygments_lexer": "ipython3",
   "version": "3.10.7"
  }
 },
 "nbformat": 4,
 "nbformat_minor": 5
}

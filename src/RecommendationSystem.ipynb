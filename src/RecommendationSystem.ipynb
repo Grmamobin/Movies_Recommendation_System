{
 "cells": [
  {
   "cell_type": "markdown",
   "id": "5d110fe3",
   "metadata": {},
   "source": [
    "# Movie Recommendation System"
   ]
  },
  {
   "cell_type": "markdown",
   "id": "11ca3c80",
   "metadata": {},
   "source": [
    "## Libraries"
   ]
  },
  {
   "cell_type": "code",
   "execution_count": 1,
   "id": "9c848da1",
   "metadata": {},
   "outputs": [],
   "source": [
    "import pandas as pd\n",
    "import json\n",
    "import ast\n",
    "import numpy as np"
   ]
  },
  {
   "cell_type": "code",
   "execution_count": 2,
   "id": "39c6bdbc",
   "metadata": {},
   "outputs": [
    {
     "name": "stderr",
     "output_type": "stream",
     "text": [
      "/var/folders/vs/t6hclhb524l53jbbc2n222640000gn/T/ipykernel_71434/2482702822.py:5: DtypeWarning: Columns (10) have mixed types. Specify dtype option on import or set low_memory=False.\n",
      "  movies_metadata = pd.read_csv('.csv /movies_metadata.csv')\n"
     ]
    }
   ],
   "source": [
    "credits = pd.read_csv('.csv /credits.csv')\n",
    "keywords = pd.read_csv('.csv /keywords.csv')\n",
    "links_small = pd.read_csv('.csv /links_small.csv')\n",
    "links = pd.read_csv('.csv /links.csv')\n",
    "movies_metadata = pd.read_csv('.csv /movies_metadata.csv')\n",
    "ratings_small = pd.read_csv('.csv /ratings_small.csv')\n",
    "ratings = pd.read_csv('.csv /ratings.csv')"
   ]
  },
  {
   "cell_type": "code",
   "execution_count": 3,
   "id": "232c46ac",
   "metadata": {},
   "outputs": [],
   "source": [
    "movies_raw = movies_metadata.copy()\n",
    "\n",
    "# Keep raw vote counts and averages (numeric, no transforms)\n",
    "movies_raw['vote_count_raw'] = pd.to_numeric(movies_raw['vote_count'], errors='coerce')\n",
    "movies_raw['vote_average_raw'] = pd.to_numeric(movies_raw['vote_average'], errors='coerce')\n",
    "\n",
    "# Drop missing or zero vote counts\n",
    "movies_raw = movies_raw.dropna(subset=['vote_count_raw', 'vote_average_raw'])\n",
    "movies_raw = movies_raw[movies_raw['vote_count_raw'] > 0]"
   ]
  },
  {
   "cell_type": "code",
   "execution_count": 4,
   "id": "bad0b3f4",
   "metadata": {},
   "outputs": [],
   "source": [
    "# Parse JSON-like columns into structured Python objects\n",
    "\n",
    "movies_metadata['id'] = pd.to_numeric(movies_metadata['id'], errors='coerce')\n",
    "\n",
    "credits = credits[credits['id'].apply(lambda x: str(x).isdigit())].copy()\n",
    "credits['id'] = credits['id'].astype(int)\n",
    "for col in ['cast', 'crew']:\n",
    "    credits[col] = credits[col].apply(lambda x: ast.literal_eval(x) if pd.notna(x) else [])\n",
    "    \n",
    "# cast id/tmdbId to numeric types only after filtering non-numeric rows and quantify rows dropped    \n",
    "movies_metadata.dropna(subset=['id'], inplace=True)"
   ]
  },
  {
   "cell_type": "code",
   "execution_count": 5,
   "id": "f88d2ca7",
   "metadata": {},
   "outputs": [
    {
     "data": {
      "application/vnd.microsoft.datawrangler.viewer.v0+json": {
       "columns": [
        {
         "name": "index",
         "rawType": "int64",
         "type": "integer"
        },
        {
         "name": "genres_list",
         "rawType": "object",
         "type": "unknown"
        }
       ],
       "ref": "5e15b58f-8f68-434f-b917-659b1b91ccea",
       "rows": [
        [
         "0",
         "['Animation', 'Comedy', 'Family']"
        ],
        [
         "1",
         "['Adventure', 'Fantasy', 'Family']"
        ],
        [
         "2",
         "['Romance', 'Comedy']"
        ],
        [
         "3",
         "['Comedy', 'Drama', 'Romance']"
        ],
        [
         "4",
         "['Comedy']"
        ],
        [
         "5",
         "['Action', 'Crime', 'Drama', 'Thriller']"
        ],
        [
         "6",
         "['Comedy', 'Romance']"
        ],
        [
         "7",
         "['Action', 'Adventure', 'Drama', 'Family']"
        ],
        [
         "8",
         "['Action', 'Adventure', 'Thriller']"
        ],
        [
         "9",
         "['Adventure', 'Action', 'Thriller']"
        ],
        [
         "10",
         "['Comedy', 'Drama', 'Romance']"
        ],
        [
         "11",
         "['Comedy', 'Horror']"
        ],
        [
         "12",
         "['Family', 'Animation', 'Adventure']"
        ],
        [
         "13",
         "['History', 'Drama']"
        ],
        [
         "14",
         "['Action', 'Adventure']"
        ],
        [
         "15",
         "['Drama', 'Crime']"
        ],
        [
         "16",
         "['Drama', 'Romance']"
        ],
        [
         "17",
         "['Crime', 'Comedy']"
        ],
        [
         "18",
         "['Crime', 'Comedy', 'Adventure']"
        ],
        [
         "19",
         "['Action', 'Comedy', 'Crime']"
        ],
        [
         "20",
         "['Comedy', 'Thriller', 'Crime']"
        ],
        [
         "21",
         "['Drama', 'Thriller']"
        ],
        [
         "22",
         "['Action', 'Adventure', 'Crime', 'Thriller']"
        ],
        [
         "23",
         "['Drama', 'Fantasy', 'Science Fiction', 'Thriller']"
        ],
        [
         "24",
         "['Drama', 'Romance']"
        ],
        [
         "25",
         "['Drama']"
        ],
        [
         "26",
         "['Comedy', 'Drama', 'Family']"
        ],
        [
         "27",
         "['Drama', 'Romance']"
        ],
        [
         "28",
         "['Fantasy', 'Science Fiction', 'Adventure']"
        ],
        [
         "29",
         "['Drama', 'Crime']"
        ],
        [
         "30",
         "['Drama', 'Crime']"
        ],
        [
         "31",
         "['Science Fiction', 'Thriller', 'Mystery']"
        ],
        [
         "32",
         "['Romance', 'Adventure']"
        ],
        [
         "33",
         "['Fantasy', 'Drama', 'Comedy', 'Family']"
        ],
        [
         "34",
         "['History', 'Drama', 'Romance']"
        ],
        [
         "35",
         "['Drama']"
        ],
        [
         "36",
         "['Adventure', 'History', 'Drama', 'Family']"
        ],
        [
         "37",
         "['Comedy', 'Family', 'Romance']"
        ],
        [
         "38",
         "['Comedy', 'Drama', 'Romance']"
        ],
        [
         "39",
         "['Drama']"
        ],
        [
         "40",
         "['Drama', 'War']"
        ],
        [
         "41",
         "['Action', 'Crime', 'Drama', 'History']"
        ],
        [
         "42",
         "['Drama', 'Romance']"
        ],
        [
         "43",
         "['Action', 'Fantasy']"
        ],
        [
         "44",
         "['Fantasy', 'Drama', 'Comedy', 'Thriller']"
        ],
        [
         "45",
         "['Drama', 'Romance']"
        ],
        [
         "46",
         "['Crime', 'Mystery', 'Thriller']"
        ],
        [
         "47",
         "['Adventure', 'Animation', 'Drama', 'Family']"
        ],
        [
         "48",
         "['Drama', 'Romance']"
        ],
        [
         "49",
         "['Drama', 'Crime', 'Thriller']"
        ]
       ],
       "shape": {
        "columns": 1,
        "rows": 45463
       }
      },
      "text/plain": [
       "0         [Animation, Comedy, Family]\n",
       "1        [Adventure, Fantasy, Family]\n",
       "2                   [Romance, Comedy]\n",
       "3            [Comedy, Drama, Romance]\n",
       "4                            [Comedy]\n",
       "                     ...             \n",
       "45461                 [Drama, Family]\n",
       "45462                         [Drama]\n",
       "45463       [Action, Drama, Thriller]\n",
       "45464                              []\n",
       "45465                              []\n",
       "Name: genres_list, Length: 45463, dtype: object"
      ]
     },
     "execution_count": 5,
     "metadata": {},
     "output_type": "execute_result"
    }
   ],
   "source": [
    "movies_metadata['genres_list'] = movies_metadata['genres'].apply(\n",
    "    lambda x: [g['name'] for g in json.loads(x.replace(\"'\", '\"'))] if pd.notna(x) else []\n",
    "    )\n",
    "movies_metadata['genres_list']"
   ]
  },
  {
   "cell_type": "code",
   "execution_count": 6,
   "id": "451672cf",
   "metadata": {},
   "outputs": [
    {
     "data": {
      "text/plain": [
       "(45463, 25)"
      ]
     },
     "execution_count": 6,
     "metadata": {},
     "output_type": "execute_result"
    }
   ],
   "source": [
    "movies_metadata.shape"
   ]
  },
  {
   "cell_type": "code",
   "execution_count": 7,
   "id": "34770af5",
   "metadata": {},
   "outputs": [
    {
     "data": {
      "application/vnd.microsoft.datawrangler.viewer.v0+json": {
       "columns": [
        {
         "name": "index",
         "rawType": "object",
         "type": "string"
        },
        {
         "name": "0",
         "rawType": "int64",
         "type": "integer"
        }
       ],
       "ref": "145c8cdf-a2a2-4400-88e9-e569c49481b3",
       "rows": [
        [
         "adult",
         "0"
        ],
        [
         "belongs_to_collection",
         "40972"
        ],
        [
         "budget",
         "0"
        ],
        [
         "genres",
         "0"
        ],
        [
         "homepage",
         "37684"
        ],
        [
         "id",
         "0"
        ],
        [
         "imdb_id",
         "17"
        ],
        [
         "original_language",
         "11"
        ],
        [
         "original_title",
         "0"
        ],
        [
         "overview",
         "954"
        ],
        [
         "popularity",
         "3"
        ],
        [
         "poster_path",
         "386"
        ],
        [
         "production_companies",
         "3"
        ],
        [
         "production_countries",
         "3"
        ],
        [
         "release_date",
         "87"
        ],
        [
         "revenue",
         "3"
        ],
        [
         "runtime",
         "260"
        ],
        [
         "spoken_languages",
         "3"
        ],
        [
         "status",
         "84"
        ],
        [
         "tagline",
         "25051"
        ],
        [
         "title",
         "3"
        ],
        [
         "video",
         "3"
        ],
        [
         "vote_average",
         "3"
        ],
        [
         "vote_count",
         "3"
        ],
        [
         "genres_list",
         "0"
        ]
       ],
       "shape": {
        "columns": 1,
        "rows": 25
       }
      },
      "text/plain": [
       "adult                        0\n",
       "belongs_to_collection    40972\n",
       "budget                       0\n",
       "genres                       0\n",
       "homepage                 37684\n",
       "id                           0\n",
       "imdb_id                     17\n",
       "original_language           11\n",
       "original_title               0\n",
       "overview                   954\n",
       "popularity                   3\n",
       "poster_path                386\n",
       "production_companies         3\n",
       "production_countries         3\n",
       "release_date                87\n",
       "revenue                      3\n",
       "runtime                    260\n",
       "spoken_languages             3\n",
       "status                      84\n",
       "tagline                  25051\n",
       "title                        3\n",
       "video                        3\n",
       "vote_average                 3\n",
       "vote_count                   3\n",
       "genres_list                  0\n",
       "dtype: int64"
      ]
     },
     "execution_count": 7,
     "metadata": {},
     "output_type": "execute_result"
    }
   ],
   "source": [
    "movies_metadata.isna().sum()"
   ]
  },
  {
   "cell_type": "code",
   "execution_count": 8,
   "id": "860f6d61",
   "metadata": {},
   "outputs": [],
   "source": [
    "# Drop or Fill useless part of column\n",
    "import ast\n",
    "movies_metadata['genres'] = movies_metadata['genres'].fillna('[]')"
   ]
  },
  {
   "cell_type": "code",
   "execution_count": 9,
   "id": "e09cd645",
   "metadata": {},
   "outputs": [],
   "source": [
    "import pandas as pd\n",
    "import ast  # safer than eval for these strings\n",
    "\n",
    "def parse_json_column(df, col):\n",
    "    df[col] = df[col].apply(lambda x: [] if pd.isna(x) or x == '' else ast.literal_eval(x))\n",
    "    return df\n",
    "\n",
    "movies_metadata = parse_json_column(movies_metadata, 'genres')\n",
    "movies_metadata = parse_json_column(movies_metadata, 'production_countries')\n",
    "movies_metadata = parse_json_column(movies_metadata, 'spoken_languages')\n",
    "movies_metadata = parse_json_column(movies_metadata, 'production_companies')"
   ]
  },
  {
   "cell_type": "code",
   "execution_count": 10,
   "id": "b400af60",
   "metadata": {},
   "outputs": [
    {
     "data": {
      "application/vnd.microsoft.datawrangler.viewer.v0+json": {
       "columns": [
        {
         "name": "index",
         "rawType": "int64",
         "type": "integer"
        },
        {
         "name": "genres_list",
         "rawType": "object",
         "type": "string"
        },
        {
         "name": "movie_count",
         "rawType": "int64",
         "type": "integer"
        }
       ],
       "ref": "5875438b-ad23-4c85-a504-c773c6bfc26e",
       "rows": [
        [
         "0",
         "Action",
         "6596"
        ],
        [
         "1",
         "Adventure",
         "3496"
        ],
        [
         "2",
         "Animation",
         "1935"
        ],
        [
         "3",
         "Comedy",
         "13182"
        ],
        [
         "4",
         "Crime",
         "4307"
        ],
        [
         "5",
         "Documentary",
         "3932"
        ],
        [
         "6",
         "Drama",
         "20265"
        ],
        [
         "7",
         "Family",
         "2770"
        ],
        [
         "8",
         "Fantasy",
         "2313"
        ],
        [
         "9",
         "Foreign",
         "1622"
        ],
        [
         "10",
         "History",
         "1398"
        ],
        [
         "11",
         "Horror",
         "4673"
        ],
        [
         "12",
         "Music",
         "1598"
        ],
        [
         "13",
         "Mystery",
         "2467"
        ],
        [
         "14",
         "Romance",
         "6735"
        ],
        [
         "15",
         "Science Fiction",
         "3049"
        ],
        [
         "16",
         "TV Movie",
         "767"
        ],
        [
         "17",
         "Thriller",
         "7624"
        ],
        [
         "18",
         "War",
         "1323"
        ],
        [
         "19",
         "Western",
         "1042"
        ]
       ],
       "shape": {
        "columns": 2,
        "rows": 20
       }
      },
      "text/html": [
       "<div>\n",
       "<style scoped>\n",
       "    .dataframe tbody tr th:only-of-type {\n",
       "        vertical-align: middle;\n",
       "    }\n",
       "\n",
       "    .dataframe tbody tr th {\n",
       "        vertical-align: top;\n",
       "    }\n",
       "\n",
       "    .dataframe thead th {\n",
       "        text-align: right;\n",
       "    }\n",
       "</style>\n",
       "<table border=\"1\" class=\"dataframe\">\n",
       "  <thead>\n",
       "    <tr style=\"text-align: right;\">\n",
       "      <th></th>\n",
       "      <th>genres_list</th>\n",
       "      <th>movie_count</th>\n",
       "    </tr>\n",
       "  </thead>\n",
       "  <tbody>\n",
       "    <tr>\n",
       "      <th>0</th>\n",
       "      <td>Action</td>\n",
       "      <td>6596</td>\n",
       "    </tr>\n",
       "    <tr>\n",
       "      <th>1</th>\n",
       "      <td>Adventure</td>\n",
       "      <td>3496</td>\n",
       "    </tr>\n",
       "    <tr>\n",
       "      <th>2</th>\n",
       "      <td>Animation</td>\n",
       "      <td>1935</td>\n",
       "    </tr>\n",
       "    <tr>\n",
       "      <th>3</th>\n",
       "      <td>Comedy</td>\n",
       "      <td>13182</td>\n",
       "    </tr>\n",
       "    <tr>\n",
       "      <th>4</th>\n",
       "      <td>Crime</td>\n",
       "      <td>4307</td>\n",
       "    </tr>\n",
       "    <tr>\n",
       "      <th>5</th>\n",
       "      <td>Documentary</td>\n",
       "      <td>3932</td>\n",
       "    </tr>\n",
       "    <tr>\n",
       "      <th>6</th>\n",
       "      <td>Drama</td>\n",
       "      <td>20265</td>\n",
       "    </tr>\n",
       "    <tr>\n",
       "      <th>7</th>\n",
       "      <td>Family</td>\n",
       "      <td>2770</td>\n",
       "    </tr>\n",
       "    <tr>\n",
       "      <th>8</th>\n",
       "      <td>Fantasy</td>\n",
       "      <td>2313</td>\n",
       "    </tr>\n",
       "    <tr>\n",
       "      <th>9</th>\n",
       "      <td>Foreign</td>\n",
       "      <td>1622</td>\n",
       "    </tr>\n",
       "    <tr>\n",
       "      <th>10</th>\n",
       "      <td>History</td>\n",
       "      <td>1398</td>\n",
       "    </tr>\n",
       "    <tr>\n",
       "      <th>11</th>\n",
       "      <td>Horror</td>\n",
       "      <td>4673</td>\n",
       "    </tr>\n",
       "    <tr>\n",
       "      <th>12</th>\n",
       "      <td>Music</td>\n",
       "      <td>1598</td>\n",
       "    </tr>\n",
       "    <tr>\n",
       "      <th>13</th>\n",
       "      <td>Mystery</td>\n",
       "      <td>2467</td>\n",
       "    </tr>\n",
       "    <tr>\n",
       "      <th>14</th>\n",
       "      <td>Romance</td>\n",
       "      <td>6735</td>\n",
       "    </tr>\n",
       "    <tr>\n",
       "      <th>15</th>\n",
       "      <td>Science Fiction</td>\n",
       "      <td>3049</td>\n",
       "    </tr>\n",
       "    <tr>\n",
       "      <th>16</th>\n",
       "      <td>TV Movie</td>\n",
       "      <td>767</td>\n",
       "    </tr>\n",
       "    <tr>\n",
       "      <th>17</th>\n",
       "      <td>Thriller</td>\n",
       "      <td>7624</td>\n",
       "    </tr>\n",
       "    <tr>\n",
       "      <th>18</th>\n",
       "      <td>War</td>\n",
       "      <td>1323</td>\n",
       "    </tr>\n",
       "    <tr>\n",
       "      <th>19</th>\n",
       "      <td>Western</td>\n",
       "      <td>1042</td>\n",
       "    </tr>\n",
       "  </tbody>\n",
       "</table>\n",
       "</div>"
      ],
      "text/plain": [
       "        genres_list  movie_count\n",
       "0            Action         6596\n",
       "1         Adventure         3496\n",
       "2         Animation         1935\n",
       "3            Comedy        13182\n",
       "4             Crime         4307\n",
       "5       Documentary         3932\n",
       "6             Drama        20265\n",
       "7            Family         2770\n",
       "8           Fantasy         2313\n",
       "9           Foreign         1622\n",
       "10          History         1398\n",
       "11           Horror         4673\n",
       "12            Music         1598\n",
       "13          Mystery         2467\n",
       "14          Romance         6735\n",
       "15  Science Fiction         3049\n",
       "16         TV Movie          767\n",
       "17         Thriller         7624\n",
       "18              War         1323\n",
       "19          Western         1042"
      ]
     },
     "execution_count": 10,
     "metadata": {},
     "output_type": "execute_result"
    }
   ],
   "source": [
    "# Store parsed list in *_list column\n",
    "movies_metadata['genres_list'] = movies_metadata['genres'].apply(lambda x: [g['name'] for g in x])\n",
    "\n",
    "# Explode for aggregation\n",
    "genres_long = movies_metadata[['id', 'genres_list']].explode('genres_list')\n",
    "genres_long.groupby('genres_list').size().reset_index(name='movie_count')\n"
   ]
  },
  {
   "cell_type": "code",
   "execution_count": 11,
   "id": "41d56588",
   "metadata": {},
   "outputs": [
    {
     "name": "stderr",
     "output_type": "stream",
     "text": [
      "/var/folders/vs/t6hclhb524l53jbbc2n222640000gn/T/ipykernel_71434/2179892545.py:26: FutureWarning: Downcasting object dtype arrays on .fillna, .ffill, .bfill is deprecated and will change in a future version. Call result.infer_objects(copy=False) instead. To opt-in to the future behavior, set `pd.set_option('future.no_silent_downcasting', True)`\n",
      "  movies_metadata['video'] = movies_metadata['video'].fillna(False).astype(bool)\n"
     ]
    }
   ],
   "source": [
    "# Handle missing/outlier numeric values\n",
    "import numpy as np\n",
    "import pandas as pd\n",
    "\n",
    "# Convert to numeric where needed\n",
    "numeric_cols = ['budget', 'revenue', 'runtime', 'popularity', 'vote_count']\n",
    "for col in numeric_cols:\n",
    "    movies_metadata[col] = pd.to_numeric(movies_metadata[col], errors='coerce')\n",
    "\n",
    "# Fill missing values\n",
    "movies_metadata['runtime'] = movies_metadata['runtime'].fillna(movies_metadata['runtime'].median())\n",
    "movies_metadata['budget'] = movies_metadata['budget'].replace(0, np.nan).fillna(movies_metadata['budget'].median())\n",
    "movies_metadata['revenue'] = movies_metadata['revenue'].replace(0, np.nan).fillna(movies_metadata['revenue'].median())\n",
    "\n",
    "# Winsorisation for extreme outliers\n",
    "for col in ['budget', 'revenue', 'popularity', 'vote_count']:\n",
    "    movies_metadata[col] = movies_metadata[col].clip(upper=movies_metadata[col].quantile(0.99))\n",
    "\n",
    "# Log transform skewed columns\n",
    "for col in ['budget', 'revenue', 'popularity', 'vote_count']:\n",
    "    movies_metadata[col] = np.log1p(movies_metadata[col])\n",
    "    \n",
    "\n",
    "# --- Boolean fields ---\n",
    "movies_metadata['adult'] = movies_metadata['adult'].astype(bool)\n",
    "movies_metadata['video'] = movies_metadata['video'].fillna(False).astype(bool)\n",
    "\n",
    "# --- IDs ---\n",
    "movies_metadata['imdb_id'] = movies_metadata['imdb_id'].replace('', np.nan)\n",
    "\n",
    "# --- Languages & text ---\n",
    "movies_metadata['original_language'] = movies_metadata['original_language'].fillna('unknown')\n",
    "movies_metadata['status'] = movies_metadata['status'].fillna('Unknown')\n",
    "movies_metadata['title'] = movies_metadata['title'].fillna(movies_metadata['original_title'])\n",
    "movies_metadata['tagline'] = movies_metadata['tagline'].fillna('')\n",
    "movies_metadata['overview'] = movies_metadata['overview'].fillna('No overview available')\n",
    "\n",
    "# --- Dates ---\n",
    "movies_metadata['release_date'] = pd.to_datetime(movies_metadata['release_date'], errors='coerce')"
   ]
  },
  {
   "cell_type": "code",
   "execution_count": 12,
   "id": "2dbcddb1",
   "metadata": {},
   "outputs": [],
   "source": [
    "import pandas as pd\n",
    "import numpy as np\n",
    "import ast\n",
    "\n",
    "# Helper to parse JSON-like columns safely\n",
    "def parse_json_safe(x):\n",
    "    if isinstance(x, list):\n",
    "        return x\n",
    "    if isinstance(x, dict):\n",
    "        return [x]\n",
    "    if pd.isna(x) or str(x).strip() in ('', '{}', '[]'):\n",
    "        return []\n",
    "    try:\n",
    "        val = ast.literal_eval(x)\n",
    "        if isinstance(val, dict):\n",
    "            return [val]\n",
    "        if isinstance(val, list):\n",
    "            return val\n",
    "        return []\n",
    "    except Exception:\n",
    "        return []\n",
    "\n",
    "# Columns to parse JSON from strings\n",
    "json_columns = [\n",
    "    'belongs_to_collection',\n",
    "    'genres',\n",
    "    'production_companies',\n",
    "    'production_countries',\n",
    "    'spoken_languages'\n",
    "]\n",
    "\n",
    "for col in json_columns:\n",
    "    if col in movies_metadata.columns:\n",
    "        movies_metadata[col] = movies_metadata[col].apply(parse_json_safe)\n",
    "\n",
    "# Clean imdb_id: strip, replace empty and 'nan' strings with np.nan\n",
    "movies_metadata['imdb_id'] = movies_metadata['imdb_id'].astype(str).str.strip()\n",
    "movies_metadata.loc[movies_metadata['imdb_id'].str.lower().isin(['', 'nan']), 'imdb_id'] = np.nan\n",
    "\n",
    "\n",
    "# Fill missing poster_path and tagline with empty string\n",
    "movies_metadata['poster_path'] = movies_metadata['poster_path'].fillna('')\n",
    "movies_metadata['tagline'] = movies_metadata['tagline'].fillna('')\n",
    "\n",
    "# Parse release_date, keep NaT for missing\n",
    "movies_metadata['release_date'] = pd.to_datetime(movies_metadata['release_date'], errors='coerce')\n",
    "\n",
    "# Convert boolean columns\n",
    "movies_metadata['adult'] = movies_metadata['adult'].astype(bool)\n",
    "movies_metadata['video'] = movies_metadata['video'].astype(bool)\n",
    "\n",
    "# Numeric columns convert & fill if any missing (minimal missing expected)\n",
    "numeric_cols = ['budget', 'popularity', 'revenue', 'runtime', 'vote_average', 'vote_count']\n",
    "\n",
    "for col in numeric_cols:\n",
    "    movies_metadata[col] = pd.to_numeric(movies_metadata[col], errors='coerce')\n",
    "    movies_metadata[col] = movies_metadata[col].fillna(movies_metadata[col].median())\n",
    "\n",
    "# Winsorize to cap extreme outliers on some numeric cols. (Handle outliers)\n",
    "for col in ['budget', 'popularity', 'revenue', 'runtime', 'vote_count']:\n",
    "    upper = movies_metadata[col].quantile(0.99)\n",
    "    movies_metadata[col] = movies_metadata[col].clip(upper=upper)\n",
    "\n",
    "# Log transform skewed numeric columns (except vote_average) (Handle outliers)\n",
    "for col in ['budget', 'popularity', 'revenue', 'vote_count']:\n",
    "    movies_metadata[col] = np.log1p(movies_metadata[col])\n",
    "\n",
    "# Fill missing titles (if any) with original_title\n",
    "movies_metadata['title'] = movies_metadata['title'].fillna(movies_metadata['original_title'])\n",
    "\n",
    "# Handle JSON columns\n",
    "movies_metadata['homepage'] = movies_metadata['homepage'].apply(parse_json_safe)"
   ]
  },
  {
   "cell_type": "code",
   "execution_count": 13,
   "id": "f12ad2e8",
   "metadata": {},
   "outputs": [],
   "source": [
    "movies_metadata['release_date'] = pd.to_datetime(movies_metadata['release_date'], errors='coerce')\n",
    "movies_metadata = movies_metadata.dropna(subset=['imdb_id'])"
   ]
  },
  {
   "cell_type": "code",
   "execution_count": 14,
   "id": "720bd14c",
   "metadata": {},
   "outputs": [
    {
     "data": {
      "application/vnd.microsoft.datawrangler.viewer.v0+json": {
       "columns": [
        {
         "name": "index",
         "rawType": "object",
         "type": "string"
        },
        {
         "name": "0",
         "rawType": "int64",
         "type": "integer"
        }
       ],
       "ref": "643d6215-578a-4f23-a83c-279f04e3bf19",
       "rows": [
        [
         "adult",
         "0"
        ],
        [
         "belongs_to_collection",
         "0"
        ],
        [
         "budget",
         "0"
        ],
        [
         "genres",
         "0"
        ],
        [
         "homepage",
         "0"
        ],
        [
         "id",
         "0"
        ],
        [
         "imdb_id",
         "0"
        ],
        [
         "original_language",
         "0"
        ],
        [
         "original_title",
         "0"
        ],
        [
         "overview",
         "0"
        ],
        [
         "popularity",
         "0"
        ],
        [
         "poster_path",
         "0"
        ],
        [
         "production_companies",
         "0"
        ],
        [
         "production_countries",
         "0"
        ],
        [
         "release_date",
         "84"
        ],
        [
         "revenue",
         "0"
        ],
        [
         "runtime",
         "0"
        ],
        [
         "spoken_languages",
         "0"
        ],
        [
         "status",
         "0"
        ],
        [
         "tagline",
         "0"
        ],
        [
         "title",
         "0"
        ],
        [
         "video",
         "0"
        ],
        [
         "vote_average",
         "0"
        ],
        [
         "vote_count",
         "0"
        ],
        [
         "genres_list",
         "0"
        ]
       ],
       "shape": {
        "columns": 1,
        "rows": 25
       }
      },
      "text/plain": [
       "adult                     0\n",
       "belongs_to_collection     0\n",
       "budget                    0\n",
       "genres                    0\n",
       "homepage                  0\n",
       "id                        0\n",
       "imdb_id                   0\n",
       "original_language         0\n",
       "original_title            0\n",
       "overview                  0\n",
       "popularity                0\n",
       "poster_path               0\n",
       "production_companies      0\n",
       "production_countries      0\n",
       "release_date             84\n",
       "revenue                   0\n",
       "runtime                   0\n",
       "spoken_languages          0\n",
       "status                    0\n",
       "tagline                   0\n",
       "title                     0\n",
       "video                     0\n",
       "vote_average              0\n",
       "vote_count                0\n",
       "genres_list               0\n",
       "dtype: int64"
      ]
     },
     "execution_count": 14,
     "metadata": {},
     "output_type": "execute_result"
    }
   ],
   "source": [
    "movies_metadata.isna().sum()"
   ]
  },
  {
   "cell_type": "markdown",
   "id": "f5d025c4",
   "metadata": {},
   "source": [
    "# Task1"
   ]
  },
  {
   "cell_type": "markdown",
   "id": "d0d4ddd3",
   "metadata": {},
   "source": [
    "##  Distribution of Ratings"
   ]
  },
  {
   "cell_type": "code",
   "execution_count": 15,
   "id": "831d8f7c",
   "metadata": {},
   "outputs": [
    {
     "name": "stdout",
     "output_type": "stream",
     "text": [
      "Total ratings: 26024289\n",
      "count    2.602429e+07\n",
      "mean     3.528090e+00\n",
      "std      1.065443e+00\n",
      "min      5.000000e-01\n",
      "25%      3.000000e+00\n",
      "50%      3.500000e+00\n",
      "75%      4.000000e+00\n",
      "max      5.000000e+00\n",
      "Name: rating, dtype: float64\n"
     ]
    },
    {
     "data": {
      "image/png": "[encoded data removed]",
      "text/plain": [
       "<Figure size 800x500 with 1 Axes>"
      ]
     },
     "metadata": {},
     "output_type": "display_data"
    }
   ],
   "source": [
    "import matplotlib.pyplot as plt\n",
    "import seaborn as sns\n",
    "\n",
    "# Example: ratings column assumed to be 'rating'\n",
    "print(f\"Total ratings: {len(ratings)}\")\n",
    "print(ratings['rating'].describe())\n",
    "\n",
    "plt.figure(figsize=(8,5))\n",
    "sns.histplot(ratings['rating'], bins=20, kde=False)\n",
    "plt.title(\"Rating Distribution\")\n",
    "plt.xlabel(\"Rating\")\n",
    "plt.ylabel(\"Count\")\n",
    "plt.show()\n"
   ]
  },
  {
   "cell_type": "markdown",
   "id": "1bf28644",
   "metadata": {},
   "source": [
    "##  Long-Tail of Users and Movies"
   ]
  },
  {
   "cell_type": "code",
   "execution_count": 16,
   "id": "a17fb574",
   "metadata": {},
   "outputs": [
    {
     "name": "stdout",
     "output_type": "stream",
     "text": [
      "Users: 270896, mean ratings per user: 96.07\n"
     ]
    },
    {
     "data": {
      "image/png": "[encoded data removed]",
      "text/plain": [
       "<Figure size 800x500 with 1 Axes>"
      ]
     },
     "metadata": {},
     "output_type": "display_data"
    },
    {
     "name": "stdout",
     "output_type": "stream",
     "text": [
      "Movies: 45115, mean ratings per movie: 576.84\n"
     ]
    },
    {
     "data": {
      "image/png": "[encoded data removed]",
      "text/plain": [
       "<Figure size 800x500 with 1 Axes>"
      ]
     },
     "metadata": {},
     "output_type": "display_data"
    }
   ],
   "source": [
    "# Ratings per user\n",
    "user_counts = ratings.groupby('userId').size()\n",
    "print(f\"Users: {user_counts.count()}, mean ratings per user: {user_counts.mean():.2f}\")\n",
    "\n",
    "plt.figure(figsize=(8,5))\n",
    "sns.histplot(user_counts, bins=50, log_scale=(True, False))\n",
    "plt.title(\"Ratings per User (Log Scale)\")\n",
    "plt.xlabel(\"Number of Ratings\")\n",
    "plt.ylabel(\"Number of Users\")\n",
    "plt.show()\n",
    "\n",
    "# Ratings per movie\n",
    "movie_counts = ratings.groupby('movieId').size()\n",
    "print(f\"Movies: {movie_counts.count()}, mean ratings per movie: {movie_counts.mean():.2f}\")\n",
    "\n",
    "plt.figure(figsize=(8,5))\n",
    "sns.histplot(movie_counts, bins=50, log_scale=(True, False))\n",
    "plt.title(\"Ratings per Movie (Log Scale)\")\n",
    "plt.xlabel(\"Number of Ratings\")\n",
    "plt.ylabel(\"Number of Movies\")\n",
    "plt.show()"
   ]
  },
  {
   "cell_type": "markdown",
   "id": "d7cb6f5b",
   "metadata": {},
   "source": [
    "## Sparsity"
   ]
  },
  {
   "cell_type": "code",
   "execution_count": 17,
   "id": "e76f9133",
   "metadata": {},
   "outputs": [
    {
     "name": "stdout",
     "output_type": "stream",
     "text": [
      "Sparsity of user-movie ratings matrix: 0.9979\n"
     ]
    },
    {
     "data": {
      "image/png": "[encoded data removed]",
      "text/plain": [
       "<Figure size 1000x800 with 1 Axes>"
      ]
     },
     "metadata": {},
     "output_type": "display_data"
    }
   ],
   "source": [
    "import numpy as np\n",
    "\n",
    "num_users = ratings['userId'].nunique()\n",
    "num_movies = ratings['movieId'].nunique()\n",
    "num_possible = num_users * num_movies\n",
    "num_actual = len(ratings)\n",
    "sparsity = 1 - (num_actual / num_possible)\n",
    "print(f\"Sparsity of user-movie ratings matrix: {sparsity:.4f}\")\n",
    "\n",
    "# Optional heatmap on subset (e.g., first 100 users & 100 movies)\n",
    "subset = ratings[(ratings['userId'].isin(user_counts.index[:100])) &\n",
    "                    (ratings['movieId'].isin(movie_counts.index[:100]))]\n",
    "\n",
    "pivot = subset.pivot(index='userId', columns='movieId', values='rating').fillna(0)\n",
    "plt.figure(figsize=(10,8))\n",
    "sns.heatmap(pivot, cbar=False)\n",
    "plt.title(\"Sparsity Heatmap (subset 100 users x 100 movies)\")\n",
    "plt.xlabel(\"Movies\")\n",
    "plt.ylabel(\"Users\")\n",
    "plt.show()"
   ]
  },
  {
   "cell_type": "markdown",
   "id": "389bb55d",
   "metadata": {},
   "source": [
    "##  Temporal Dynamics"
   ]
  },
  {
   "cell_type": "code",
   "execution_count": 18,
   "id": "0bccc2ec",
   "metadata": {},
   "outputs": [
    {
     "data": {
      "image/png": "[encoded data removed]",
      "text/plain": [
       "<Figure size 1200x500 with 1 Axes>"
      ]
     },
     "metadata": {},
     "output_type": "display_data"
    },
    {
     "data": {
      "image/png": "[encoded data removed]",
      "text/plain": [
       "<Figure size 1200x500 with 1 Axes>"
      ]
     },
     "metadata": {},
     "output_type": "display_data"
    }
   ],
   "source": [
    "ratings['datetime'] = pd.to_datetime(ratings['timestamp'], unit='s')  # or appropriate unit\n",
    "\n",
    "ratings['year_month'] = ratings['datetime'].dt.to_period('M')\n",
    "time_counts = ratings.groupby('year_month').size()\n",
    "\n",
    "plt.figure(figsize=(12,5))\n",
    "time_counts.plot()\n",
    "plt.title(\"Number of Ratings Over Time\")\n",
    "plt.xlabel(\"Year-Month\")\n",
    "plt.ylabel(\"Number of Ratings\")\n",
    "plt.show()\n",
    "\n",
    "# Average rating over time\n",
    "avg_rating_time = ratings.groupby('year_month')['rating'].mean()\n",
    "\n",
    "plt.figure(figsize=(12,5))\n",
    "avg_rating_time.plot()\n",
    "plt.title(\"Average Rating Over Time\")\n",
    "plt.xlabel(\"Year-Month\")\n",
    "plt.ylabel(\"Average Rating\")\n",
    "plt.show()\n"
   ]
  },
  {
   "cell_type": "markdown",
   "id": "875a7dcf",
   "metadata": {},
   "source": [
    "##  Coverage Across Genres, Languages, Countries"
   ]
  },
  {
   "cell_type": "code",
   "execution_count": 19,
   "id": "33b7bde1",
   "metadata": {},
   "outputs": [
    {
     "ename": "SyntaxError",
     "evalue": "invalid syntax (1146903916.py, line 1)",
     "output_type": "error",
     "traceback": [
      "\u001b[0;36m  Cell \u001b[0;32mIn[19], line 1\u001b[0;36m\u001b[0m\n\u001b[0;31m    import matplotlib.pyplot as plt jjkkkjj\u001b[0m\n\u001b[0m                                    ^\u001b[0m\n\u001b[0;31mSyntaxError\u001b[0m\u001b[0;31m:\u001b[0m invalid syntax\n"
     ]
    }
   ],
   "source": [
    "import matplotlib.pyplot as plt jjkkkjj\n",
    "import seaborn as sns\n",
    "\n",
    "print(f\"Ratings before join: {len(ratings)}\")\n",
    "print(f\"Movies before join: {len(movies_metadata)}\")\n",
    "\n",
    "# Merge ratings with movies_metadata on movieId (ratings) and id (movies_metadata)\n",
    "merged_df = ratings.merge(\n",
    "    movies_metadata[['id', 'genres', 'original_language', 'production_countries']],\n",
    "    left_on='movieId',\n",
    "    right_on='id',\n",
    "    how='left'\n",
    ")\n",
    "\n",
    "print(f\"Ratings after join: {len(merged_df)}\")\n",
    "\n",
    "# Handle genres column:\n",
    "# genres may be list of dicts like [{'id':..., 'name':...}, ...]\n",
    "def extract_genre_names(genres):\n",
    "    if isinstance(genres, list):\n",
    "        # Extract 'name' from each dict if possible\n",
    "        return [g['name'] if isinstance(g, dict) and 'name' in g else str(g) for g in genres]\n",
    "    elif isinstance(genres, str):\n",
    "        # If string, split by comma (if applicable)\n",
    "        return genres.split(',')\n",
    "    else:\n",
    "        return []\n",
    "\n",
    "merged_df['genres_list'] = merged_df['genres'].apply(extract_genre_names)\n",
    "\n",
    "# Explode genres for counting\n",
    "genres_exploded = merged_df.explode('genres_list')\n",
    "\n",
    "# Count genres occurrences\n",
    "genre_counts = genres_exploded['genres_list'].value_counts()\n",
    "\n",
    "print(\"Top genres by rating counts:\")\n",
    "print(genre_counts.head(10))\n",
    "\n",
    "# Plot top 10 genres\n",
    "plt.figure(figsize=(10,6))\n",
    "sns.barplot(x=genre_counts.head(10).values, y=genre_counts.head(10).index)\n",
    "plt.title(\"Top 10 Genres by Number of Ratings\")\n",
    "plt.xlabel(\"Number of Ratings\")\n",
    "plt.ylabel(\"Genre\")\n",
    "plt.show()\n",
    "\n",
    "# Language distribution\n",
    "language_counts = merged_df['original_language'].value_counts()\n",
    "print(\"Top languages by number of ratings:\")\n",
    "print(language_counts.head(10))\n",
    "\n",
    "# Handle production_countries column:\n",
    "# production_countries may be list of dicts like [{'iso_3166_1':..., 'name':...}, ...]\n",
    "def extract_country_names(countries):\n",
    "    if isinstance(countries, list):\n",
    "        return [c['name'] if isinstance(c, dict) and 'name' in c else str(c) for c in countries]\n",
    "    elif isinstance(countries, str):\n",
    "        return countries.split(',')\n",
    "    else:\n",
    "        return []\n",
    "\n",
    "merged_df['countries_list'] = merged_df['production_countries'].apply(extract_country_names)\n",
    "\n",
    "# Explode countries for counting\n",
    "countries_exploded = merged_df.explode('countries_list')\n",
    "\n",
    "country_counts = countries_exploded['countries_list'].value_counts()\n",
    "\n",
    "print(\"Top countries by number of ratings:\")\n",
    "print(country_counts.head(10))\n"
   ]
  },
  {
   "cell_type": "markdown",
   "id": "a3c53a58",
   "metadata": {},
   "source": [
    "## Document row counts before and after join/filter"
   ]
  },
  {
   "cell_type": "code",
   "execution_count": null,
   "id": "44b07890",
   "metadata": {},
   "outputs": [],
   "source": [
    "print(f\"Ratings rows before filtering: {len(ratings)}\")\n",
    "filtered_df = merged_df[merged_df['genres'].notnull()]\n",
    "print(f\"Rows after filtering for non-null genres: {len(filtered_df)}\")"
   ]
  },
  {
   "cell_type": "markdown",
   "id": "77c91bbe",
   "metadata": {},
   "source": [
    "## Task2"
   ]
  },
  {
   "cell_type": "code",
   "execution_count": 20,
   "id": "a722302a",
   "metadata": {},
   "outputs": [
    {
     "name": "stdout",
     "output_type": "stream",
     "text": [
      "Global mean rating C: 6.00\n",
      "Minimum votes threshold m (80th percentile): 56\n",
      "                        original_title  vote_count  vote_average  \\\n",
      "10309      Dilwale Dulhania Le Jayenge       661.0           9.1   \n",
      "314           The Shawshank Redemption      8358.0           8.5   \n",
      "834                      The Godfather      6024.0           8.5   \n",
      "40251                            君の名は。      1030.0           8.5   \n",
      "12481                  The Dark Knight     12269.0           8.3   \n",
      "2843                        Fight Club      9678.0           8.3   \n",
      "292                       Pulp Fiction      8670.0           8.3   \n",
      "522                   Schindler's List      4436.0           8.3   \n",
      "23673                         Whiplash      4376.0           8.3   \n",
      "5481                          千と千尋の神隠し      3968.0           8.3   \n",
      "2211                   La vita è bella      3643.0           8.3   \n",
      "1178            The Godfather: Part II      3418.0           8.3   \n",
      "1152   One Flew Over the Cuckoo's Nest      3001.0           8.3   \n",
      "1176                            Psycho      2405.0           8.3   \n",
      "1184       Once Upon a Time in America      1104.0           8.3   \n",
      "351                       Forrest Gump      8147.0           8.2   \n",
      "1154           The Empire Strikes Back      5998.0           8.2   \n",
      "18465                     Intouchables      5410.0           8.2   \n",
      "289                               Léon      4293.0           8.2   \n",
      "3030                    The Green Mile      4166.0           8.2   \n",
      "\n",
      "       weighted_rating  \n",
      "10309         8.857949  \n",
      "314           8.483367  \n",
      "834           8.476982  \n",
      "40251         8.371132  \n",
      "12481         8.289554  \n",
      "2843          8.286773  \n",
      "292           8.285245  \n",
      "522           8.271338  \n",
      "23673         8.270950  \n",
      "5481          8.268004  \n",
      "2211          8.265193  \n",
      "1178          8.262939  \n",
      "1152          8.257883  \n",
      "1176          8.247684  \n",
      "1184          8.189008  \n",
      "351           8.184987  \n",
      "1154          8.179658  \n",
      "18465         8.177470  \n",
      "289           8.171683  \n",
      "3030          8.170831  \n"
     ]
    }
   ],
   "source": [
    "# Assuming you saved your original raw dataframe somewhere or reload it\n",
    "\n",
    "# Convert to numeric safely\n",
    "movies_raw['vote_count'] = pd.to_numeric(movies_raw['vote_count'], errors='coerce')\n",
    "movies_raw['vote_average'] = pd.to_numeric(movies_raw['vote_average'], errors='coerce')\n",
    "\n",
    "# Drop rows with missing or zero vote counts if you want\n",
    "movies_raw = movies_raw.dropna(subset=['vote_count', 'vote_average'])\n",
    "movies_raw = movies_raw[movies_raw['vote_count'] > 0]\n",
    "\n",
    "# Calculate C and m\n",
    "C = movies_raw['vote_average'].mean()\n",
    "m = movies_raw['vote_count'].quantile(0.80)\n",
    "\n",
    "print(f\"Global mean rating C: {C:.2f}\")\n",
    "print(f\"Minimum votes threshold m (80th percentile): {m:.0f}\")\n",
    "\n",
    "qualified = movies_raw[movies_raw['vote_count'] >= m].copy()\n",
    "\n",
    "v = qualified['vote_count']\n",
    "R = qualified['vote_average']\n",
    "\n",
    "qualified['weighted_rating'] = (v / (v + m)) * R + (m / (v + m)) * C\n",
    "\n",
    "top_movies = qualified.sort_values('weighted_rating', ascending=False).head(20)\n",
    "\n",
    "print(top_movies[['original_title', 'vote_count', 'vote_average', 'weighted_rating']])\n"
   ]
  },
  {
   "cell_type": "code",
   "execution_count": 21,
   "id": "ba3cbc0b",
   "metadata": {},
   "outputs": [
    {
     "data": {
      "application/vnd.microsoft.datawrangler.viewer.v0+json": {
       "columns": [
        {
         "name": "index",
         "rawType": "object",
         "type": "string"
        },
        {
         "name": "vote_count",
         "rawType": "float64",
         "type": "float"
        }
       ],
       "ref": "ec057ebc-6388-4b20-8182-89b0a1413b39",
       "rows": [
        [
         "count",
         "45446.0"
        ],
        [
         "mean",
         "1.1783296435386696"
        ],
        [
         "std",
         "0.5007774004568711"
        ],
        [
         "min",
         "0.0"
        ],
        [
         "25%",
         "0.8697416861919438"
        ],
        [
         "50%",
         "1.223156202527103"
        ],
        [
         "75%",
         "1.5163019408528369"
        ],
        [
         "max",
         "2.1620643009344978"
        ]
       ],
       "shape": {
        "columns": 1,
        "rows": 8
       }
      },
      "text/plain": [
       "count    45446.000000\n",
       "mean         1.178330\n",
       "std          0.500777\n",
       "min          0.000000\n",
       "25%          0.869742\n",
       "50%          1.223156\n",
       "75%          1.516302\n",
       "max          2.162064\n",
       "Name: vote_count, dtype: float64"
      ]
     },
     "execution_count": 21,
     "metadata": {},
     "output_type": "execute_result"
    }
   ],
   "source": [
    "movies_metadata['vote_count'].describe()"
   ]
  },
  {
   "cell_type": "markdown",
   "id": "1f9f397e",
   "metadata": {},
   "source": [
    "## Task 3"
   ]
  },
  {
   "cell_type": "code",
   "execution_count": null,
   "id": "bb110f85",
   "metadata": {},
   "outputs": [],
   "source": [
    "from sklearn.feature_extraction.text import TfidfVectorizer\n",
    "from sklearn.preprocessing import MultiLabelBinarizer\n",
    "from sklearn.decomposition import TruncatedSVD\n",
    "from scipy.sparse import hstack, csr_matrix\n",
    "import ast  # for safely parsing strings to lists if needed\n",
    "\n",
    "# 1. Combine text fields (overview + tagline) for TF-IDF\n",
    "movies_metadata['text'] = movies_metadata['overview'].fillna('') + ' ' + movies_metadata['tagline'].fillna('')\n",
    "\n",
    "tfidf_vectorizer = TfidfVectorizer(max_features=5000, stop_words='english')\n",
    "tfidf_matrix = tfidf_vectorizer.fit_transform(movies_metadata['text'])\n",
    "\n",
    "# 2. Multi-hot encoding of genres\n",
    "mlb_genres = MultiLabelBinarizer()\n",
    "genres_encoded = mlb_genres.fit_transform(movies_metadata['genres_list'])\n",
    "\n",
    "# 3. Prepare keywords: merge and parse\n",
    "keywords['id'] = keywords['id'].astype(str)\n",
    "movies_metadata['id'] = movies_metadata['id'].astype(str)\n",
    "\n",
    "# Drop old keywords columns if any\n",
    "movies_metadata = movies_metadata.drop(columns=['keywords', 'keywords_x', 'keywords_y'], errors='ignore')\n",
    "\n",
    "# Rename keywords column before merging to avoid conflicts\n",
    "keywords = keywords.rename(columns={'keywords': 'keywords_kw'})\n",
    "\n",
    "movies_metadata = movies_metadata.merge(keywords, on='id', how='left')\n",
    "movies_metadata['keywords'] = movies_metadata['keywords_kw'].fillna('[]')\n",
    "movies_metadata = movies_metadata.drop(columns=['keywords_kw'])\n",
    "\n",
    "# Function to safely parse keywords column\n",
    "def parse_keywords(x):\n",
    "    if isinstance(x, list):\n",
    "        return x\n",
    "    try:\n",
    "        return ast.literal_eval(x)\n",
    "    except (ValueError, SyntaxError):\n",
    "        return []\n",
    "\n",
    "movies_metadata['keywords'] = movies_metadata['keywords'].apply(parse_keywords)\n",
    "\n",
    "mlb_keywords = MultiLabelBinarizer()\n",
    "keywords_encoded = mlb_keywords.fit_transform(movies_metadata['keywords'])\n",
    "\n",
    "# 4. Multi-hot encoding for cast\n",
    "if 'top_cast_list' in movies_metadata.columns:\n",
    "    movies_metadata['top_cast_list'] = movies_metadata['top_cast_list'].fillna('[]').apply(parse_keywords)\n",
    "    mlb_cast = MultiLabelBinarizer()\n",
    "    cast_encoded = mlb_cast.fit_transform(movies_metadata['top_cast_list'])\n",
    "else:\n",
    "    cast_encoded = csr_matrix((len(movies_metadata), 0))\n",
    "\n",
    "# 5. Multi-hot encoding for crew\n",
    "if 'top_crew_list' in movies_metadata.columns:\n",
    "    movies_metadata['top_crew_list'] = movies_metadata['top_crew_list'].fillna('[]').apply(parse_keywords)\n",
    "    mlb_crew = MultiLabelBinarizer()\n",
    "    crew_encoded = mlb_crew.fit_transform(movies_metadata['top_crew_list'])\n",
    "else:\n",
    "    crew_encoded = csr_matrix((len(movies_metadata), 0))\n",
    "\n",
    "# 6. Concatenate all features into one sparse matrix\n",
    "item_vectors = hstack([tfidf_matrix, genres_encoded, keywords_encoded, cast_encoded, crew_encoded])\n",
    "\n",
    "print(\"Item vectors shape before SVD:\", item_vectors.shape)\n",
    "\n",
    "# 7. Optional: Dimensionality reduction with TruncatedSVD\n",
    "svd = TruncatedSVD(n_components=200, random_state=42)\n",
    "item_vectors_reduced = svd.fit_transform(item_vectors)\n",
    "\n",
    "print(\"Item vectors shape after SVD:\", item_vectors_reduced.shape)\n"
   ]
  },
  {
   "cell_type": "code",
   "execution_count": 22,
   "id": "af274947",
   "metadata": {},
   "outputs": [
    {
     "ename": "NameError",
     "evalue": "name 'item_vectors_reduced' is not defined",
     "output_type": "error",
     "traceback": [
      "\u001b[0;31m---------------------------------------------------------------------------\u001b[0m",
      "\u001b[0;31mNameError\u001b[0m                                 Traceback (most recent call last)",
      "Cell \u001b[0;32mIn[22], line 5\u001b[0m\n\u001b[1;32m      3\u001b[0m movieId_to_idx \u001b[38;5;241m=\u001b[39m {mid: idx \u001b[38;5;28;01mfor\u001b[39;00m idx, mid \u001b[38;5;129;01min\u001b[39;00m \u001b[38;5;28menumerate\u001b[39m(movies_metadata[\u001b[38;5;124m'\u001b[39m\u001b[38;5;124mid\u001b[39m\u001b[38;5;124m'\u001b[39m])}\n\u001b[1;32m      4\u001b[0m global_mean_rating \u001b[38;5;241m=\u001b[39m ratings[\u001b[38;5;124m'\u001b[39m\u001b[38;5;124mrating\u001b[39m\u001b[38;5;124m'\u001b[39m]\u001b[38;5;241m.\u001b[39mmean()\n\u001b[0;32m----> 5\u001b[0m global_popularity_vector \u001b[38;5;241m=\u001b[39m np\u001b[38;5;241m.\u001b[39mmean(\u001b[43mitem_vectors_reduced\u001b[49m, axis\u001b[38;5;241m=\u001b[39m\u001b[38;5;241m0\u001b[39m)\n\u001b[1;32m      7\u001b[0m \u001b[38;5;28;01mdef\u001b[39;00m \u001b[38;5;21mbuild_user_profile\u001b[39m(user_ratings):\n\u001b[1;32m      8\u001b[0m     indices \u001b[38;5;241m=\u001b[39m [movieId_to_idx[m] \u001b[38;5;28;01mfor\u001b[39;00m m \u001b[38;5;129;01min\u001b[39;00m user_ratings[\u001b[38;5;124m'\u001b[39m\u001b[38;5;124mmovieId\u001b[39m\u001b[38;5;124m'\u001b[39m] \u001b[38;5;28;01mif\u001b[39;00m m \u001b[38;5;129;01min\u001b[39;00m movieId_to_idx]\n",
      "\u001b[0;31mNameError\u001b[0m: name 'item_vectors_reduced' is not defined"
     ]
    }
   ],
   "source": [
    "import numpy as np\n",
    "\n",
    "movieId_to_idx = {mid: idx for idx, mid in enumerate(movies_metadata['id'])}\n",
    "global_mean_rating = ratings['rating'].mean()\n",
    "global_popularity_vector = np.mean(item_vectors_reduced, axis=0)\n",
    "\n",
    "def build_user_profile(user_ratings):\n",
    "    indices = [movieId_to_idx[m] for m in user_ratings['movieId'] if m in movieId_to_idx]\n",
    "    ratings_values = user_ratings.loc[user_ratings['movieId'].isin(movieId_to_idx), 'rating'].values\n",
    "    \n",
    "    if len(indices) == 0:\n",
    "        # Cold start: return global defaults\n",
    "        return global_popularity_vector, global_mean_rating\n",
    "    \n",
    "    vectors = item_vectors_reduced[indices]\n",
    "    mean_rating = ratings_values.mean()\n",
    "    weights = ratings_values - mean_rating\n",
    "    \n",
    "    # Weighted average; add small epsilon to denominator to avoid division by zero if needed\n",
    "    if np.all(weights == 0):\n",
    "        user_profile = vectors.mean(axis=0)\n",
    "    else:\n",
    "        user_profile = np.average(vectors, axis=0, weights=weights)\n",
    "        \n",
    "    return user_profile, mean_rating\n",
    "\n",
    "# Example usage:\n",
    "user_ratings = ratings[ratings['userId'] == 123]\n",
    "profile, user_mean = build_user_profile(user_ratings)\n",
    "\n",
    "print(profile, user_mean)\n"
   ]
  },
  {
   "cell_type": "markdown",
   "id": "3fccf390",
   "metadata": {},
   "source": [
    "## Task4"
   ]
  },
  {
   "cell_type": "code",
   "execution_count": 23,
   "id": "8d375052",
   "metadata": {},
   "outputs": [
    {
     "ename": "KeyboardInterrupt",
     "evalue": "",
     "output_type": "error",
     "traceback": [
      "\u001b[0;31m---------------------------------------------------------------------------\u001b[0m",
      "\u001b[0;31mKeyboardInterrupt\u001b[0m                         Traceback (most recent call last)",
      "Cell \u001b[0;32mIn[23], line 206\u001b[0m\n\u001b[1;32m    199\u001b[0m         \u001b[38;5;28;01mreturn\u001b[39;00m mu\n\u001b[1;32m    201\u001b[0m \u001b[38;5;66;03m# ============================\u001b[39;00m\n\u001b[1;32m    202\u001b[0m \u001b[38;5;66;03m# Example usage:\u001b[39;00m\n\u001b[1;32m    203\u001b[0m \u001b[38;5;66;03m# ============================\u001b[39;00m\n\u001b[1;32m    204\u001b[0m \n\u001b[1;32m    205\u001b[0m \u001b[38;5;66;03m# Step 1: Filter ratings\u001b[39;00m\n\u001b[0;32m--> 206\u001b[0m ratings_filtered \u001b[38;5;241m=\u001b[39m \u001b[43mfilter_ratings\u001b[49m\u001b[43m(\u001b[49m\u001b[43mratings\u001b[49m\u001b[43m,\u001b[49m\u001b[43m \u001b[49m\u001b[43mmin_user\u001b[49m\u001b[38;5;241;43m=\u001b[39;49m\u001b[38;5;241;43m5\u001b[39;49m\u001b[43m,\u001b[49m\u001b[43m \u001b[49m\u001b[43mmin_movie\u001b[49m\u001b[38;5;241;43m=\u001b[39;49m\u001b[38;5;241;43m5\u001b[39;49m\u001b[43m)\u001b[49m\n\u001b[1;32m    208\u001b[0m \u001b[38;5;66;03m# Step 2: Build matrix & baseline\u001b[39;00m\n\u001b[1;32m    209\u001b[0m R, mu, bu, bi, uid_to_idx, mid_to_idx \u001b[38;5;241m=\u001b[39m build_rating_matrix_and_baselines(ratings_filtered)\n",
      "Cell \u001b[0;32mIn[23], line 12\u001b[0m, in \u001b[0;36mfilter_ratings\u001b[0;34m(ratings, min_user, min_movie)\u001b[0m\n\u001b[1;32m     10\u001b[0m user_counts \u001b[38;5;241m=\u001b[39m ratings[\u001b[38;5;124m'\u001b[39m\u001b[38;5;124muserId\u001b[39m\u001b[38;5;124m'\u001b[39m]\u001b[38;5;241m.\u001b[39mvalue_counts()\n\u001b[1;32m     11\u001b[0m movie_counts \u001b[38;5;241m=\u001b[39m ratings[\u001b[38;5;124m'\u001b[39m\u001b[38;5;124mmovieId\u001b[39m\u001b[38;5;124m'\u001b[39m]\u001b[38;5;241m.\u001b[39mvalue_counts()\n\u001b[0;32m---> 12\u001b[0m filtered \u001b[38;5;241m=\u001b[39m \u001b[43mratings\u001b[49m\u001b[43m[\u001b[49m\n\u001b[1;32m     13\u001b[0m \u001b[43m    \u001b[49m\u001b[43mratings\u001b[49m\u001b[43m[\u001b[49m\u001b[38;5;124;43m'\u001b[39;49m\u001b[38;5;124;43muserId\u001b[39;49m\u001b[38;5;124;43m'\u001b[39;49m\u001b[43m]\u001b[49m\u001b[38;5;241;43m.\u001b[39;49m\u001b[43misin\u001b[49m\u001b[43m(\u001b[49m\u001b[43muser_counts\u001b[49m\u001b[43m[\u001b[49m\u001b[43muser_counts\u001b[49m\u001b[43m \u001b[49m\u001b[38;5;241;43m>\u001b[39;49m\u001b[38;5;241;43m=\u001b[39;49m\u001b[43m \u001b[49m\u001b[43mmin_user\u001b[49m\u001b[43m]\u001b[49m\u001b[38;5;241;43m.\u001b[39;49m\u001b[43mindex\u001b[49m\u001b[43m)\u001b[49m\u001b[43m \u001b[49m\u001b[38;5;241;43m&\u001b[39;49m\n\u001b[1;32m     14\u001b[0m \u001b[43m    \u001b[49m\u001b[43mratings\u001b[49m\u001b[43m[\u001b[49m\u001b[38;5;124;43m'\u001b[39;49m\u001b[38;5;124;43mmovieId\u001b[39;49m\u001b[38;5;124;43m'\u001b[39;49m\u001b[43m]\u001b[49m\u001b[38;5;241;43m.\u001b[39;49m\u001b[43misin\u001b[49m\u001b[43m(\u001b[49m\u001b[43mmovie_counts\u001b[49m\u001b[43m[\u001b[49m\u001b[43mmovie_counts\u001b[49m\u001b[43m \u001b[49m\u001b[38;5;241;43m>\u001b[39;49m\u001b[38;5;241;43m=\u001b[39;49m\u001b[43m \u001b[49m\u001b[43mmin_movie\u001b[49m\u001b[43m]\u001b[49m\u001b[38;5;241;43m.\u001b[39;49m\u001b[43mindex\u001b[49m\u001b[43m)\u001b[49m\n\u001b[1;32m     15\u001b[0m \u001b[43m\u001b[49m\u001b[43m]\u001b[49m\u001b[38;5;241m.\u001b[39mcopy()\n\u001b[1;32m     16\u001b[0m \u001b[38;5;28;01mreturn\u001b[39;00m filtered\n",
      "File \u001b[0;32m/Library/Frameworks/Python.framework/Versions/3.10/lib/python3.10/site-packages/pandas/core/frame.py:4093\u001b[0m, in \u001b[0;36mDataFrame.__getitem__\u001b[0;34m(self, key)\u001b[0m\n\u001b[1;32m   4091\u001b[0m \u001b[38;5;66;03m# Do we have a (boolean) 1d indexer?\u001b[39;00m\n\u001b[1;32m   4092\u001b[0m \u001b[38;5;28;01mif\u001b[39;00m com\u001b[38;5;241m.\u001b[39mis_bool_indexer(key):\n\u001b[0;32m-> 4093\u001b[0m     \u001b[38;5;28;01mreturn\u001b[39;00m \u001b[38;5;28;43mself\u001b[39;49m\u001b[38;5;241;43m.\u001b[39;49m\u001b[43m_getitem_bool_array\u001b[49m\u001b[43m(\u001b[49m\u001b[43mkey\u001b[49m\u001b[43m)\u001b[49m\n\u001b[1;32m   4095\u001b[0m \u001b[38;5;66;03m# We are left with two options: a single key, and a collection of keys,\u001b[39;00m\n\u001b[1;32m   4096\u001b[0m \u001b[38;5;66;03m# We interpret tuples as collections only for non-MultiIndex\u001b[39;00m\n\u001b[1;32m   4097\u001b[0m is_single_key \u001b[38;5;241m=\u001b[39m \u001b[38;5;28misinstance\u001b[39m(key, \u001b[38;5;28mtuple\u001b[39m) \u001b[38;5;129;01mor\u001b[39;00m \u001b[38;5;129;01mnot\u001b[39;00m is_list_like(key)\n",
      "File \u001b[0;32m/Library/Frameworks/Python.framework/Versions/3.10/lib/python3.10/site-packages/pandas/core/frame.py:4155\u001b[0m, in \u001b[0;36mDataFrame._getitem_bool_array\u001b[0;34m(self, key)\u001b[0m\n\u001b[1;32m   4152\u001b[0m     \u001b[38;5;28;01mreturn\u001b[39;00m \u001b[38;5;28mself\u001b[39m\u001b[38;5;241m.\u001b[39mcopy(deep\u001b[38;5;241m=\u001b[39m\u001b[38;5;28;01mNone\u001b[39;00m)\n\u001b[1;32m   4154\u001b[0m indexer \u001b[38;5;241m=\u001b[39m key\u001b[38;5;241m.\u001b[39mnonzero()[\u001b[38;5;241m0\u001b[39m]\n\u001b[0;32m-> 4155\u001b[0m \u001b[38;5;28;01mreturn\u001b[39;00m \u001b[38;5;28;43mself\u001b[39;49m\u001b[38;5;241;43m.\u001b[39;49m\u001b[43m_take_with_is_copy\u001b[49m\u001b[43m(\u001b[49m\u001b[43mindexer\u001b[49m\u001b[43m,\u001b[49m\u001b[43m \u001b[49m\u001b[43maxis\u001b[49m\u001b[38;5;241;43m=\u001b[39;49m\u001b[38;5;241;43m0\u001b[39;49m\u001b[43m)\u001b[49m\n",
      "File \u001b[0;32m/Library/Frameworks/Python.framework/Versions/3.10/lib/python3.10/site-packages/pandas/core/generic.py:4153\u001b[0m, in \u001b[0;36mNDFrame._take_with_is_copy\u001b[0;34m(self, indices, axis)\u001b[0m\n\u001b[1;32m   4142\u001b[0m \u001b[38;5;129m@final\u001b[39m\n\u001b[1;32m   4143\u001b[0m \u001b[38;5;28;01mdef\u001b[39;00m \u001b[38;5;21m_take_with_is_copy\u001b[39m(\u001b[38;5;28mself\u001b[39m, indices, axis: Axis \u001b[38;5;241m=\u001b[39m \u001b[38;5;241m0\u001b[39m) \u001b[38;5;241m-\u001b[39m\u001b[38;5;241m>\u001b[39m Self:\n\u001b[1;32m   4144\u001b[0m \u001b[38;5;250m    \u001b[39m\u001b[38;5;124;03m\"\"\"\u001b[39;00m\n\u001b[1;32m   4145\u001b[0m \u001b[38;5;124;03m    Internal version of the `take` method that sets the `_is_copy`\u001b[39;00m\n\u001b[1;32m   4146\u001b[0m \u001b[38;5;124;03m    attribute to keep track of the parent dataframe (using in indexing\u001b[39;00m\n\u001b[0;32m   (...)\u001b[0m\n\u001b[1;32m   4151\u001b[0m \u001b[38;5;124;03m    See the docstring of `take` for full explanation of the parameters.\u001b[39;00m\n\u001b[1;32m   4152\u001b[0m \u001b[38;5;124;03m    \"\"\"\u001b[39;00m\n\u001b[0;32m-> 4153\u001b[0m     result \u001b[38;5;241m=\u001b[39m \u001b[38;5;28;43mself\u001b[39;49m\u001b[38;5;241;43m.\u001b[39;49m\u001b[43mtake\u001b[49m\u001b[43m(\u001b[49m\u001b[43mindices\u001b[49m\u001b[38;5;241;43m=\u001b[39;49m\u001b[43mindices\u001b[49m\u001b[43m,\u001b[49m\u001b[43m \u001b[49m\u001b[43maxis\u001b[49m\u001b[38;5;241;43m=\u001b[39;49m\u001b[43maxis\u001b[49m\u001b[43m)\u001b[49m\n\u001b[1;32m   4154\u001b[0m     \u001b[38;5;66;03m# Maybe set copy if we didn't actually change the index.\u001b[39;00m\n\u001b[1;32m   4155\u001b[0m     \u001b[38;5;28;01mif\u001b[39;00m \u001b[38;5;28mself\u001b[39m\u001b[38;5;241m.\u001b[39mndim \u001b[38;5;241m==\u001b[39m \u001b[38;5;241m2\u001b[39m \u001b[38;5;129;01mand\u001b[39;00m \u001b[38;5;129;01mnot\u001b[39;00m result\u001b[38;5;241m.\u001b[39m_get_axis(axis)\u001b[38;5;241m.\u001b[39mequals(\u001b[38;5;28mself\u001b[39m\u001b[38;5;241m.\u001b[39m_get_axis(axis)):\n",
      "File \u001b[0;32m/Library/Frameworks/Python.framework/Versions/3.10/lib/python3.10/site-packages/pandas/core/generic.py:4133\u001b[0m, in \u001b[0;36mNDFrame.take\u001b[0;34m(self, indices, axis, **kwargs)\u001b[0m\n\u001b[1;32m   4128\u001b[0m     \u001b[38;5;66;03m# We can get here with a slice via DataFrame.__getitem__\u001b[39;00m\n\u001b[1;32m   4129\u001b[0m     indices \u001b[38;5;241m=\u001b[39m np\u001b[38;5;241m.\u001b[39marange(\n\u001b[1;32m   4130\u001b[0m         indices\u001b[38;5;241m.\u001b[39mstart, indices\u001b[38;5;241m.\u001b[39mstop, indices\u001b[38;5;241m.\u001b[39mstep, dtype\u001b[38;5;241m=\u001b[39mnp\u001b[38;5;241m.\u001b[39mintp\n\u001b[1;32m   4131\u001b[0m     )\n\u001b[0;32m-> 4133\u001b[0m new_data \u001b[38;5;241m=\u001b[39m \u001b[38;5;28;43mself\u001b[39;49m\u001b[38;5;241;43m.\u001b[39;49m\u001b[43m_mgr\u001b[49m\u001b[38;5;241;43m.\u001b[39;49m\u001b[43mtake\u001b[49m\u001b[43m(\u001b[49m\n\u001b[1;32m   4134\u001b[0m \u001b[43m    \u001b[49m\u001b[43mindices\u001b[49m\u001b[43m,\u001b[49m\n\u001b[1;32m   4135\u001b[0m \u001b[43m    \u001b[49m\u001b[43maxis\u001b[49m\u001b[38;5;241;43m=\u001b[39;49m\u001b[38;5;28;43mself\u001b[39;49m\u001b[38;5;241;43m.\u001b[39;49m\u001b[43m_get_block_manager_axis\u001b[49m\u001b[43m(\u001b[49m\u001b[43maxis\u001b[49m\u001b[43m)\u001b[49m\u001b[43m,\u001b[49m\n\u001b[1;32m   4136\u001b[0m \u001b[43m    \u001b[49m\u001b[43mverify\u001b[49m\u001b[38;5;241;43m=\u001b[39;49m\u001b[38;5;28;43;01mTrue\u001b[39;49;00m\u001b[43m,\u001b[49m\n\u001b[1;32m   4137\u001b[0m \u001b[43m\u001b[49m\u001b[43m)\u001b[49m\n\u001b[1;32m   4138\u001b[0m \u001b[38;5;28;01mreturn\u001b[39;00m \u001b[38;5;28mself\u001b[39m\u001b[38;5;241m.\u001b[39m_constructor_from_mgr(new_data, axes\u001b[38;5;241m=\u001b[39mnew_data\u001b[38;5;241m.\u001b[39maxes)\u001b[38;5;241m.\u001b[39m__finalize__(\n\u001b[1;32m   4139\u001b[0m     \u001b[38;5;28mself\u001b[39m, method\u001b[38;5;241m=\u001b[39m\u001b[38;5;124m\"\u001b[39m\u001b[38;5;124mtake\u001b[39m\u001b[38;5;124m\"\u001b[39m\n\u001b[1;32m   4140\u001b[0m )\n",
      "File \u001b[0;32m/Library/Frameworks/Python.framework/Versions/3.10/lib/python3.10/site-packages/pandas/core/internals/managers.py:894\u001b[0m, in \u001b[0;36mBaseBlockManager.take\u001b[0;34m(self, indexer, axis, verify)\u001b[0m\n\u001b[1;32m    891\u001b[0m indexer \u001b[38;5;241m=\u001b[39m maybe_convert_indices(indexer, n, verify\u001b[38;5;241m=\u001b[39mverify)\n\u001b[1;32m    893\u001b[0m new_labels \u001b[38;5;241m=\u001b[39m \u001b[38;5;28mself\u001b[39m\u001b[38;5;241m.\u001b[39maxes[axis]\u001b[38;5;241m.\u001b[39mtake(indexer)\n\u001b[0;32m--> 894\u001b[0m \u001b[38;5;28;01mreturn\u001b[39;00m \u001b[38;5;28;43mself\u001b[39;49m\u001b[38;5;241;43m.\u001b[39;49m\u001b[43mreindex_indexer\u001b[49m\u001b[43m(\u001b[49m\n\u001b[1;32m    895\u001b[0m \u001b[43m    \u001b[49m\u001b[43mnew_axis\u001b[49m\u001b[38;5;241;43m=\u001b[39;49m\u001b[43mnew_labels\u001b[49m\u001b[43m,\u001b[49m\n\u001b[1;32m    896\u001b[0m \u001b[43m    \u001b[49m\u001b[43mindexer\u001b[49m\u001b[38;5;241;43m=\u001b[39;49m\u001b[43mindexer\u001b[49m\u001b[43m,\u001b[49m\n\u001b[1;32m    897\u001b[0m \u001b[43m    \u001b[49m\u001b[43maxis\u001b[49m\u001b[38;5;241;43m=\u001b[39;49m\u001b[43maxis\u001b[49m\u001b[43m,\u001b[49m\n\u001b[1;32m    898\u001b[0m \u001b[43m    \u001b[49m\u001b[43mallow_dups\u001b[49m\u001b[38;5;241;43m=\u001b[39;49m\u001b[38;5;28;43;01mTrue\u001b[39;49;00m\u001b[43m,\u001b[49m\n\u001b[1;32m    899\u001b[0m \u001b[43m    \u001b[49m\u001b[43mcopy\u001b[49m\u001b[38;5;241;43m=\u001b[39;49m\u001b[38;5;28;43;01mNone\u001b[39;49;00m\u001b[43m,\u001b[49m\n\u001b[1;32m    900\u001b[0m \u001b[43m\u001b[49m\u001b[43m)\u001b[49m\n",
      "File \u001b[0;32m/Library/Frameworks/Python.framework/Versions/3.10/lib/python3.10/site-packages/pandas/core/internals/managers.py:687\u001b[0m, in \u001b[0;36mBaseBlockManager.reindex_indexer\u001b[0;34m(self, new_axis, indexer, axis, fill_value, allow_dups, copy, only_slice, use_na_proxy)\u001b[0m\n\u001b[1;32m    680\u001b[0m     new_blocks \u001b[38;5;241m=\u001b[39m \u001b[38;5;28mself\u001b[39m\u001b[38;5;241m.\u001b[39m_slice_take_blocks_ax0(\n\u001b[1;32m    681\u001b[0m         indexer,\n\u001b[1;32m    682\u001b[0m         fill_value\u001b[38;5;241m=\u001b[39mfill_value,\n\u001b[1;32m    683\u001b[0m         only_slice\u001b[38;5;241m=\u001b[39monly_slice,\n\u001b[1;32m    684\u001b[0m         use_na_proxy\u001b[38;5;241m=\u001b[39muse_na_proxy,\n\u001b[1;32m    685\u001b[0m     )\n\u001b[1;32m    686\u001b[0m \u001b[38;5;28;01melse\u001b[39;00m:\n\u001b[0;32m--> 687\u001b[0m     new_blocks \u001b[38;5;241m=\u001b[39m [\n\u001b[1;32m    688\u001b[0m         blk\u001b[38;5;241m.\u001b[39mtake_nd(\n\u001b[1;32m    689\u001b[0m             indexer,\n\u001b[1;32m    690\u001b[0m             axis\u001b[38;5;241m=\u001b[39m\u001b[38;5;241m1\u001b[39m,\n\u001b[1;32m    691\u001b[0m             fill_value\u001b[38;5;241m=\u001b[39m(\n\u001b[1;32m    692\u001b[0m                 fill_value \u001b[38;5;28;01mif\u001b[39;00m fill_value \u001b[38;5;129;01mis\u001b[39;00m \u001b[38;5;129;01mnot\u001b[39;00m \u001b[38;5;28;01mNone\u001b[39;00m \u001b[38;5;28;01melse\u001b[39;00m blk\u001b[38;5;241m.\u001b[39mfill_value\n\u001b[1;32m    693\u001b[0m             ),\n\u001b[1;32m    694\u001b[0m         )\n\u001b[1;32m    695\u001b[0m         \u001b[38;5;28;01mfor\u001b[39;00m blk \u001b[38;5;129;01min\u001b[39;00m \u001b[38;5;28mself\u001b[39m\u001b[38;5;241m.\u001b[39mblocks\n\u001b[1;32m    696\u001b[0m     ]\n\u001b[1;32m    698\u001b[0m new_axes \u001b[38;5;241m=\u001b[39m \u001b[38;5;28mlist\u001b[39m(\u001b[38;5;28mself\u001b[39m\u001b[38;5;241m.\u001b[39maxes)\n\u001b[1;32m    699\u001b[0m new_axes[axis] \u001b[38;5;241m=\u001b[39m new_axis\n",
      "File \u001b[0;32m/Library/Frameworks/Python.framework/Versions/3.10/lib/python3.10/site-packages/pandas/core/internals/managers.py:688\u001b[0m, in \u001b[0;36m<listcomp>\u001b[0;34m(.0)\u001b[0m\n\u001b[1;32m    680\u001b[0m     new_blocks \u001b[38;5;241m=\u001b[39m \u001b[38;5;28mself\u001b[39m\u001b[38;5;241m.\u001b[39m_slice_take_blocks_ax0(\n\u001b[1;32m    681\u001b[0m         indexer,\n\u001b[1;32m    682\u001b[0m         fill_value\u001b[38;5;241m=\u001b[39mfill_value,\n\u001b[1;32m    683\u001b[0m         only_slice\u001b[38;5;241m=\u001b[39monly_slice,\n\u001b[1;32m    684\u001b[0m         use_na_proxy\u001b[38;5;241m=\u001b[39muse_na_proxy,\n\u001b[1;32m    685\u001b[0m     )\n\u001b[1;32m    686\u001b[0m \u001b[38;5;28;01melse\u001b[39;00m:\n\u001b[1;32m    687\u001b[0m     new_blocks \u001b[38;5;241m=\u001b[39m [\n\u001b[0;32m--> 688\u001b[0m         \u001b[43mblk\u001b[49m\u001b[38;5;241;43m.\u001b[39;49m\u001b[43mtake_nd\u001b[49m\u001b[43m(\u001b[49m\n\u001b[1;32m    689\u001b[0m \u001b[43m            \u001b[49m\u001b[43mindexer\u001b[49m\u001b[43m,\u001b[49m\n\u001b[1;32m    690\u001b[0m \u001b[43m            \u001b[49m\u001b[43maxis\u001b[49m\u001b[38;5;241;43m=\u001b[39;49m\u001b[38;5;241;43m1\u001b[39;49m\u001b[43m,\u001b[49m\n\u001b[1;32m    691\u001b[0m \u001b[43m            \u001b[49m\u001b[43mfill_value\u001b[49m\u001b[38;5;241;43m=\u001b[39;49m\u001b[43m(\u001b[49m\n\u001b[1;32m    692\u001b[0m \u001b[43m                \u001b[49m\u001b[43mfill_value\u001b[49m\u001b[43m \u001b[49m\u001b[38;5;28;43;01mif\u001b[39;49;00m\u001b[43m \u001b[49m\u001b[43mfill_value\u001b[49m\u001b[43m \u001b[49m\u001b[38;5;129;43;01mis\u001b[39;49;00m\u001b[43m \u001b[49m\u001b[38;5;129;43;01mnot\u001b[39;49;00m\u001b[43m \u001b[49m\u001b[38;5;28;43;01mNone\u001b[39;49;00m\u001b[43m \u001b[49m\u001b[38;5;28;43;01melse\u001b[39;49;00m\u001b[43m \u001b[49m\u001b[43mblk\u001b[49m\u001b[38;5;241;43m.\u001b[39;49m\u001b[43mfill_value\u001b[49m\n\u001b[1;32m    693\u001b[0m \u001b[43m            \u001b[49m\u001b[43m)\u001b[49m\u001b[43m,\u001b[49m\n\u001b[1;32m    694\u001b[0m \u001b[43m        \u001b[49m\u001b[43m)\u001b[49m\n\u001b[1;32m    695\u001b[0m         \u001b[38;5;28;01mfor\u001b[39;00m blk \u001b[38;5;129;01min\u001b[39;00m \u001b[38;5;28mself\u001b[39m\u001b[38;5;241m.\u001b[39mblocks\n\u001b[1;32m    696\u001b[0m     ]\n\u001b[1;32m    698\u001b[0m new_axes \u001b[38;5;241m=\u001b[39m \u001b[38;5;28mlist\u001b[39m(\u001b[38;5;28mself\u001b[39m\u001b[38;5;241m.\u001b[39maxes)\n\u001b[1;32m    699\u001b[0m new_axes[axis] \u001b[38;5;241m=\u001b[39m new_axis\n",
      "File \u001b[0;32m/Library/Frameworks/Python.framework/Versions/3.10/lib/python3.10/site-packages/pandas/core/internals/blocks.py:1307\u001b[0m, in \u001b[0;36mBlock.take_nd\u001b[0;34m(self, indexer, axis, new_mgr_locs, fill_value)\u001b[0m\n\u001b[1;32m   1304\u001b[0m     allow_fill \u001b[38;5;241m=\u001b[39m \u001b[38;5;28;01mTrue\u001b[39;00m\n\u001b[1;32m   1306\u001b[0m \u001b[38;5;66;03m# Note: algos.take_nd has upcast logic similar to coerce_to_target_dtype\u001b[39;00m\n\u001b[0;32m-> 1307\u001b[0m new_values \u001b[38;5;241m=\u001b[39m \u001b[43malgos\u001b[49m\u001b[38;5;241;43m.\u001b[39;49m\u001b[43mtake_nd\u001b[49m\u001b[43m(\u001b[49m\n\u001b[1;32m   1308\u001b[0m \u001b[43m    \u001b[49m\u001b[43mvalues\u001b[49m\u001b[43m,\u001b[49m\u001b[43m \u001b[49m\u001b[43mindexer\u001b[49m\u001b[43m,\u001b[49m\u001b[43m \u001b[49m\u001b[43maxis\u001b[49m\u001b[38;5;241;43m=\u001b[39;49m\u001b[43maxis\u001b[49m\u001b[43m,\u001b[49m\u001b[43m \u001b[49m\u001b[43mallow_fill\u001b[49m\u001b[38;5;241;43m=\u001b[39;49m\u001b[43mallow_fill\u001b[49m\u001b[43m,\u001b[49m\u001b[43m \u001b[49m\u001b[43mfill_value\u001b[49m\u001b[38;5;241;43m=\u001b[39;49m\u001b[43mfill_value\u001b[49m\n\u001b[1;32m   1309\u001b[0m \u001b[43m\u001b[49m\u001b[43m)\u001b[49m\n\u001b[1;32m   1311\u001b[0m \u001b[38;5;66;03m# Called from three places in managers, all of which satisfy\u001b[39;00m\n\u001b[1;32m   1312\u001b[0m \u001b[38;5;66;03m#  these assertions\u001b[39;00m\n\u001b[1;32m   1313\u001b[0m \u001b[38;5;28;01mif\u001b[39;00m \u001b[38;5;28misinstance\u001b[39m(\u001b[38;5;28mself\u001b[39m, ExtensionBlock):\n\u001b[1;32m   1314\u001b[0m     \u001b[38;5;66;03m# NB: in this case, the 'axis' kwarg will be ignored in the\u001b[39;00m\n\u001b[1;32m   1315\u001b[0m     \u001b[38;5;66;03m#  algos.take_nd call above.\u001b[39;00m\n",
      "File \u001b[0;32m/Library/Frameworks/Python.framework/Versions/3.10/lib/python3.10/site-packages/pandas/core/array_algos/take.py:117\u001b[0m, in \u001b[0;36mtake_nd\u001b[0;34m(arr, indexer, axis, fill_value, allow_fill)\u001b[0m\n\u001b[1;32m    114\u001b[0m     \u001b[38;5;28;01mreturn\u001b[39;00m arr\u001b[38;5;241m.\u001b[39mtake(indexer, fill_value\u001b[38;5;241m=\u001b[39mfill_value, allow_fill\u001b[38;5;241m=\u001b[39mallow_fill)\n\u001b[1;32m    116\u001b[0m arr \u001b[38;5;241m=\u001b[39m np\u001b[38;5;241m.\u001b[39masarray(arr)\n\u001b[0;32m--> 117\u001b[0m \u001b[38;5;28;01mreturn\u001b[39;00m \u001b[43m_take_nd_ndarray\u001b[49m\u001b[43m(\u001b[49m\u001b[43marr\u001b[49m\u001b[43m,\u001b[49m\u001b[43m \u001b[49m\u001b[43mindexer\u001b[49m\u001b[43m,\u001b[49m\u001b[43m \u001b[49m\u001b[43maxis\u001b[49m\u001b[43m,\u001b[49m\u001b[43m \u001b[49m\u001b[43mfill_value\u001b[49m\u001b[43m,\u001b[49m\u001b[43m \u001b[49m\u001b[43mallow_fill\u001b[49m\u001b[43m)\u001b[49m\n",
      "File \u001b[0;32m/Library/Frameworks/Python.framework/Versions/3.10/lib/python3.10/site-packages/pandas/core/array_algos/take.py:162\u001b[0m, in \u001b[0;36m_take_nd_ndarray\u001b[0;34m(arr, indexer, axis, fill_value, allow_fill)\u001b[0m\n\u001b[1;32m    157\u001b[0m     out \u001b[38;5;241m=\u001b[39m np\u001b[38;5;241m.\u001b[39mempty(out_shape, dtype\u001b[38;5;241m=\u001b[39mdtype)\n\u001b[1;32m    159\u001b[0m func \u001b[38;5;241m=\u001b[39m _get_take_nd_function(\n\u001b[1;32m    160\u001b[0m     arr\u001b[38;5;241m.\u001b[39mndim, arr\u001b[38;5;241m.\u001b[39mdtype, out\u001b[38;5;241m.\u001b[39mdtype, axis\u001b[38;5;241m=\u001b[39maxis, mask_info\u001b[38;5;241m=\u001b[39mmask_info\n\u001b[1;32m    161\u001b[0m )\n\u001b[0;32m--> 162\u001b[0m \u001b[43mfunc\u001b[49m\u001b[43m(\u001b[49m\u001b[43marr\u001b[49m\u001b[43m,\u001b[49m\u001b[43m \u001b[49m\u001b[43mindexer\u001b[49m\u001b[43m,\u001b[49m\u001b[43m \u001b[49m\u001b[43mout\u001b[49m\u001b[43m,\u001b[49m\u001b[43m \u001b[49m\u001b[43mfill_value\u001b[49m\u001b[43m)\u001b[49m\n\u001b[1;32m    164\u001b[0m \u001b[38;5;28;01mif\u001b[39;00m flip_order:\n\u001b[1;32m    165\u001b[0m     out \u001b[38;5;241m=\u001b[39m out\u001b[38;5;241m.\u001b[39mT\n",
      "\u001b[0;31mKeyboardInterrupt\u001b[0m: "
     ]
    }
   ],
   "source": [
    "import pandas as pd\n",
    "import numpy as np\n",
    "import scipy.sparse as sps\n",
    "from sklearn.metrics import mean_squared_error\n",
    "from surprise import Dataset, Reader, KNNBasic, accuracy\n",
    "from surprise.model_selection import train_test_split\n",
    "\n",
    "# -- Data filtering (keep users & movies with >= min ratings) --\n",
    "def filter_ratings(ratings, min_user=5, min_movie=5):\n",
    "    user_counts = ratings['userId'].value_counts()\n",
    "    movie_counts = ratings['movieId'].value_counts()\n",
    "    filtered = ratings[\n",
    "        ratings['userId'].isin(user_counts[user_counts >= min_user].index) &\n",
    "        ratings['movieId'].isin(movie_counts[movie_counts >= min_movie].index)\n",
    "    ].copy()\n",
    "    return filtered\n",
    "\n",
    "# -- Build sparse rating matrix and baseline biases --\n",
    "def build_rating_matrix_and_baselines(ratings):\n",
    "    user_ids = ratings['userId'].unique()\n",
    "    movie_ids = ratings['movieId'].unique()\n",
    "    uid_to_idx = {u:i for i,u in enumerate(user_ids)}\n",
    "    mid_to_idx = {m:i for i,m in enumerate(movie_ids)}\n",
    "    \n",
    "    n_users, n_movies = len(user_ids), len(movie_ids)\n",
    "    \n",
    "    rows = ratings['userId'].map(uid_to_idx).to_numpy()\n",
    "    cols = ratings['movieId'].map(mid_to_idx).to_numpy()\n",
    "    data = ratings['rating'].to_numpy()\n",
    "    \n",
    "    R = sps.csr_matrix((data, (rows, cols)), shape=(n_users, n_movies))\n",
    "    \n",
    "    mu = data.mean()\n",
    "    \n",
    "    # User biases\n",
    "    user_sum = np.zeros(n_users)\n",
    "    user_count = np.zeros(n_users)\n",
    "    for r, u_idx in zip(data, rows):\n",
    "        user_sum[u_idx] += r\n",
    "        user_count[u_idx] += 1\n",
    "    bu = np.zeros(n_users)\n",
    "    bu[user_count > 0] = user_sum[user_count > 0] / user_count[user_count > 0] - mu\n",
    "    \n",
    "    # Movie biases\n",
    "    movie_sum = np.zeros(n_movies)\n",
    "    movie_count = np.zeros(n_movies)\n",
    "    for r, m_idx in zip(data, cols):\n",
    "        movie_sum[m_idx] += r\n",
    "        movie_count[m_idx] += 1\n",
    "    bi = np.zeros(n_movies)\n",
    "    bi[movie_count > 0] = movie_sum[movie_count > 0] / movie_count[movie_count > 0] - mu\n",
    "    \n",
    "    return R, mu, bu, bi, uid_to_idx, mid_to_idx\n",
    "\n",
    "# -- Precompute normalized item columns for cosine similarity --\n",
    "def precompute_item_norms(R):\n",
    "    R_csc = R.tocsc()\n",
    "    item_norms = np.sqrt(R_csc.power(2).sum(axis=0)).A1\n",
    "    nonzero = item_norms > 0\n",
    "    D_inv = sps.diags(1.0 / (item_norms[nonzero]))\n",
    "    R_col = R_csc[:, nonzero]\n",
    "    R_col_normed = R_col @ D_inv\n",
    "    return R_csc, R_col_normed, nonzero\n",
    "\n",
    "# -- Item neighbors for item-item CF --\n",
    "def item_neighbors(i_idx, R_csc, R_col_normed, nonzero, topk=50):\n",
    "    vi = R_csc[:, i_idx].toarray().ravel()\n",
    "    norm_vi = np.linalg.norm(vi)\n",
    "    if norm_vi < 1e-9:\n",
    "        return np.array([]), np.array([])\n",
    "    sims = R_col_normed.T.dot(vi / norm_vi)\n",
    "    sims = np.asarray(sims).ravel()\n",
    "    \n",
    "    # Map back to full index space including zero-norm items\n",
    "    full_sims = np.zeros(R_csc.shape[1])\n",
    "    full_sims[nonzero] = sims\n",
    "    \n",
    "    topk_idx = np.argpartition(-full_sims, range(min(topk, len(full_sims))))[:topk]\n",
    "    topk_idx = topk_idx[np.argsort(-full_sims[topk_idx])]\n",
    "    return topk_idx, full_sims[topk_idx]\n",
    "\n",
    "# -- Predict with item-item CF --\n",
    "def predict_item_item(u_idx, i_idx, R, mu, bu, bi, R_csc, R_col_normed, nonzero, k=50):\n",
    "    baseline = mu + bu[u_idx] + bi[i_idx]\n",
    "    u_row = R[u_idx, :].toarray().ravel()\n",
    "    rated_idx = np.where(u_row > 0)[0]\n",
    "    if len(rated_idx) == 0:\n",
    "        return baseline\n",
    "    neigh_idx, sims = item_neighbors(i_idx, R_csc, R_col_normed, nonzero, topk=k)\n",
    "    common_mask = np.isin(neigh_idx, rated_idx)\n",
    "    neigh_idx = neigh_idx[common_mask]\n",
    "    sims = sims[common_mask]\n",
    "    if len(neigh_idx) == 0:\n",
    "        return baseline\n",
    "    ruj = u_row[neigh_idx]\n",
    "    denom = np.sum(np.abs(sims)) + 1e-9\n",
    "    numer = np.sum(sims * (ruj - (mu + bu[u_idx] + bi[neigh_idx])))\n",
    "    return baseline + numer / denom\n",
    "\n",
    "# -- Convert Surprise predictions to DataFrame --\n",
    "def surprise_preds_to_df(predictions):\n",
    "    return pd.DataFrame(\n",
    "        [(uid, iid, true_r, est) for uid, iid, true_r, est, _ in predictions],\n",
    "        columns=['userId', 'movieId', 'rating', 'est']\n",
    "    )\n",
    "\n",
    "# -- Vectorized evaluation for any predict_fn with fallback --\n",
    "def evaluate_preds_fast(test_df, uid_to_idx, mid_to_idx, predict_fn, fallback_pred):\n",
    "    valid_mask = test_df['userId'].isin(uid_to_idx) & test_df['movieId'].isin(mid_to_idx)\n",
    "    preds = np.full(len(test_df), fallback_pred, dtype=float)\n",
    "    \n",
    "    valid_users = test_df.loc[valid_mask, 'userId'].map(uid_to_idx)\n",
    "    valid_items = test_df.loc[valid_mask, 'movieId'].map(mid_to_idx)\n",
    "    preds[valid_mask] = [\n",
    "        predict_fn(u, i) for u, i in zip(valid_users, valid_items)\n",
    "    ]\n",
    "    \n",
    "    rmse = np.sqrt(mean_squared_error(test_df['rating'], preds))\n",
    "    return rmse\n",
    "\n",
    "# -- Matrix Factorization with SGD and early stopping support --\n",
    "def train_mf_SGD(train_df, val_df=None, n_factors=50, lr=0.005, reg=0.02, n_epochs=20, early_stopping=True, patience=3, verbose=True):\n",
    "    users = train_df['userId'].unique()\n",
    "    items = train_df['movieId'].unique()\n",
    "    u2i = {u:idx for idx,u in enumerate(users)}\n",
    "    i2j = {i:idx for idx,i in enumerate(items)}\n",
    "    nU, nI = len(users), len(items)\n",
    "    \n",
    "    mu = train_df['rating'].mean()\n",
    "    bu = np.zeros(nU)\n",
    "    bi = np.zeros(nI)\n",
    "    P = 0.1 * np.random.randn(nU, n_factors)\n",
    "    Q = 0.1 * np.random.randn(nI, n_factors)\n",
    "    \n",
    "    rows = [(u2i[r['userId']], i2j[r['movieId']], r['rating']) for _, r in train_df.iterrows()]\n",
    "    \n",
    "    best_val_rmse = np.inf\n",
    "    patience_counter = 0\n",
    "    \n",
    "    for epoch in range(n_epochs):\n",
    "        np.random.shuffle(rows)\n",
    "        sse = 0.0\n",
    "        for u_idx, i_idx, r in rows:\n",
    "            pred = mu + bu[u_idx] + bi[i_idx] + P[u_idx].dot(Q[i_idx])\n",
    "            err = r - pred\n",
    "            sse += err**2\n",
    "            \n",
    "            # Update biases\n",
    "            bu[u_idx] += lr * (err - reg * bu[u_idx])\n",
    "            bi[i_idx] += lr * (err - reg * bi[i_idx])\n",
    "            \n",
    "            # Update latent factors\n",
    "            Pu = P[u_idx].copy()\n",
    "            Qi = Q[i_idx].copy()\n",
    "            P[u_idx] += lr * (err * Qi - reg * Pu)\n",
    "            Q[i_idx] += lr * (err * Pu - reg * Qi)\n",
    "        \n",
    "        train_rmse = np.sqrt(sse / len(rows))\n",
    "        \n",
    "        if val_df is not None:\n",
    "            val_preds = []\n",
    "            for _, row in val_df.iterrows():\n",
    "                u = row['userId']\n",
    "                i = row['movieId']\n",
    "                if u in u2i and i in i2j:\n",
    "                    u_idx = u2i[u]\n",
    "                    i_idx = i2j[i]\n",
    "                    val_preds.append(mu + bu[u_idx] + bi[i_idx] + P[u_idx].dot(Q[i_idx]))\n",
    "                else:\n",
    "                    val_preds.append(mu)\n",
    "            val_rmse = np.sqrt(mean_squared_error(val_df['rating'], val_preds))\n",
    "            if verbose:\n",
    "                print(f\"Epoch {epoch+1}/{n_epochs} train RMSE={train_rmse:.4f} val RMSE={val_rmse:.4f}\")\n",
    "            \n",
    "            if early_stopping:\n",
    "                if val_rmse < best_val_rmse:\n",
    "                    best_val_rmse = val_rmse\n",
    "                    patience_counter = 0\n",
    "                else:\n",
    "                    patience_counter += 1\n",
    "                    if patience_counter >= patience:\n",
    "                        print(\"Early stopping triggered\")\n",
    "                        break\n",
    "        else:\n",
    "            if verbose:\n",
    "                print(f\"Epoch {epoch+1}/{n_epochs} train RMSE={train_rmse:.4f}\")\n",
    "    \n",
    "    model = dict(mu=mu, bu=bu, bi=bi, P=P, Q=Q, u2i=u2i, i2j=i2j)\n",
    "    return model\n",
    "\n",
    "def predict_mf(model, u, i):\n",
    "    u2i, i2j = model['u2i'], model['i2j']\n",
    "    mu, bu, bi, P, Q = model['mu'], model['bu'], model['bi'], model['P'], model['Q']\n",
    "    if u in u2i and i in i2j:\n",
    "        u_idx = u2i[u]\n",
    "        i_idx = i2j[i]\n",
    "        return mu + bu[u_idx] + bi[i_idx] + P[u_idx].dot(Q[i_idx])\n",
    "    else:\n",
    "        return mu\n",
    "\n",
    "# ============================\n",
    "# Example usage:\n",
    "# ============================\n",
    "\n",
    "# Step 1: Filter ratings\n",
    "ratings_filtered = filter_ratings(ratings, min_user=5, min_movie=5)\n",
    "\n",
    "# Step 2: Build matrix & baseline\n",
    "R, mu, bu, bi, uid_to_idx, mid_to_idx = build_rating_matrix_and_baselines(ratings_filtered)\n",
    "\n",
    "# Step 3: Precompute normalized columns for item-item similarity\n",
    "R_csc, R_col_normed, nonzero = precompute_item_norms(R)\n",
    "\n",
    "# Step 4: Surprise kNN baseline example\n",
    "sampled_ratings = ratings.sample(n=100000, random_state=42)\n",
    "reader = Reader(rating_scale=(sampled_ratings['rating'].min(), sampled_ratings['rating'].max()))\n",
    "data = Dataset.load_from_df(sampled_ratings[['userId', 'movieId', 'rating']], reader)\n",
    "train_surprise, test_surprise = train_test_split(data, test_size=0.2, random_state=42)\n",
    "sim_options = {'name': 'cosine', 'user_based': False}\n",
    "algo = KNNBasic(k=20, sim_options=sim_options, verbose=True)\n",
    "algo.fit(train_surprise)\n",
    "predictions = algo.test(test_surprise)\n",
    "print(\"Surprise kNN RMSE:\", accuracy.rmse(predictions))\n",
    "\n",
    "# Step 5: Evaluate your own item-item kNN on Surprise test set\n",
    "test_df = surprise_preds_to_df(predictions)\n",
    "rmse_custom = evaluate_preds_fast(test_df, uid_to_idx, mid_to_idx,\n",
    "                                 lambda u, i: predict_item_item(u, i, R, mu, bu, bi, R_csc, R_col_normed, nonzero, k=20),\n",
    "                                 mu)\n",
    "print(\"Custom item-item kNN RMSE:\", rmse_custom)\n",
    "\n",
    "# Step 6: Train MF model with early stopping on a sample split\n",
    "train_df = ratings_filtered.sample(frac=0.8, random_state=42)\n",
    "val_df = ratings_filtered.drop(train_df.index)\n",
    "mf_model = train_mf_SGD(train_df, val_df, n_factors=50, lr=0.005, reg=0.02, n_epochs=20, verbose=True)\n",
    "\n",
    "# Step 7: Evaluate MF on val set\n",
    "val_preds = [predict_mf(mf_model, u, i) for u, i in zip(val_df['userId'], val_df['movieId'])]\n",
    "val_rmse = np.sqrt(mean_squared_error(val_df['rating'], val_preds))\n",
    "print(f\"MF validation RMSE: {val_rmse:.4f}\")\n"
   ]
  },
  {
   "cell_type": "code",
   "execution_count": 24,
   "id": "bf81b10c",
   "metadata": {},
   "outputs": [
    {
     "name": "stdout",
     "output_type": "stream",
     "text": [
      "Ratings rows (raw): 26024289\n",
      "Ratings rows after filtering: 25955041\n",
      "Unique users: 256107\n",
      "Unique movies: 27127\n"
     ]
    }
   ],
   "source": [
    "# Document rows before/after filters:\n",
    "# initial counts\n",
    "print(\"Ratings rows (raw):\", len(ratings))\n",
    "\n",
    "# e.g., filter to users with >= 5 ratings and movies with >= 5 ratings\n",
    "min_user_ratings = 5\n",
    "min_movie_ratings = 5\n",
    "\n",
    "user_counts = ratings['userId'].value_counts()\n",
    "movie_counts = ratings['movieId'].value_counts()\n",
    "\n",
    "ratings_filtered = ratings[\n",
    "    ratings['userId'].isin(user_counts[user_counts >= min_user_ratings].index) &\n",
    "    ratings['movieId'].isin(movie_counts[movie_counts >= min_movie_ratings].index)\n",
    "].copy()\n",
    "\n",
    "print(\"Ratings rows after filtering:\", len(ratings_filtered))\n",
    "print(\"Unique users:\", ratings_filtered['userId'].nunique())\n",
    "print(\"Unique movies:\", ratings_filtered['movieId'].nunique())\n"
   ]
  },
  {
   "cell_type": "markdown",
   "id": "1a066245",
   "metadata": {},
   "source": [
    "take pictures formula"
   ]
  },
  {
   "cell_type": "markdown",
   "id": "9be0a5fd",
   "metadata": {},
   "source": [
    "## Task5"
   ]
  },
  {
   "cell_type": "code",
   "execution_count": 25,
   "id": "aa4613ca",
   "metadata": {},
   "outputs": [
    {
     "name": "stdout",
     "output_type": "stream",
     "text": [
      "RMSE: 1.0722\n",
      "Item-Item kNN RMSE: 1.0722129415918276\n",
      "RMSE: 1.0042\n",
      "SVD MF RMSE: 1.0041714024256736\n",
      "alpha=0.0, RMSE=1.0722\n",
      "alpha=0.1, RMSE=1.0604\n",
      "alpha=0.2, RMSE=1.0497\n",
      "alpha=0.3, RMSE=1.0400\n",
      "alpha=0.4, RMSE=1.0314\n",
      "alpha=0.5, RMSE=1.0239\n",
      "alpha=0.6, RMSE=1.0176\n",
      "alpha=0.7, RMSE=1.0124\n",
      "alpha=0.8, RMSE=1.0085\n"
     ]
    },
    {
     "ename": "KeyboardInterrupt",
     "evalue": "",
     "output_type": "error",
     "traceback": [
      "\u001b[0;31m---------------------------------------------------------------------------\u001b[0m",
      "\u001b[0;31mKeyboardInterrupt\u001b[0m                         Traceback (most recent call last)",
      "Cell \u001b[0;32mIn[25], line 58\u001b[0m\n\u001b[1;32m     56\u001b[0m best_alpha \u001b[38;5;241m=\u001b[39m \u001b[38;5;28;01mNone\u001b[39;00m\n\u001b[1;32m     57\u001b[0m \u001b[38;5;28;01mfor\u001b[39;00m alpha \u001b[38;5;129;01min\u001b[39;00m np\u001b[38;5;241m.\u001b[39mlinspace(\u001b[38;5;241m0\u001b[39m, \u001b[38;5;241m1\u001b[39m, \u001b[38;5;241m11\u001b[39m):  \u001b[38;5;66;03m# 0.0, 0.1, ..., 1.0\u001b[39;00m\n\u001b[0;32m---> 58\u001b[0m     blended \u001b[38;5;241m=\u001b[39m \u001b[43mblend_predictions\u001b[49m\u001b[43m(\u001b[49m\u001b[43mtestset\u001b[49m\u001b[43m,\u001b[49m\u001b[43m \u001b[49m\u001b[43malpha\u001b[49m\u001b[38;5;241;43m=\u001b[39;49m\u001b[43malpha\u001b[49m\u001b[43m)\u001b[49m\n\u001b[1;32m     59\u001b[0m     y_true, y_pred \u001b[38;5;241m=\u001b[39m \u001b[38;5;28mzip\u001b[39m(\u001b[38;5;241m*\u001b[39mblended)\n\u001b[1;32m     60\u001b[0m     rmse \u001b[38;5;241m=\u001b[39m np\u001b[38;5;241m.\u001b[39msqrt(np\u001b[38;5;241m.\u001b[39mmean((np\u001b[38;5;241m.\u001b[39marray(y_true) \u001b[38;5;241m-\u001b[39m np\u001b[38;5;241m.\u001b[39marray(y_pred))\u001b[38;5;241m*\u001b[39m\u001b[38;5;241m*\u001b[39m\u001b[38;5;241m2\u001b[39m))\n",
      "Cell \u001b[0;32mIn[25], line 47\u001b[0m, in \u001b[0;36mblend_predictions\u001b[0;34m(testset, alpha)\u001b[0m\n\u001b[1;32m     45\u001b[0m blended \u001b[38;5;241m=\u001b[39m []\n\u001b[1;32m     46\u001b[0m \u001b[38;5;28;01mfor\u001b[39;00m uid, iid, true_r \u001b[38;5;129;01min\u001b[39;00m testset:\n\u001b[0;32m---> 47\u001b[0m     cf_score \u001b[38;5;241m=\u001b[39m svd_dict\u001b[38;5;241m.\u001b[39mget((uid, iid), \u001b[43mnp\u001b[49m\u001b[38;5;241;43m.\u001b[39;49m\u001b[43mmean\u001b[49m\u001b[43m(\u001b[49m\u001b[43mratings_sample\u001b[49m\u001b[43m[\u001b[49m\u001b[38;5;124;43m'\u001b[39;49m\u001b[38;5;124;43mrating\u001b[39;49m\u001b[38;5;124;43m'\u001b[39;49m\u001b[43m]\u001b[49m\u001b[43m)\u001b[49m)\n\u001b[1;32m     48\u001b[0m     cb_score \u001b[38;5;241m=\u001b[39m knn_dict\u001b[38;5;241m.\u001b[39mget((uid, iid), np\u001b[38;5;241m.\u001b[39mmean(ratings_sample[\u001b[38;5;124m'\u001b[39m\u001b[38;5;124mrating\u001b[39m\u001b[38;5;124m'\u001b[39m]))\n\u001b[1;32m     49\u001b[0m     hybrid_est \u001b[38;5;241m=\u001b[39m alpha \u001b[38;5;241m*\u001b[39m cf_score \u001b[38;5;241m+\u001b[39m (\u001b[38;5;241m1\u001b[39m \u001b[38;5;241m-\u001b[39m alpha) \u001b[38;5;241m*\u001b[39m cb_score\n",
      "File \u001b[0;32m<__array_function__ internals>:180\u001b[0m, in \u001b[0;36mmean\u001b[0;34m(*args, **kwargs)\u001b[0m\n",
      "File \u001b[0;32m/Library/Frameworks/Python.framework/Versions/3.10/lib/python3.10/site-packages/numpy/core/fromnumeric.py:3430\u001b[0m, in \u001b[0;36mmean\u001b[0;34m(a, axis, dtype, out, keepdims, where)\u001b[0m\n\u001b[1;32m   3428\u001b[0m         \u001b[38;5;28;01mpass\u001b[39;00m\n\u001b[1;32m   3429\u001b[0m     \u001b[38;5;28;01melse\u001b[39;00m:\n\u001b[0;32m-> 3430\u001b[0m         \u001b[38;5;28;01mreturn\u001b[39;00m \u001b[43mmean\u001b[49m\u001b[43m(\u001b[49m\u001b[43maxis\u001b[49m\u001b[38;5;241;43m=\u001b[39;49m\u001b[43maxis\u001b[49m\u001b[43m,\u001b[49m\u001b[43m \u001b[49m\u001b[43mdtype\u001b[49m\u001b[38;5;241;43m=\u001b[39;49m\u001b[43mdtype\u001b[49m\u001b[43m,\u001b[49m\u001b[43m \u001b[49m\u001b[43mout\u001b[49m\u001b[38;5;241;43m=\u001b[39;49m\u001b[43mout\u001b[49m\u001b[43m,\u001b[49m\u001b[43m \u001b[49m\u001b[38;5;241;43m*\u001b[39;49m\u001b[38;5;241;43m*\u001b[39;49m\u001b[43mkwargs\u001b[49m\u001b[43m)\u001b[49m\n\u001b[1;32m   3432\u001b[0m \u001b[38;5;28;01mreturn\u001b[39;00m _methods\u001b[38;5;241m.\u001b[39m_mean(a, axis\u001b[38;5;241m=\u001b[39maxis, dtype\u001b[38;5;241m=\u001b[39mdtype,\n\u001b[1;32m   3433\u001b[0m                       out\u001b[38;5;241m=\u001b[39mout, \u001b[38;5;241m*\u001b[39m\u001b[38;5;241m*\u001b[39mkwargs)\n",
      "File \u001b[0;32m/Library/Frameworks/Python.framework/Versions/3.10/lib/python3.10/site-packages/pandas/core/series.py:6549\u001b[0m, in \u001b[0;36mSeries.mean\u001b[0;34m(self, axis, skipna, numeric_only, **kwargs)\u001b[0m\n\u001b[1;32m   6541\u001b[0m \u001b[38;5;129m@doc\u001b[39m(make_doc(\u001b[38;5;124m\"\u001b[39m\u001b[38;5;124mmean\u001b[39m\u001b[38;5;124m\"\u001b[39m, ndim\u001b[38;5;241m=\u001b[39m\u001b[38;5;241m1\u001b[39m))\n\u001b[1;32m   6542\u001b[0m \u001b[38;5;28;01mdef\u001b[39;00m \u001b[38;5;21mmean\u001b[39m(\n\u001b[1;32m   6543\u001b[0m     \u001b[38;5;28mself\u001b[39m,\n\u001b[0;32m   (...)\u001b[0m\n\u001b[1;32m   6547\u001b[0m     \u001b[38;5;241m*\u001b[39m\u001b[38;5;241m*\u001b[39mkwargs,\n\u001b[1;32m   6548\u001b[0m ):\n\u001b[0;32m-> 6549\u001b[0m     \u001b[38;5;28;01mreturn\u001b[39;00m \u001b[43mNDFrame\u001b[49m\u001b[38;5;241;43m.\u001b[39;49m\u001b[43mmean\u001b[49m\u001b[43m(\u001b[49m\u001b[38;5;28;43mself\u001b[39;49m\u001b[43m,\u001b[49m\u001b[43m \u001b[49m\u001b[43maxis\u001b[49m\u001b[43m,\u001b[49m\u001b[43m \u001b[49m\u001b[43mskipna\u001b[49m\u001b[43m,\u001b[49m\u001b[43m \u001b[49m\u001b[43mnumeric_only\u001b[49m\u001b[43m,\u001b[49m\u001b[43m \u001b[49m\u001b[38;5;241;43m*\u001b[39;49m\u001b[38;5;241;43m*\u001b[39;49m\u001b[43mkwargs\u001b[49m\u001b[43m)\u001b[49m\n",
      "File \u001b[0;32m/Library/Frameworks/Python.framework/Versions/3.10/lib/python3.10/site-packages/pandas/core/generic.py:12420\u001b[0m, in \u001b[0;36mNDFrame.mean\u001b[0;34m(self, axis, skipna, numeric_only, **kwargs)\u001b[0m\n\u001b[1;32m  12413\u001b[0m \u001b[38;5;28;01mdef\u001b[39;00m \u001b[38;5;21mmean\u001b[39m(\n\u001b[1;32m  12414\u001b[0m     \u001b[38;5;28mself\u001b[39m,\n\u001b[1;32m  12415\u001b[0m     axis: Axis \u001b[38;5;241m|\u001b[39m \u001b[38;5;28;01mNone\u001b[39;00m \u001b[38;5;241m=\u001b[39m \u001b[38;5;241m0\u001b[39m,\n\u001b[0;32m   (...)\u001b[0m\n\u001b[1;32m  12418\u001b[0m     \u001b[38;5;241m*\u001b[39m\u001b[38;5;241m*\u001b[39mkwargs,\n\u001b[1;32m  12419\u001b[0m ) \u001b[38;5;241m-\u001b[39m\u001b[38;5;241m>\u001b[39m Series \u001b[38;5;241m|\u001b[39m \u001b[38;5;28mfloat\u001b[39m:\n\u001b[0;32m> 12420\u001b[0m     \u001b[38;5;28;01mreturn\u001b[39;00m \u001b[38;5;28;43mself\u001b[39;49m\u001b[38;5;241;43m.\u001b[39;49m\u001b[43m_stat_function\u001b[49m\u001b[43m(\u001b[49m\n\u001b[1;32m  12421\u001b[0m \u001b[43m        \u001b[49m\u001b[38;5;124;43m\"\u001b[39;49m\u001b[38;5;124;43mmean\u001b[39;49m\u001b[38;5;124;43m\"\u001b[39;49m\u001b[43m,\u001b[49m\u001b[43m \u001b[49m\u001b[43mnanops\u001b[49m\u001b[38;5;241;43m.\u001b[39;49m\u001b[43mnanmean\u001b[49m\u001b[43m,\u001b[49m\u001b[43m \u001b[49m\u001b[43maxis\u001b[49m\u001b[43m,\u001b[49m\u001b[43m \u001b[49m\u001b[43mskipna\u001b[49m\u001b[43m,\u001b[49m\u001b[43m \u001b[49m\u001b[43mnumeric_only\u001b[49m\u001b[43m,\u001b[49m\u001b[43m \u001b[49m\u001b[38;5;241;43m*\u001b[39;49m\u001b[38;5;241;43m*\u001b[39;49m\u001b[43mkwargs\u001b[49m\n\u001b[1;32m  12422\u001b[0m \u001b[43m    \u001b[49m\u001b[43m)\u001b[49m\n",
      "File \u001b[0;32m/Library/Frameworks/Python.framework/Versions/3.10/lib/python3.10/site-packages/pandas/core/generic.py:12377\u001b[0m, in \u001b[0;36mNDFrame._stat_function\u001b[0;34m(self, name, func, axis, skipna, numeric_only, **kwargs)\u001b[0m\n\u001b[1;32m  12373\u001b[0m nv\u001b[38;5;241m.\u001b[39mvalidate_func(name, (), kwargs)\n\u001b[1;32m  12375\u001b[0m validate_bool_kwarg(skipna, \u001b[38;5;124m\"\u001b[39m\u001b[38;5;124mskipna\u001b[39m\u001b[38;5;124m\"\u001b[39m, none_allowed\u001b[38;5;241m=\u001b[39m\u001b[38;5;28;01mFalse\u001b[39;00m)\n\u001b[0;32m> 12377\u001b[0m \u001b[38;5;28;01mreturn\u001b[39;00m \u001b[38;5;28;43mself\u001b[39;49m\u001b[38;5;241;43m.\u001b[39;49m\u001b[43m_reduce\u001b[49m\u001b[43m(\u001b[49m\n\u001b[1;32m  12378\u001b[0m \u001b[43m    \u001b[49m\u001b[43mfunc\u001b[49m\u001b[43m,\u001b[49m\u001b[43m \u001b[49m\u001b[43mname\u001b[49m\u001b[38;5;241;43m=\u001b[39;49m\u001b[43mname\u001b[49m\u001b[43m,\u001b[49m\u001b[43m \u001b[49m\u001b[43maxis\u001b[49m\u001b[38;5;241;43m=\u001b[39;49m\u001b[43maxis\u001b[49m\u001b[43m,\u001b[49m\u001b[43m \u001b[49m\u001b[43mskipna\u001b[49m\u001b[38;5;241;43m=\u001b[39;49m\u001b[43mskipna\u001b[49m\u001b[43m,\u001b[49m\u001b[43m \u001b[49m\u001b[43mnumeric_only\u001b[49m\u001b[38;5;241;43m=\u001b[39;49m\u001b[43mnumeric_only\u001b[49m\n\u001b[1;32m  12379\u001b[0m \u001b[43m\u001b[49m\u001b[43m)\u001b[49m\n",
      "File \u001b[0;32m/Library/Frameworks/Python.framework/Versions/3.10/lib/python3.10/site-packages/pandas/core/series.py:6457\u001b[0m, in \u001b[0;36mSeries._reduce\u001b[0;34m(self, op, name, axis, skipna, numeric_only, filter_type, **kwds)\u001b[0m\n\u001b[1;32m   6452\u001b[0m     \u001b[38;5;66;03m# GH#47500 - change to TypeError to match other methods\u001b[39;00m\n\u001b[1;32m   6453\u001b[0m     \u001b[38;5;28;01mraise\u001b[39;00m \u001b[38;5;167;01mTypeError\u001b[39;00m(\n\u001b[1;32m   6454\u001b[0m         \u001b[38;5;124mf\u001b[39m\u001b[38;5;124m\"\u001b[39m\u001b[38;5;124mSeries.\u001b[39m\u001b[38;5;132;01m{\u001b[39;00mname\u001b[38;5;132;01m}\u001b[39;00m\u001b[38;5;124m does not allow \u001b[39m\u001b[38;5;132;01m{\u001b[39;00mkwd_name\u001b[38;5;132;01m}\u001b[39;00m\u001b[38;5;124m=\u001b[39m\u001b[38;5;132;01m{\u001b[39;00mnumeric_only\u001b[38;5;132;01m}\u001b[39;00m\u001b[38;5;124m \u001b[39m\u001b[38;5;124m\"\u001b[39m\n\u001b[1;32m   6455\u001b[0m         \u001b[38;5;124m\"\u001b[39m\u001b[38;5;124mwith non-numeric dtypes.\u001b[39m\u001b[38;5;124m\"\u001b[39m\n\u001b[1;32m   6456\u001b[0m     )\n\u001b[0;32m-> 6457\u001b[0m \u001b[38;5;28;01mreturn\u001b[39;00m \u001b[43mop\u001b[49m\u001b[43m(\u001b[49m\u001b[43mdelegate\u001b[49m\u001b[43m,\u001b[49m\u001b[43m \u001b[49m\u001b[43mskipna\u001b[49m\u001b[38;5;241;43m=\u001b[39;49m\u001b[43mskipna\u001b[49m\u001b[43m,\u001b[49m\u001b[43m \u001b[49m\u001b[38;5;241;43m*\u001b[39;49m\u001b[38;5;241;43m*\u001b[39;49m\u001b[43mkwds\u001b[49m\u001b[43m)\u001b[49m\n",
      "File \u001b[0;32m/Library/Frameworks/Python.framework/Versions/3.10/lib/python3.10/site-packages/pandas/core/nanops.py:147\u001b[0m, in \u001b[0;36mbottleneck_switch.__call__.<locals>.f\u001b[0;34m(values, axis, skipna, **kwds)\u001b[0m\n\u001b[1;32m    145\u001b[0m         result \u001b[38;5;241m=\u001b[39m alt(values, axis\u001b[38;5;241m=\u001b[39maxis, skipna\u001b[38;5;241m=\u001b[39mskipna, \u001b[38;5;241m*\u001b[39m\u001b[38;5;241m*\u001b[39mkwds)\n\u001b[1;32m    146\u001b[0m \u001b[38;5;28;01melse\u001b[39;00m:\n\u001b[0;32m--> 147\u001b[0m     result \u001b[38;5;241m=\u001b[39m \u001b[43malt\u001b[49m\u001b[43m(\u001b[49m\u001b[43mvalues\u001b[49m\u001b[43m,\u001b[49m\u001b[43m \u001b[49m\u001b[43maxis\u001b[49m\u001b[38;5;241;43m=\u001b[39;49m\u001b[43maxis\u001b[49m\u001b[43m,\u001b[49m\u001b[43m \u001b[49m\u001b[43mskipna\u001b[49m\u001b[38;5;241;43m=\u001b[39;49m\u001b[43mskipna\u001b[49m\u001b[43m,\u001b[49m\u001b[43m \u001b[49m\u001b[38;5;241;43m*\u001b[39;49m\u001b[38;5;241;43m*\u001b[39;49m\u001b[43mkwds\u001b[49m\u001b[43m)\u001b[49m\n\u001b[1;32m    149\u001b[0m \u001b[38;5;28;01mreturn\u001b[39;00m result\n",
      "File \u001b[0;32m/Library/Frameworks/Python.framework/Versions/3.10/lib/python3.10/site-packages/pandas/core/nanops.py:404\u001b[0m, in \u001b[0;36m_datetimelike_compat.<locals>.new_func\u001b[0;34m(values, axis, skipna, mask, **kwargs)\u001b[0m\n\u001b[1;32m    401\u001b[0m \u001b[38;5;28;01mif\u001b[39;00m datetimelike \u001b[38;5;129;01mand\u001b[39;00m mask \u001b[38;5;129;01mis\u001b[39;00m \u001b[38;5;28;01mNone\u001b[39;00m:\n\u001b[1;32m    402\u001b[0m     mask \u001b[38;5;241m=\u001b[39m isna(values)\n\u001b[0;32m--> 404\u001b[0m result \u001b[38;5;241m=\u001b[39m \u001b[43mfunc\u001b[49m\u001b[43m(\u001b[49m\u001b[43mvalues\u001b[49m\u001b[43m,\u001b[49m\u001b[43m \u001b[49m\u001b[43maxis\u001b[49m\u001b[38;5;241;43m=\u001b[39;49m\u001b[43maxis\u001b[49m\u001b[43m,\u001b[49m\u001b[43m \u001b[49m\u001b[43mskipna\u001b[49m\u001b[38;5;241;43m=\u001b[39;49m\u001b[43mskipna\u001b[49m\u001b[43m,\u001b[49m\u001b[43m \u001b[49m\u001b[43mmask\u001b[49m\u001b[38;5;241;43m=\u001b[39;49m\u001b[43mmask\u001b[49m\u001b[43m,\u001b[49m\u001b[43m \u001b[49m\u001b[38;5;241;43m*\u001b[39;49m\u001b[38;5;241;43m*\u001b[39;49m\u001b[43mkwargs\u001b[49m\u001b[43m)\u001b[49m\n\u001b[1;32m    406\u001b[0m \u001b[38;5;28;01mif\u001b[39;00m datetimelike:\n\u001b[1;32m    407\u001b[0m     result \u001b[38;5;241m=\u001b[39m _wrap_results(result, orig_values\u001b[38;5;241m.\u001b[39mdtype, fill_value\u001b[38;5;241m=\u001b[39miNaT)\n",
      "File \u001b[0;32m/Library/Frameworks/Python.framework/Versions/3.10/lib/python3.10/site-packages/pandas/core/nanops.py:705\u001b[0m, in \u001b[0;36mnanmean\u001b[0;34m(values, axis, skipna, mask)\u001b[0m\n\u001b[1;32m    680\u001b[0m \u001b[38;5;250m\u001b[39m\u001b[38;5;124;03m\"\"\"\u001b[39;00m\n\u001b[1;32m    681\u001b[0m \u001b[38;5;124;03mCompute the mean of the element along an axis ignoring NaNs\u001b[39;00m\n\u001b[1;32m    682\u001b[0m \n\u001b[0;32m   (...)\u001b[0m\n\u001b[1;32m    702\u001b[0m \u001b[38;5;124;03m1.5\u001b[39;00m\n\u001b[1;32m    703\u001b[0m \u001b[38;5;124;03m\"\"\"\u001b[39;00m\n\u001b[1;32m    704\u001b[0m dtype \u001b[38;5;241m=\u001b[39m values\u001b[38;5;241m.\u001b[39mdtype\n\u001b[0;32m--> 705\u001b[0m values, mask \u001b[38;5;241m=\u001b[39m \u001b[43m_get_values\u001b[49m\u001b[43m(\u001b[49m\u001b[43mvalues\u001b[49m\u001b[43m,\u001b[49m\u001b[43m \u001b[49m\u001b[43mskipna\u001b[49m\u001b[43m,\u001b[49m\u001b[43m \u001b[49m\u001b[43mfill_value\u001b[49m\u001b[38;5;241;43m=\u001b[39;49m\u001b[38;5;241;43m0\u001b[39;49m\u001b[43m,\u001b[49m\u001b[43m \u001b[49m\u001b[43mmask\u001b[49m\u001b[38;5;241;43m=\u001b[39;49m\u001b[43mmask\u001b[49m\u001b[43m)\u001b[49m\n\u001b[1;32m    706\u001b[0m dtype_sum \u001b[38;5;241m=\u001b[39m _get_dtype_max(dtype)\n\u001b[1;32m    707\u001b[0m dtype_count \u001b[38;5;241m=\u001b[39m np\u001b[38;5;241m.\u001b[39mdtype(np\u001b[38;5;241m.\u001b[39mfloat64)\n",
      "File \u001b[0;32m/Library/Frameworks/Python.framework/Versions/3.10/lib/python3.10/site-packages/pandas/core/nanops.py:294\u001b[0m, in \u001b[0;36m_get_values\u001b[0;34m(values, skipna, fill_value, fill_value_typ, mask)\u001b[0m\n\u001b[1;32m    260\u001b[0m \u001b[38;5;250m\u001b[39m\u001b[38;5;124;03m\"\"\"\u001b[39;00m\n\u001b[1;32m    261\u001b[0m \u001b[38;5;124;03mUtility to get the values view, mask, dtype, dtype_max, and fill_value.\u001b[39;00m\n\u001b[1;32m    262\u001b[0m \n\u001b[0;32m   (...)\u001b[0m\n\u001b[1;32m    288\u001b[0m \u001b[38;5;124;03m    Mask for values, if deemed necessary to compute\u001b[39;00m\n\u001b[1;32m    289\u001b[0m \u001b[38;5;124;03m\"\"\"\u001b[39;00m\n\u001b[1;32m    290\u001b[0m \u001b[38;5;66;03m# In _get_values is only called from within nanops, and in all cases\u001b[39;00m\n\u001b[1;32m    291\u001b[0m \u001b[38;5;66;03m#  with scalar fill_value.  This guarantee is important for the\u001b[39;00m\n\u001b[1;32m    292\u001b[0m \u001b[38;5;66;03m#  np.where call below\u001b[39;00m\n\u001b[0;32m--> 294\u001b[0m mask \u001b[38;5;241m=\u001b[39m \u001b[43m_maybe_get_mask\u001b[49m\u001b[43m(\u001b[49m\u001b[43mvalues\u001b[49m\u001b[43m,\u001b[49m\u001b[43m \u001b[49m\u001b[43mskipna\u001b[49m\u001b[43m,\u001b[49m\u001b[43m \u001b[49m\u001b[43mmask\u001b[49m\u001b[43m)\u001b[49m\n\u001b[1;32m    296\u001b[0m dtype \u001b[38;5;241m=\u001b[39m values\u001b[38;5;241m.\u001b[39mdtype\n\u001b[1;32m    298\u001b[0m datetimelike \u001b[38;5;241m=\u001b[39m \u001b[38;5;28;01mFalse\u001b[39;00m\n",
      "File \u001b[0;32m/Library/Frameworks/Python.framework/Versions/3.10/lib/python3.10/site-packages/pandas/core/nanops.py:248\u001b[0m, in \u001b[0;36m_maybe_get_mask\u001b[0;34m(values, skipna, mask)\u001b[0m\n\u001b[1;32m    245\u001b[0m         \u001b[38;5;28;01mreturn\u001b[39;00m \u001b[38;5;28;01mNone\u001b[39;00m\n\u001b[1;32m    247\u001b[0m     \u001b[38;5;28;01mif\u001b[39;00m skipna \u001b[38;5;129;01mor\u001b[39;00m values\u001b[38;5;241m.\u001b[39mdtype\u001b[38;5;241m.\u001b[39mkind \u001b[38;5;129;01min\u001b[39;00m \u001b[38;5;124m\"\u001b[39m\u001b[38;5;124mmM\u001b[39m\u001b[38;5;124m\"\u001b[39m:\n\u001b[0;32m--> 248\u001b[0m         mask \u001b[38;5;241m=\u001b[39m \u001b[43misna\u001b[49m\u001b[43m(\u001b[49m\u001b[43mvalues\u001b[49m\u001b[43m)\u001b[49m\n\u001b[1;32m    250\u001b[0m \u001b[38;5;28;01mreturn\u001b[39;00m mask\n",
      "File \u001b[0;32m/Library/Frameworks/Python.framework/Versions/3.10/lib/python3.10/site-packages/pandas/core/dtypes/missing.py:178\u001b[0m, in \u001b[0;36misna\u001b[0;34m(obj)\u001b[0m\n\u001b[1;32m    101\u001b[0m \u001b[38;5;28;01mdef\u001b[39;00m \u001b[38;5;21misna\u001b[39m(obj: \u001b[38;5;28mobject\u001b[39m) \u001b[38;5;241m-\u001b[39m\u001b[38;5;241m>\u001b[39m \u001b[38;5;28mbool\u001b[39m \u001b[38;5;241m|\u001b[39m npt\u001b[38;5;241m.\u001b[39mNDArray[np\u001b[38;5;241m.\u001b[39mbool_] \u001b[38;5;241m|\u001b[39m NDFrame:\n\u001b[1;32m    102\u001b[0m \u001b[38;5;250m    \u001b[39m\u001b[38;5;124;03m\"\"\"\u001b[39;00m\n\u001b[1;32m    103\u001b[0m \u001b[38;5;124;03m    Detect missing values for an array-like object.\u001b[39;00m\n\u001b[1;32m    104\u001b[0m \n\u001b[0;32m   (...)\u001b[0m\n\u001b[1;32m    176\u001b[0m \u001b[38;5;124;03m    Name: 1, dtype: bool\u001b[39;00m\n\u001b[1;32m    177\u001b[0m \u001b[38;5;124;03m    \"\"\"\u001b[39;00m\n\u001b[0;32m--> 178\u001b[0m     \u001b[38;5;28;01mreturn\u001b[39;00m \u001b[43m_isna\u001b[49m\u001b[43m(\u001b[49m\u001b[43mobj\u001b[49m\u001b[43m)\u001b[49m\n",
      "File \u001b[0;32m/Library/Frameworks/Python.framework/Versions/3.10/lib/python3.10/site-packages/pandas/core/dtypes/missing.py:207\u001b[0m, in \u001b[0;36m_isna\u001b[0;34m(obj, inf_as_na)\u001b[0m\n\u001b[1;32m    205\u001b[0m     \u001b[38;5;28;01mreturn\u001b[39;00m \u001b[38;5;28;01mFalse\u001b[39;00m\n\u001b[1;32m    206\u001b[0m \u001b[38;5;28;01melif\u001b[39;00m \u001b[38;5;28misinstance\u001b[39m(obj, (np\u001b[38;5;241m.\u001b[39mndarray, ABCExtensionArray)):\n\u001b[0;32m--> 207\u001b[0m     \u001b[38;5;28;01mreturn\u001b[39;00m \u001b[43m_isna_array\u001b[49m\u001b[43m(\u001b[49m\u001b[43mobj\u001b[49m\u001b[43m,\u001b[49m\u001b[43m \u001b[49m\u001b[43minf_as_na\u001b[49m\u001b[38;5;241;43m=\u001b[39;49m\u001b[43minf_as_na\u001b[49m\u001b[43m)\u001b[49m\n\u001b[1;32m    208\u001b[0m \u001b[38;5;28;01melif\u001b[39;00m \u001b[38;5;28misinstance\u001b[39m(obj, ABCIndex):\n\u001b[1;32m    209\u001b[0m     \u001b[38;5;66;03m# Try to use cached isna, which also short-circuits for integer dtypes\u001b[39;00m\n\u001b[1;32m    210\u001b[0m     \u001b[38;5;66;03m#  and avoids materializing RangeIndex._values\u001b[39;00m\n\u001b[1;32m    211\u001b[0m     \u001b[38;5;28;01mif\u001b[39;00m \u001b[38;5;129;01mnot\u001b[39;00m obj\u001b[38;5;241m.\u001b[39m_can_hold_na:\n",
      "File \u001b[0;32m/Library/Frameworks/Python.framework/Versions/3.10/lib/python3.10/site-packages/pandas/core/dtypes/missing.py:300\u001b[0m, in \u001b[0;36m_isna_array\u001b[0;34m(values, inf_as_na)\u001b[0m\n\u001b[1;32m    298\u001b[0m         result \u001b[38;5;241m=\u001b[39m \u001b[38;5;241m~\u001b[39mnp\u001b[38;5;241m.\u001b[39misfinite(values)\n\u001b[1;32m    299\u001b[0m     \u001b[38;5;28;01melse\u001b[39;00m:\n\u001b[0;32m--> 300\u001b[0m         result \u001b[38;5;241m=\u001b[39m \u001b[43mnp\u001b[49m\u001b[38;5;241;43m.\u001b[39;49m\u001b[43misnan\u001b[49m\u001b[43m(\u001b[49m\u001b[43mvalues\u001b[49m\u001b[43m)\u001b[49m\n\u001b[1;32m    302\u001b[0m \u001b[38;5;28;01mreturn\u001b[39;00m result\n",
      "\u001b[0;31mKeyboardInterrupt\u001b[0m: "
     ]
    }
   ],
   "source": [
    "import pandas as pd\n",
    "import numpy as np\n",
    "from surprise import Dataset, Reader, KNNBasic, SVD, accuracy\n",
    "from surprise.model_selection import train_test_split\n",
    "\n",
    "# --- 0. Load and sample ratings data ---\n",
    "# Assume ratings is a DataFrame with columns: userId, movieId, rating\n",
    "# ratings = pd.read_csv('ratings.csv')  # Example\n",
    "ratings_sample = ratings.sample(50000, random_state=42)  # smaller subset for speed\n",
    "\n",
    "reader = Reader(rating_scale=(ratings_sample['rating'].min(), ratings_sample['rating'].max()))\n",
    "data = Dataset.load_from_df(ratings_sample[['userId', 'movieId', 'rating']], reader)\n",
    "\n",
    "# --- 1. Train/Test split ---\n",
    "trainset, testset = train_test_split(data, test_size=0.2, random_state=42)\n",
    "\n",
    "# --- 2. Item–Item kNN baseline ---\n",
    "sim_options = {'name': 'cosine', 'user_based': False}  # item-item\n",
    "knn_algo = KNNBasic(k=50, sim_options=sim_options, verbose=False)\n",
    "knn_algo.fit(trainset)\n",
    "knn_preds = knn_algo.test(testset)\n",
    "print(\"Item-Item kNN RMSE:\", accuracy.rmse(knn_preds))\n",
    "\n",
    "# --- 3. Matrix Factorisation (SVD) baseline ---\n",
    "svd_algo = SVD(n_factors=50, lr_all=0.005, reg_all=0.02, n_epochs=20)\n",
    "svd_algo.fit(trainset)\n",
    "svd_preds = svd_algo.test(testset)\n",
    "print(\"SVD MF RMSE:\", accuracy.rmse(svd_preds))\n",
    "\n",
    "# --- 4. Hybrid blending ---\n",
    "# Convert predictions to dicts for fast lookup\n",
    "knn_dict = {(p.uid, p.iid): p.est for p in knn_preds}\n",
    "svd_dict = {(p.uid, p.iid): p.est for p in svd_preds}\n",
    "\n",
    "# def blend_predictions(testset, alpha=0.5):\n",
    "#     blended = []\n",
    "#     for uid, iid, true_r in [(p.uid, p.iid, p.r_ui) for p in svd_preds]:\n",
    "#         cf_score = svd_dict.get((uid, iid), np.mean(ratings_sample['rating']))\n",
    "#         cb_score = knn_dict.get((uid, iid), np.mean(ratings_sample['rating']))\n",
    "#         hybrid_est = alpha * cf_score + (1 - alpha) * cb_score\n",
    "#         blended.append((true_r, hybrid_est))\n",
    "#     return blended\n",
    "\n",
    "def blend_predictions(testset, alpha=0.5):\n",
    "    blended = []\n",
    "    for uid, iid, true_r in testset:\n",
    "        cf_score = svd_dict.get((uid, iid), np.mean(ratings_sample['rating']))\n",
    "        cb_score = knn_dict.get((uid, iid), np.mean(ratings_sample['rating']))\n",
    "        hybrid_est = alpha * cf_score + (1 - alpha) * cb_score\n",
    "        blended.append((true_r, hybrid_est))\n",
    "    return blended\n",
    "\n",
    "\n",
    "# --- 5. Tune alpha manually ---\n",
    "best_rmse = float('inf')\n",
    "best_alpha = None\n",
    "for alpha in np.linspace(0, 1, 11):  # 0.0, 0.1, ..., 1.0\n",
    "    blended = blend_predictions(testset, alpha=alpha)\n",
    "    y_true, y_pred = zip(*blended)\n",
    "    rmse = np.sqrt(np.mean((np.array(y_true) - np.array(y_pred))**2))\n",
    "    if rmse < best_rmse:\n",
    "        best_rmse = rmse\n",
    "        best_alpha = alpha\n",
    "    print(f\"alpha={alpha:.1f}, RMSE={rmse:.4f}\")\n",
    "\n",
    "print(f\"\\nBest alpha: {best_alpha:.2f}, RMSE={best_rmse:.4f}\")\n"
   ]
  },
  {
   "cell_type": "markdown",
   "id": "f554501b",
   "metadata": {},
   "source": [
    "## Task6"
   ]
  },
  {
   "cell_type": "code",
   "execution_count": null,
   "id": "b6a91c70",
   "metadata": {},
   "outputs": [],
   "source": [
    "# Full evaluation pipeline for Task 6\n",
    "# Requirements: pandas, numpy, scikit-learn, scipy, matplotlib, seaborn, tqdm\n",
    "# Make sure to pip install any missing packages first (e.g. pip install tqdm seaborn)\n",
    "\n",
    "import numpy as np\n",
    "import pandas as pd\n",
    "from math import log2\n",
    "from collections import defaultdict\n",
    "import matplotlib.pyplot as plt\n",
    "import seaborn as sns\n",
    "from sklearn.metrics.pairwise import cosine_similarity\n",
    "from sklearn.feature_extraction.text import TfidfVectorizer\n",
    "from tqdm.auto import tqdm\n",
    "import time, random\n",
    "\n",
    "# --------------------------\n",
    "# CONFIG / TUNABLES\n",
    "# --------------------------\n",
    "RNG = np.random.default_rng(42)\n",
    "K_LIST = [10, 20]\n",
    "BOOTSTRAP_N = 200        # set to 1000+ for final CI (200 ok for quick runs)\n",
    "CANDIDATE_SAMPLE = 5000  # if None -> rank all unseen items (heavy). Otherwise sample this many unseen items per user\n",
    "SAMPLE_USERS = None      # int to subsample users for faster runs (None => all test users)\n",
    "VERBOSE = True\n",
    "\n",
    "# --------------------------\n",
    "# ASSUMPTIONS: you already have these DataFrames loaded in the notebook:\n",
    "# - ratings: columns ['userId','movieId','rating','timestamp']\n",
    "# - movies_metadata: contains movie ids (same id space as ratings['movieId']) and metadata\n",
    "# If these have different dtypes, cast as needed (e.g., str)\n",
    "# --------------------------\n",
    "\n",
    "# ---------- Helpers: time-aware split ----------\n",
    "def leave_last_one(ratings_df, time_col='timestamp'):\n",
    "    ratings_df = ratings_df.sort_values(['userId', time_col])\n",
    "    train_idx = []\n",
    "    test_idx = []\n",
    "    for uid, g in ratings_df.groupby('userId'):\n",
    "        if len(g) == 1:\n",
    "            # keep single rating in train (adjust if you prefer treat as cold-start)\n",
    "            train_idx.append(g.index[0])\n",
    "        else:\n",
    "            test_idx.append(g.index[-1])\n",
    "            train_idx.extend(g.index[:-1])\n",
    "    train = ratings_df.loc[train_idx].reset_index(drop=True)\n",
    "    test = ratings_df.loc[test_idx].reset_index(drop=True)\n",
    "    return train, test\n",
    "\n",
    "# ---------- Ranking metrics ----------\n",
    "def precision_at_k(recommended, ground_truth_set, k):\n",
    "    if k == 0: return 0.0\n",
    "    return len(set(recommended[:k]) & ground_truth_set) / k\n",
    "\n",
    "def recall_at_k(recommended, ground_truth_set, k):\n",
    "    if len(ground_truth_set) == 0:\n",
    "        return 0.0\n",
    "    return len(set(recommended[:k]) & ground_truth_set) / len(ground_truth_set)\n",
    "\n",
    "def hit_rate_at_k(recommended, ground_truth_set, k):\n",
    "    return 1.0 if len(set(recommended[:k]) & ground_truth_set) > 0 else 0.0\n",
    "\n",
    "def ndcg_at_k(recommended, ground_truth_set, k):\n",
    "    dcg = 0.0\n",
    "    for i, item in enumerate(recommended[:k]):\n",
    "        if item in ground_truth_set:\n",
    "            dcg += 1.0 / log2(i + 2)\n",
    "    ideal_rels = min(len(ground_truth_set), k)\n",
    "    idcg = sum(1.0 / log2(i + 2) for i in range(ideal_rels))\n",
    "    return (dcg / idcg) if idcg > 0 else 0.0\n",
    "\n",
    "# ---------- Coverage / Novelty / ILD ----------\n",
    "def catalog_coverage(all_rec_lists, num_catalog):\n",
    "    unique_rec = set(i for rec in all_rec_lists for i in rec)\n",
    "    return len(unique_rec) / float(num_catalog)\n",
    "\n",
    "def novelty(all_rec_lists, item_pop, total_ratings):\n",
    "    # novelty = average of -log(popularity)\n",
    "    vals = []\n",
    "    for rec in all_rec_lists:\n",
    "        vs = [ -np.log((item_pop.get(int(i),0)+1) / total_ratings) for i in rec ]\n",
    "        vals.append(np.mean(vs) if len(vs) else 0.0)\n",
    "    return np.mean(vals)\n",
    "\n",
    "def intra_list_diversity(all_rec_lists, item_sim_matrix, item_index_map):\n",
    "    diversities = []\n",
    "    for rec in all_rec_lists:\n",
    "        pairs = 0\n",
    "        sim_sum = 0.0\n",
    "        L = len(rec)\n",
    "        if L < 2:\n",
    "            continue\n",
    "        for i in range(L):\n",
    "            for j in range(i+1, L):\n",
    "                a = item_index_map[int(rec[i])]\n",
    "                b = item_index_map[int(rec[j])]\n",
    "                sim_sum += item_sim_matrix[a, b]\n",
    "                pairs += 1\n",
    "        if pairs > 0:\n",
    "            avg_sim = sim_sum / pairs\n",
    "            diversities.append(1 - avg_sim)\n",
    "    return np.mean(diversities) if diversities else 0.0\n",
    "\n",
    "# ---------- Utilities ----------\n",
    "def sample_candidate_pool(unseen_items, sample_size=None):\n",
    "    if sample_size is None or sample_size >= len(unseen_items):\n",
    "        return unseen_items\n",
    "    return RNG.choice(list(unseen_items), size=sample_size, replace=False)\n",
    "\n",
    "# --------------------------\n",
    "# Model wrappers (PLACEHOLDERS)\n",
    "# You must implement or plug actual scoring functions for:\n",
    "# - score_cb(user_id, item_id)  -> content-based predicted score\n",
    "# - score_cf(user_id, item_id)  -> collaborative filtering predicted score\n",
    "# - recommend_cb_topk(user_id, k, candidates) -> returns list of item ids\n",
    "# - recommend_cf_topk(user_id, k, candidates) -> returns list of item ids\n",
    "#\n",
    "# I've provided simple baselines (popularity, random) and scaffolding for hybrid.\n",
    "# Replace or connect them to your models.\n",
    "# --------------------------\n",
    "\n",
    "# Popularity baseline (global weighted rating or simple mean/pop ratings)\n",
    "def build_popularity_rank(train_df):\n",
    "    # returns a list of item ids sorted by popularity\n",
    "    pop_counts = train_df['movieId'].value_counts()\n",
    "    pop_rank = pop_counts.index.tolist()\n",
    "    return pop_rank, pop_counts.to_dict()\n",
    "\n",
    "def recommend_popularity_topk(user_id, k=100, candidate_pool=None, pop_rank=None):\n",
    "    if candidate_pool is None:\n",
    "        return pop_rank[:k]\n",
    "    # filter pop_rank by candidate pool\n",
    "    out = [mid for mid in pop_rank if mid in set(candidate_pool)]\n",
    "    return out[:k]\n",
    "\n",
    "# Random baseline\n",
    "def recommend_random_topk(user_id, k=100, candidate_pool=None):\n",
    "    pool = list(candidate_pool) if candidate_pool is not None else all_items\n",
    "    return list(RNG.choice(pool, size=k, replace=False))\n",
    "\n",
    "# Hybrid wrapper: blend CF and CB score functions\n",
    "def recommend_hybrid_topk(user_id, k=100, candidate_pool=None, alpha=0.5, score_cf_fn=None, score_cb_fn=None):\n",
    "    if candidate_pool is None:\n",
    "        candidate_pool = all_items\n",
    "    # score vectorized on candidate_pool\n",
    "    scores = []\n",
    "    for iid in candidate_pool:\n",
    "        scf = score_cf_fn(user_id, iid) if score_cf_fn else global_mean_rating\n",
    "        scb = score_cb_fn(user_id, iid) if score_cb_fn else global_mean_rating\n",
    "        scores.append((iid, alpha * scf + (1-alpha) * scb))\n",
    "    topk = sorted(scores, key=lambda x: -x[1])[:k]\n",
    "    return [int(i) for i,_ in topk]\n",
    "\n"
   ]
  },
  {
   "cell_type": "code",
   "execution_count": null,
   "id": "bb35466b",
   "metadata": {},
   "outputs": [],
   "source": [
    "# --------------------------\n",
    "# START pipeline\n",
    "# --------------------------\n",
    "print(\"Starting Task 6 evaluation pipeline...\")\n",
    "\n",
    "# 1) Leave-last-1 split\n",
    "train, test = leave_last_one(ratings, time_col='timestamp')\n",
    "print(f\"Raw ratings: {len(ratings)}; Train: {len(train)}; Test (left-out): {len(test)}\")\n",
    "print(f\"Users in Train: {train['userId'].nunique()}; Users in Test: {test['userId'].nunique()}\")\n",
    "\n",
    "# optionally subsample users for faster runs (useful during prototyping)\n",
    "test_users = test['userId'].unique()\n",
    "if SAMPLE_USERS is not None:\n",
    "    test_users = RNG.choice(test_users, size=SAMPLE_USERS, replace=False)\n",
    "test_subset = test[test['userId'].isin(test_users)].reset_index(drop=True)\n",
    "\n",
    "# Build global popularity & item popularity map\n",
    "pop_rank, item_pop = build_popularity_rank(train)\n",
    "global_mean_rating = train['rating'].mean()\n",
    "# Convert to numeric, turning bad values into NaN\n",
    "movies_metadata['id'] = pd.to_numeric(movies_metadata['id'], errors='coerce')\n",
    "\n",
    "# Drop rows with NaN ids\n",
    "movies_metadata = movies_metadata.dropna(subset=['id'])\n",
    "\n",
    "# Convert to int safely\n",
    "movies_metadata['id'] = movies_metadata['id'].astype(int)\n",
    "\n",
    "# Now your unique list works\n",
    "all_items = movies_metadata['id'].unique().tolist()\n",
    "\n",
    "num_catalog = len(all_items)\n",
    "total_ratings = len(train)\n",
    "\n",
    "# item index map for similarity matrix (if you have item vectors)\n",
    "# TODO: replace with your item_vectors (TFIDF+multi-hot) or embeddings\n",
    "# Here we optionally compute TF-IDF on 'overview' to produce small item vectors for ILD demo\n",
    "if 'text' in movies_metadata.columns:\n",
    "    # compute tfidf vectors on 'text' if available (cheap)\n",
    "    tfidf = TfidfVectorizer(max_features=2000, stop_words='english')\n",
    "    item_text = movies_metadata.set_index('id').loc[all_items]['text'].fillna('').values\n",
    "    item_tfidf = tfidf.fit_transform(item_text)\n",
    "    # compute cosine similarity matrix (dense might be large; consider sampling)\n",
    "    print(\"Computing sample item similarity for ILD (may be slow for large catalogs)...\")\n",
    "    item_sim_matrix = cosine_similarity(item_tfidf)\n",
    "    # map item id -> index in matrix\n",
    "    item_index_map = {int(mid): idx for idx, mid in enumerate(all_items)}\n",
    "else:\n",
    "    # no item vectors available; ILD will be skipped or given default\n",
    "    item_sim_matrix = None\n",
    "    item_index_map = {}\n"
   ]
  },
  {
   "cell_type": "code",
   "execution_count": null,
   "id": "a12bc3ae",
   "metadata": {},
   "outputs": [],
   "source": [
    "# --------------------------\n",
    "# Candidate generation & evaluation function\n",
    "# --------------------------\n",
    "def evaluate_recommender(recommend_fn, test_df, k_list=[10,20], candidate_sample=CANDIDATE_SAMPLE):\n",
    "    results = {k: defaultdict(list) for k in k_list}\n",
    "    all_rec_lists = []\n",
    "    # ground truth mapping per user (single left-out item)\n",
    "    gt = test_df.groupby('userId')['movieId'].apply(list).to_dict()\n",
    "    users = list(gt.keys())\n",
    "    if SAMPLE_USERS is not None:\n",
    "        users = list(RNG.choice(users, size=min(SAMPLE_USERS, len(users)), replace=False))\n",
    "    for u in tqdm(users, disable=not VERBOSE):\n",
    "        gt_items = set(gt.get(u, []))\n",
    "        # candidate pool: all items unseen by user in train\n",
    "        seen = set(train[train['userId'] == u]['movieId'].astype(int).tolist())\n",
    "        unseen = set(all_items) - seen\n",
    "        # sample candidate pool for speed if requested\n",
    "        candidate_pool = sample_candidate_pool(unseen, sample_size=candidate_sample)\n",
    "        recs = recommend_fn(u, k=max(k_list), candidate_pool=candidate_pool)\n",
    "        all_rec_lists.append(recs)\n",
    "        for k in k_list:\n",
    "            results[k]['precision'].append(precision_at_k(recs, gt_items, k))\n",
    "            results[k]['recall'].append(recall_at_k(recs, gt_items, k))\n",
    "            results[k]['hit'].append(hit_rate_at_k(recs, gt_items, k))\n",
    "            results[k]['ndcg'].append(ndcg_at_k(recs, gt_items, k))\n",
    "    # aggregate\n",
    "    summary = {}\n",
    "    for k in k_list:\n",
    "        summary[k] = {m: np.mean(results[k][m]) for m in results[k]}\n",
    "    # catalog-level metrics\n",
    "    coverage = catalog_coverage(all_rec_lists, num_catalog)\n",
    "    novelty_val = novelty(all_rec_lists, item_pop, total_ratings)\n",
    "    ild = intra_list_diversity(all_rec_lists, item_sim_matrix, item_index_map) if item_sim_matrix is not None else np.nan\n",
    "    return summary, coverage, novelty_val, ild, all_rec_lists"
   ]
  },
  {
   "cell_type": "code",
   "execution_count": null,
   "id": "05d54da6",
   "metadata": {},
   "outputs": [],
   "source": [
    "# # --------------------------\n",
    "# # QUICK TEST: evaluate popularity baseline + random baseline\n",
    "# # --------------------------\n",
    "\n",
    "# # Define popularity recommender\n",
    "# pop_recommender = lambda u, k, candidate_pool=None: recommend_popularity_topk(\n",
    "#     u, k=k, candidate_pool=candidate_pool, pop_rank=pop_rank\n",
    "# )\n",
    "\n",
    "# # Evaluate popularity baseline\n",
    "# print(\"Evaluating Popularity baseline...\")\n",
    "# pop_results = evaluate_recommender_fast(\n",
    "#     recommend_fn=pop_recommender,\n",
    "#     test_df=test_subset,\n",
    "#     train_df=train,\n",
    "#     all_items=all_items,\n",
    "#     k_list=K_LIST,\n",
    "#     candidate_sample=500,   # speed up by limiting candidate pool\n",
    "#     sample_users=5000,      # sample subset of users\n",
    "#     verbose=True,\n",
    "#     item_pop=item_pop,\n",
    "#     total_ratings=total_ratings,\n",
    "#     num_catalog=len(all_items)\n",
    "# )\n",
    "# print(\"Popularity results:\", pop_results[0])\n",
    "\n",
    "# # Define random recommender\n",
    "# rand_recommender = lambda u, k, candidate_pool=None: recommend_random_topk(\n",
    "#     u, k=k, candidate_pool=candidate_pool\n",
    "# )\n",
    "\n",
    "# # Evaluate random baseline\n",
    "# print(\"Evaluating Random baseline...\")\n",
    "# rand_results = evaluate_recommender_fast(\n",
    "#     recommend_fn=rand_recommender,\n",
    "#     test_df=test_subset,\n",
    "#     train_df=train,\n",
    "#     all_items=all_items,\n",
    "#     k_list=K_LIST,\n",
    "#     candidate_sample=500,\n",
    "#     sample_users=5000,\n",
    "#     verbose=True,\n",
    "#     item_pop=item_pop,\n",
    "#     total_ratings=total_ratings,\n",
    "#     num_catalog=len(all_items)\n",
    "# )\n",
    "# print(\"Random results:\", rand_results[0])\n"
   ]
  },
  {
   "cell_type": "code",
   "execution_count": null,
   "id": "71483556",
   "metadata": {},
   "outputs": [],
   "source": [
    "\n",
    "# --------------------------\n",
    "# QUICK TEST: evaluate popularity baseline + random baseline\n",
    "# --------------------------\n",
    "print(\"Evaluating Popularity baseline...\")\n",
    "pop_recommender = lambda u, k, candidate_pool=None: recommend_popularity_topk(u, k=k, candidate_pool=candidate_pool, pop_rank=pop_rank)\n",
    "pop_results = evaluate_recommender(pop_recommender, test_subset, k_list=K_LIST)\n",
    "print(\"Popularity results:\", pop_results[0])\n",
    "\n",
    "print(\"Evaluating Random baseline...\")\n",
    "rand_results = evaluate_recommender(lambda u,k,candidate_pool: recommend_random_topk(u,k,candidate_pool), test_subset, k_list=K_LIST)\n",
    "print(\"Random results:\", rand_results[0])\n",
    "\n",
    "# --------------------------\n",
    "# PLACEHOLDER: plug your real recommenders here\n",
    "# Example: recommend_cb_full, recommend_cb_no_cast, recommend_mf, recommend_hybrid\n",
    "# Each must accept (user_id, k, candidate_pool) and return list of top-k item ids (ints)\n",
    "# --------------------------\n",
    "\n",
    "# TODO: Replace these placeholder functions with your actual implementations\n",
    "def recommend_cb_full(user_id, k=100, candidate_pool=None):\n",
    "    # Example: use content-based cosine between user profile and item vectors\n",
    "    # Replace with your CB model that uses overview+tagline+genres+cast\n",
    "    return recommend_popularity_topk(user_id, k=k, candidate_pool=candidate_pool, pop_rank=pop_rank)\n",
    "\n",
    "def recommend_cb_no_cast(user_id, k=100, candidate_pool=None):\n",
    "    # placeholder for ablation: CB without cast\n",
    "    return recommend_popularity_topk(user_id, k=k, candidate_pool=candidate_pool, pop_rank=pop_rank)\n",
    "\n",
    "def recommend_mf(user_id, k=100, candidate_pool=None):\n",
    "    # placeholder for CF (e.g., SVD predictions)\n",
    "    return recommend_popularity_topk(user_id, k=k, candidate_pool=candidate_pool, pop_rank=pop_rank)\n",
    "\n",
    "# If you implemented a hybrid and have score_cf and score_cb functions:\n",
    "best_alpha = 0.5\n",
    "recommend_hybrid = lambda u,k,candidate_pool: recommend_hybrid_topk(u,k,candidate_pool,alpha=best_alpha,\n",
    "                                                                     score_cf_fn=None, score_cb_fn=None)\n",
    "\n",
    "# Run evaluations for these variants\n",
    "variants = {\n",
    "    'CB_full': recommend_cb_full,\n",
    "    'CB_no_cast': recommend_cb_no_cast,\n",
    "    'MF': recommend_mf,\n",
    "    'Hybrid': recommend_hybrid\n",
    "}\n",
    "all_results = {}\n",
    "all_rec_lists_by_model = {}\n",
    "for name, fn in variants.items():\n",
    "    print(f\"Evaluating {name} ...\")\n",
    "    res, coverage, novelty_val, ild, rec_lists = evaluate_recommender(fn, test_subset, k_list=K_LIST)\n",
    "    all_results[name] = {'summary': res, 'coverage': coverage, 'novelty': novelty_val, 'ild': ild}\n",
    "    all_rec_lists_by_model[name] = rec_lists\n",
    "    print(name, res)\n",
    "\n"
   ]
  },
  {
   "cell_type": "code",
   "execution_count": null,
   "id": "f9c3378b",
   "metadata": {},
   "outputs": [],
   "source": [
    "\n",
    "# --------------------------\n",
    "# BOOTSTRAP 95% CI (by users) for one metric, e.g. Precision@K\n",
    "# --------------------------\n",
    "def bootstrap_metric(recommend_fn, test_df, k=10, metric_fn=precision_at_k, n_boot=200):\n",
    "    users = list(test_df.groupby('userId').groups.keys())\n",
    "    metric_vals = []\n",
    "    for _ in range(n_boot):\n",
    "        sampled_users = RNG.choice(users, size=len(users), replace=True)\n",
    "        metric_samples = []\n",
    "        for u in sampled_users:\n",
    "            gt_items = set(test_df[test_df['userId'] == u]['movieId'].tolist())\n",
    "            # candidate pool\n",
    "            seen = set(train[train['userId'] == u]['movieId'].tolist())\n",
    "            unseen = set(all_items) - seen\n",
    "            candidate_pool = sample_candidate_pool(unseen, sample_size=CANDIDATE_SAMPLE)\n",
    "            recs = recommend_fn(u, k=k, candidate_pool=candidate_pool)\n",
    "            metric_samples.append(metric_fn(recs, gt_items, k))\n",
    "        metric_vals.append(np.mean(metric_samples))\n",
    "    lo, hi = np.percentile(metric_vals, [2.5,97.5])\n",
    "    return np.mean(metric_vals), (lo, hi)\n",
    "\n",
    "# Example: bootstrap for Precision@10 on Hybrid (this may take a while)\n",
    "print(\"Bootstrapping Precision@10 for Hybrid (this is slower)...\")\n",
    "boot_mean, (lo, hi) = bootstrap_metric(recommend_hybrid, test_subset, k=10, metric_fn=precision_at_k, n_boot=BOOTSTRAP_N)\n",
    "print(f\"Precision@10 mean={boot_mean:.4f}, 95% CI=({lo:.4f},{hi:.4f})\")\n"
   ]
  },
  {
   "cell_type": "code",
   "execution_count": null,
   "id": "7a074d15",
   "metadata": {},
   "outputs": [],
   "source": [
    "\n",
    "# --------------------------\n",
    "# VISUAL SUMMARY: metrics table and barplots\n",
    "# --------------------------\n",
    "rows = []\n",
    "for model, info in all_results.items():\n",
    "    for k in K_LIST:\n",
    "        s = info['summary'][k]\n",
    "        rows.append({\n",
    "            'model': model, 'K': k,\n",
    "            'Precision': s['precision'], 'Recall': s['recall'], 'HitRate': s['hit'], 'NDCG': s['ndcg'],\n",
    "            'Coverage': info['coverage'], 'Novelty': info['novelty'], 'ILD': info['ild']\n",
    "        })\n",
    "df_metrics = pd.DataFrame(rows)\n",
    "print(\"\\nMetrics table:\")\n",
    "print(df_metrics.pivot(index='model', columns='K', values='Precision'))\n",
    "\n",
    "# Example plot Precision@10\n",
    "plt.figure(figsize=(8,5))\n",
    "sns.barplot(data=df_metrics[df_metrics['K']==10], x='model', y='Precision')\n",
    "plt.title('Precision@10 by model')\n",
    "plt.xticks(rotation=45)\n",
    "plt.show()\n",
    "\n",
    "# Save results\n",
    "df_metrics.to_csv('evaluation_metrics_table.csv', index=False)\n",
    "print(\"Saved evaluation_metrics_table.csv\")"
   ]
  },
  {
   "cell_type": "code",
   "execution_count": null,
   "id": "5c833940",
   "metadata": {},
   "outputs": [
    {
     "name": "stdout",
     "output_type": "stream",
     "text": [
      "Starting Task 6 evaluation pipeline...\n",
      "Ratings total: 26024289, train: 25758477, test: 265812\n",
      "Users train: 270896, test: 265812\n",
      "Evaluating Popularity recommender...\n"
     ]
    },
    {
     "data": {
      "application/vnd.jupyter.widget-view+json": {
       "model_id": "95f176874d4e47b3900af944fee42c8e",
       "version_major": 2,
       "version_minor": 0
      },
      "text/plain": [
       "  0%|          | 0/200 [00:00<?, ?it/s]"
      ]
     },
     "metadata": {},
     "output_type": "display_data"
    },
    {
     "name": "stdout",
     "output_type": "stream",
     "text": [
      "Popularity results: {10: {'precision': 0.0, 'recall': 0.0, 'hit': 0.0, 'ndcg': 0.0}, 20: {'precision': 0.0, 'recall': 0.0, 'hit': 0.0, 'ndcg': 0.0}}\n",
      "Evaluating Random recommender...\n"
     ]
    },
    {
     "data": {
      "application/vnd.jupyter.widget-view+json": {
       "model_id": "64d90d57269944eea9a92191b7ec1cb5",
       "version_major": 2,
       "version_minor": 0
      },
      "text/plain": [
       "  0%|          | 0/200 [00:00<?, ?it/s]"
      ]
     },
     "metadata": {},
     "output_type": "display_data"
    },
    {
     "name": "stdout",
     "output_type": "stream",
     "text": [
      "Random results: {10: {'precision': 0.0, 'recall': 0.0, 'hit': 0.0, 'ndcg': 0.0}, 20: {'precision': 0.0, 'recall': 0.0, 'hit': 0.0, 'ndcg': 0.0}}\n",
      "Evaluating CB_full recommender...\n"
     ]
    },
    {
     "data": {
      "application/vnd.jupyter.widget-view+json": {
       "model_id": "1632d42463484c85ae732c7001b96f7f",
       "version_major": 2,
       "version_minor": 0
      },
      "text/plain": [
       "  0%|          | 0/200 [00:00<?, ?it/s]"
      ]
     },
     "metadata": {},
     "output_type": "display_data"
    },
    {
     "name": "stdout",
     "output_type": "stream",
     "text": [
      "CB_full results: {10: {'precision': 0.0, 'recall': 0.0, 'hit': 0.0, 'ndcg': 0.0}, 20: {'precision': 0.0, 'recall': 0.0, 'hit': 0.0, 'ndcg': 0.0}}\n",
      "Evaluating CB_no_cast recommender...\n"
     ]
    },
    {
     "data": {
      "application/vnd.jupyter.widget-view+json": {
       "model_id": "19eb393f03ce4f2e9d5db4ec9759804a",
       "version_major": 2,
       "version_minor": 0
      },
      "text/plain": [
       "  0%|          | 0/200 [00:00<?, ?it/s]"
      ]
     },
     "metadata": {},
     "output_type": "display_data"
    },
    {
     "name": "stdout",
     "output_type": "stream",
     "text": [
      "CB_no_cast results: {10: {'precision': 0.002, 'recall': 0.02, 'hit': 0.02, 'ndcg': 0.015088912804029997}, 20: {'precision': 0.001, 'recall': 0.02, 'hit': 0.02, 'ndcg': 0.015088912804029997}}\n",
      "Evaluating MF recommender...\n"
     ]
    },
    {
     "data": {
      "application/vnd.jupyter.widget-view+json": {
       "model_id": "8f1fcf1083b446a0870d62b3f2dd6f89",
       "version_major": 2,
       "version_minor": 0
      },
      "text/plain": [
       "  0%|          | 0/200 [00:00<?, ?it/s]"
      ]
     },
     "metadata": {},
     "output_type": "display_data"
    },
    {
     "name": "stdout",
     "output_type": "stream",
     "text": [
      "MF results: {10: {'precision': 0.001, 'recall': 0.01, 'hit': 0.01, 'ndcg': 0.007153382790366965}, 20: {'precision': 0.0007500000000000001, 'recall': 0.015, 'hit': 0.015, 'ndcg': 0.008466630465552934}}\n",
      "Evaluating Hybrid recommender...\n"
     ]
    },
    {
     "data": {
      "application/vnd.jupyter.widget-view+json": {
       "model_id": "4f06c1fca291474ea0b3a31022bd6d5a",
       "version_major": 2,
       "version_minor": 0
      },
      "text/plain": [
       "  0%|          | 0/200 [00:00<?, ?it/s]"
      ]
     },
     "metadata": {},
     "output_type": "display_data"
    },
    {
     "name": "stdout",
     "output_type": "stream",
     "text": [
      "Hybrid results: {10: {'precision': 0.0005, 'recall': 0.005, 'hit': 0.005, 'ndcg': 0.0016666666666666666}, 20: {'precision': 0.00025, 'recall': 0.005, 'hit': 0.005, 'ndcg': 0.0016666666666666666}}\n",
      "Bootstrapping Precision@10 CI for Hybrid...\n"
     ]
    },
    {
     "ename": "KeyboardInterrupt",
     "evalue": "",
     "output_type": "error",
     "traceback": [
      "\u001b[0;31m---------------------------------------------------------------------------\u001b[0m",
      "\u001b[0;31mKeyboardInterrupt\u001b[0m                         Traceback (most recent call last)",
      "Cell \u001b[0;32mIn[27], line 245\u001b[0m\n\u001b[1;32m    243\u001b[0m \u001b[38;5;66;03m# 5) Bootstrap example on Hybrid Precision@10\u001b[39;00m\n\u001b[1;32m    244\u001b[0m \u001b[38;5;28mprint\u001b[39m(\u001b[38;5;124m\"\u001b[39m\u001b[38;5;124mBootstrapping Precision@10 CI for Hybrid...\u001b[39m\u001b[38;5;124m\"\u001b[39m)\n\u001b[0;32m--> 245\u001b[0m mean_prec, (ci_lo, ci_hi) \u001b[38;5;241m=\u001b[39m \u001b[43mbootstrap_metric\u001b[49m\u001b[43m(\u001b[49m\u001b[43mrecommend_hybrid\u001b[49m\u001b[43m,\u001b[49m\u001b[43m \u001b[49m\u001b[43mtest\u001b[49m\u001b[43m,\u001b[49m\u001b[43m \u001b[49m\u001b[43mk\u001b[49m\u001b[38;5;241;43m=\u001b[39;49m\u001b[38;5;241;43m10\u001b[39;49m\u001b[43m,\u001b[49m\u001b[43m \u001b[49m\u001b[43mmetric_fn\u001b[49m\u001b[38;5;241;43m=\u001b[39;49m\u001b[43mprecision_at_k\u001b[49m\u001b[43m,\u001b[49m\u001b[43m \u001b[49m\u001b[43mn_boot\u001b[49m\u001b[38;5;241;43m=\u001b[39;49m\u001b[43mBOOTSTRAP_N\u001b[49m\u001b[43m)\u001b[49m\n\u001b[1;32m    246\u001b[0m \u001b[38;5;28mprint\u001b[39m(\u001b[38;5;124mf\u001b[39m\u001b[38;5;124m\"\u001b[39m\u001b[38;5;124mPrecision@10: \u001b[39m\u001b[38;5;132;01m{\u001b[39;00mmean_prec\u001b[38;5;132;01m:\u001b[39;00m\u001b[38;5;124m.4f\u001b[39m\u001b[38;5;132;01m}\u001b[39;00m\u001b[38;5;124m (95% CI: \u001b[39m\u001b[38;5;132;01m{\u001b[39;00mci_lo\u001b[38;5;132;01m:\u001b[39;00m\u001b[38;5;124m.4f\u001b[39m\u001b[38;5;132;01m}\u001b[39;00m\u001b[38;5;124m - \u001b[39m\u001b[38;5;132;01m{\u001b[39;00mci_hi\u001b[38;5;132;01m:\u001b[39;00m\u001b[38;5;124m.4f\u001b[39m\u001b[38;5;132;01m}\u001b[39;00m\u001b[38;5;124m)\u001b[39m\u001b[38;5;124m\"\u001b[39m)\n\u001b[1;32m    248\u001b[0m \u001b[38;5;66;03m# 6) Visual summaries\u001b[39;00m\n",
      "Cell \u001b[0;32mIn[27], line 182\u001b[0m, in \u001b[0;36mbootstrap_metric\u001b[0;34m(recommend_fn, test_df, k, metric_fn, n_boot)\u001b[0m\n\u001b[1;32m    180\u001b[0m     unseen \u001b[38;5;241m=\u001b[39m \u001b[38;5;28mset\u001b[39m(all_items) \u001b[38;5;241m-\u001b[39m seen\n\u001b[1;32m    181\u001b[0m     candidate_pool \u001b[38;5;241m=\u001b[39m sample_candidate_pool(unseen, sample_size\u001b[38;5;241m=\u001b[39mCANDIDATE_SAMPLE)\n\u001b[0;32m--> 182\u001b[0m     recs \u001b[38;5;241m=\u001b[39m \u001b[43mrecommend_fn\u001b[49m\u001b[43m(\u001b[49m\u001b[43mu\u001b[49m\u001b[43m,\u001b[49m\u001b[43m \u001b[49m\u001b[43mk\u001b[49m\u001b[38;5;241;43m=\u001b[39;49m\u001b[43mk\u001b[49m\u001b[43m,\u001b[49m\u001b[43m \u001b[49m\u001b[43mcandidate_pool\u001b[49m\u001b[38;5;241;43m=\u001b[39;49m\u001b[43mcandidate_pool\u001b[49m\u001b[43m)\u001b[49m\n\u001b[1;32m    183\u001b[0m     metric_samples\u001b[38;5;241m.\u001b[39mappend(metric_fn(recs, gt_items, k))\n\u001b[1;32m    184\u001b[0m metric_vals\u001b[38;5;241m.\u001b[39mappend(np\u001b[38;5;241m.\u001b[39mmean(metric_samples))\n",
      "Cell \u001b[0;32mIn[27], line 136\u001b[0m, in \u001b[0;36mrecommend_hybrid\u001b[0;34m(user_id, k, candidate_pool)\u001b[0m\n\u001b[1;32m    134\u001b[0m \u001b[38;5;28;01mdef\u001b[39;00m \u001b[38;5;21mrecommend_hybrid\u001b[39m(user_id, k\u001b[38;5;241m=\u001b[39m\u001b[38;5;241m100\u001b[39m, candidate_pool\u001b[38;5;241m=\u001b[39m\u001b[38;5;28;01mNone\u001b[39;00m):\n\u001b[1;32m    135\u001b[0m     \u001b[38;5;66;03m# Hybrid example, blend of CF and CB scoring\u001b[39;00m\n\u001b[0;32m--> 136\u001b[0m     \u001b[38;5;28;01mreturn\u001b[39;00m \u001b[43mrecommend_popularity_topk\u001b[49m\u001b[43m(\u001b[49m\u001b[43muser_id\u001b[49m\u001b[43m,\u001b[49m\u001b[43m \u001b[49m\u001b[43mk\u001b[49m\u001b[38;5;241;43m=\u001b[39;49m\u001b[43mk\u001b[49m\u001b[43m,\u001b[49m\u001b[43m \u001b[49m\u001b[43mcandidate_pool\u001b[49m\u001b[38;5;241;43m=\u001b[39;49m\u001b[43mcandidate_pool\u001b[49m\u001b[43m,\u001b[49m\u001b[43m \u001b[49m\u001b[43mpop_rank\u001b[49m\u001b[38;5;241;43m=\u001b[39;49m\u001b[43mpop_rank\u001b[49m\u001b[43m)\u001b[49m\n",
      "Cell \u001b[0;32mIn[27], line 113\u001b[0m, in \u001b[0;36mrecommend_popularity_topk\u001b[0;34m(user_id, k, candidate_pool, pop_rank)\u001b[0m\n\u001b[1;32m    111\u001b[0m \u001b[38;5;28;01mif\u001b[39;00m candidate_pool \u001b[38;5;129;01mis\u001b[39;00m \u001b[38;5;28;01mNone\u001b[39;00m:\n\u001b[1;32m    112\u001b[0m     \u001b[38;5;28;01mreturn\u001b[39;00m pop_rank[:k]\n\u001b[0;32m--> 113\u001b[0m filtered \u001b[38;5;241m=\u001b[39m [mid \u001b[38;5;28;01mfor\u001b[39;00m mid \u001b[38;5;129;01min\u001b[39;00m pop_rank \u001b[38;5;28;01mif\u001b[39;00m mid \u001b[38;5;129;01min\u001b[39;00m \u001b[38;5;28mset\u001b[39m(candidate_pool)]\n\u001b[1;32m    114\u001b[0m \u001b[38;5;28;01mreturn\u001b[39;00m filtered[:k]\n",
      "Cell \u001b[0;32mIn[27], line 113\u001b[0m, in \u001b[0;36m<listcomp>\u001b[0;34m(.0)\u001b[0m\n\u001b[1;32m    111\u001b[0m \u001b[38;5;28;01mif\u001b[39;00m candidate_pool \u001b[38;5;129;01mis\u001b[39;00m \u001b[38;5;28;01mNone\u001b[39;00m:\n\u001b[1;32m    112\u001b[0m     \u001b[38;5;28;01mreturn\u001b[39;00m pop_rank[:k]\n\u001b[0;32m--> 113\u001b[0m filtered \u001b[38;5;241m=\u001b[39m [mid \u001b[38;5;28;01mfor\u001b[39;00m mid \u001b[38;5;129;01min\u001b[39;00m pop_rank \u001b[38;5;28;01mif\u001b[39;00m mid \u001b[38;5;129;01min\u001b[39;00m \u001b[38;5;28;43mset\u001b[39;49m\u001b[43m(\u001b[49m\u001b[43mcandidate_pool\u001b[49m\u001b[43m)\u001b[49m]\n\u001b[1;32m    114\u001b[0m \u001b[38;5;28;01mreturn\u001b[39;00m filtered[:k]\n",
      "\u001b[0;31mKeyboardInterrupt\u001b[0m: "
     ]
    }
   ],
   "source": [
    "import numpy as np\n",
    "import pandas as pd\n",
    "from math import log2\n",
    "from collections import defaultdict\n",
    "import matplotlib.pyplot as plt\n",
    "import seaborn as sns\n",
    "from sklearn.metrics.pairwise import cosine_similarity\n",
    "from sklearn.feature_extraction.text import TfidfVectorizer\n",
    "from tqdm.auto import tqdm\n",
    "\n",
    "# --- CONFIG ---\n",
    "RNG = np.random.default_rng(42)\n",
    "K_LIST = [10, 20]\n",
    "# BOOTSTRAP_N = 200  # increase for final runs\n",
    "# CANDIDATE_SAMPLE = 5000  # sample candidates per user for speed, None = all unseen\n",
    "# SAMPLE_USERS = None  # or int for subsampling users during prototyping\n",
    "# VERBOSE = True\n",
    "\n",
    "SAMPLE_USERS = 200\n",
    "CANDIDATE_SAMPLE = 500\n",
    "BOOTSTRAP_N = 20\n",
    "max_features_tfidf = 500\n",
    "\n",
    "\n",
    "# --- DATA ASSUMPTIONS ---\n",
    "# ratings DataFrame: ['userId', 'movieId', 'rating', 'timestamp']\n",
    "# movies_metadata DataFrame with 'id' (movieId) and optionally 'text' (e.g., overview)\n",
    "# Cast, genres, tagline can be used in 'text' field as concatenated string for CB model\n",
    "\n",
    "# --- 1) Leave-last-one time-aware train-test split per user ---\n",
    "def leave_last_one(ratings_df, time_col='timestamp'):\n",
    "    ratings_df = ratings_df.sort_values(['userId', time_col])\n",
    "    train_idx, test_idx = [], []\n",
    "    for uid, group in ratings_df.groupby('userId'):\n",
    "        if len(group) == 1:\n",
    "            train_idx.append(group.index[0])\n",
    "        else:\n",
    "            test_idx.append(group.index[-1])\n",
    "            train_idx.extend(group.index[:-1])\n",
    "    train = ratings_df.loc[train_idx].reset_index(drop=True)\n",
    "    test = ratings_df.loc[test_idx].reset_index(drop=True)\n",
    "    return train, test\n",
    "\n",
    "# --- 2) Ranking metrics ---\n",
    "def precision_at_k(recommended, ground_truth_set, k):\n",
    "    if k == 0: return 0.0\n",
    "    return len(set(recommended[:k]) & ground_truth_set) / k\n",
    "\n",
    "def recall_at_k(recommended, ground_truth_set, k):\n",
    "    if len(ground_truth_set) == 0:\n",
    "        return 0.0\n",
    "    return len(set(recommended[:k]) & ground_truth_set) / len(ground_truth_set)\n",
    "\n",
    "def hit_rate_at_k(recommended, ground_truth_set, k):\n",
    "    return 1.0 if len(set(recommended[:k]) & ground_truth_set) > 0 else 0.0\n",
    "\n",
    "def ndcg_at_k(recommended, ground_truth_set, k):\n",
    "    dcg = 0.0\n",
    "    for i, item in enumerate(recommended[:k]):\n",
    "        if item in ground_truth_set:\n",
    "            dcg += 1.0 / log2(i + 2)\n",
    "    ideal_rels = min(len(ground_truth_set), k)\n",
    "    idcg = sum(1.0 / log2(i + 2) for i in range(ideal_rels))\n",
    "    return (dcg / idcg) if idcg > 0 else 0.0\n",
    "\n",
    "# --- 3) Catalog coverage, novelty, intra-list diversity (ILD) ---\n",
    "def catalog_coverage(all_rec_lists, num_catalog):\n",
    "    unique_rec = set(i for rec in all_rec_lists for i in rec)\n",
    "    return len(unique_rec) / float(num_catalog)\n",
    "\n",
    "def novelty(all_rec_lists, item_pop, total_ratings):\n",
    "    vals = []\n",
    "    for rec in all_rec_lists:\n",
    "        vs = [ -np.log((item_pop.get(int(i),0)+1) / total_ratings) for i in rec ]\n",
    "        vals.append(np.mean(vs) if len(vs) else 0.0)\n",
    "    return np.mean(vals)\n",
    "\n",
    "def intra_list_diversity(all_rec_lists, item_sim_matrix, item_index_map):\n",
    "    diversities = []\n",
    "    for rec in all_rec_lists:\n",
    "        pairs = 0\n",
    "        sim_sum = 0.0\n",
    "        L = len(rec)\n",
    "        if L < 2:\n",
    "            continue\n",
    "        for i in range(L):\n",
    "            for j in range(i+1, L):\n",
    "                a = item_index_map[int(rec[i])]\n",
    "                b = item_index_map[int(rec[j])]\n",
    "                sim_sum += item_sim_matrix[a, b]\n",
    "                pairs += 1\n",
    "        if pairs > 0:\n",
    "            avg_sim = sim_sum / pairs\n",
    "            diversities.append(1 - avg_sim)\n",
    "    return np.mean(diversities) if diversities else np.nan\n",
    "\n",
    "# --- 4) Candidate sampling helper ---\n",
    "def sample_candidate_pool(unseen_items, sample_size=None):\n",
    "    if sample_size is None or sample_size >= len(unseen_items):\n",
    "        return unseen_items\n",
    "    return RNG.choice(list(unseen_items), size=sample_size, replace=False)\n",
    "\n",
    "# --- 5) Recommenders: placeholders you replace with real scoring/recommendation functions ---\n",
    "\n",
    "# Popularity baseline\n",
    "def build_popularity_rank(train_df):\n",
    "    pop_counts = train_df['movieId'].value_counts()\n",
    "    return pop_counts.index.tolist(), pop_counts.to_dict()\n",
    "\n",
    "def recommend_popularity_topk(user_id, k=100, candidate_pool=None, pop_rank=None):\n",
    "    if candidate_pool is None:\n",
    "        return pop_rank[:k]\n",
    "    filtered = [mid for mid in pop_rank if mid in set(candidate_pool)]\n",
    "    return filtered[:k]\n",
    "\n",
    "# Random baseline\n",
    "def recommend_random_topk(user_id, k=100, candidate_pool=None):\n",
    "    pool = list(candidate_pool) if candidate_pool is not None else all_items\n",
    "    return list(RNG.choice(pool, size=k, replace=False))\n",
    "\n",
    "# Replace these with your real recommenders\n",
    "def recommend_cb_full(user_id, k=100, candidate_pool=None):\n",
    "    # Your content-based recommendation here, e.g., using item similarity with all metadata\n",
    "    return recommend_popularity_topk(user_id, k=k, candidate_pool=candidate_pool, pop_rank=pop_rank)\n",
    "\n",
    "def recommend_cb_no_cast(user_id, k=100, candidate_pool=None):\n",
    "    # Ablation without cast features\n",
    "    return recommend_popularity_topk(user_id, k=k, candidate_pool=candidate_pool, pop_rank=pop_rank)\n",
    "\n",
    "def recommend_mf(user_id, k=100, candidate_pool=None):\n",
    "    # Collaborative filtering (MF) recommendations placeholder\n",
    "    return recommend_popularity_topk(user_id, k=k, candidate_pool=candidate_pool, pop_rank=pop_rank)\n",
    "\n",
    "def recommend_hybrid(user_id, k=100, candidate_pool=None):\n",
    "    # Hybrid example, blend of CF and CB scoring\n",
    "    return recommend_popularity_topk(user_id, k=k, candidate_pool=candidate_pool, pop_rank=pop_rank)\n",
    "\n",
    "# --- 6) Evaluation loop ---\n",
    "def evaluate_recommender(recommend_fn, test_df, k_list=K_LIST, candidate_sample=CANDIDATE_SAMPLE):\n",
    "    results = {k: defaultdict(list) for k in k_list}\n",
    "    all_rec_lists = []\n",
    "    \n",
    "    gt = test_df.groupby('userId')['movieId'].apply(list).to_dict()\n",
    "    users = list(gt.keys())\n",
    "    if SAMPLE_USERS is not None:\n",
    "        users = list(RNG.choice(users, size=min(SAMPLE_USERS, len(users)), replace=False))\n",
    "    \n",
    "    for u in tqdm(users, disable=not VERBOSE):\n",
    "        gt_items = set(gt.get(u, []))\n",
    "        seen = set(train[train['userId'] == u]['movieId'].astype(int).tolist())\n",
    "        unseen = set(all_items) - seen\n",
    "        candidate_pool = sample_candidate_pool(unseen, sample_size=candidate_sample)\n",
    "        recs = recommend_fn(u, k=max(k_list), candidate_pool=candidate_pool)\n",
    "        all_rec_lists.append(recs)\n",
    "        \n",
    "        for k in k_list:\n",
    "            results[k]['precision'].append(precision_at_k(recs, gt_items, k))\n",
    "            results[k]['recall'].append(recall_at_k(recs, gt_items, k))\n",
    "            results[k]['hit'].append(hit_rate_at_k(recs, gt_items, k))\n",
    "            results[k]['ndcg'].append(ndcg_at_k(recs, gt_items, k))\n",
    "    \n",
    "    summary = {k: {metric: np.mean(vals) for metric, vals in results[k].items()} for k in k_list}\n",
    "    \n",
    "    coverage = catalog_coverage(all_rec_lists, num_catalog)\n",
    "    novelty_val = novelty(all_rec_lists, item_pop, total_ratings)\n",
    "    ild_val = intra_list_diversity(all_rec_lists, item_sim_matrix, item_index_map) if item_sim_matrix is not None else np.nan\n",
    "    \n",
    "    return summary, coverage, novelty_val, ild_val, all_rec_lists\n",
    "\n",
    "# --- 7) Bootstrapping for 95% CI of a metric ---\n",
    "def bootstrap_metric(recommend_fn, test_df, k=10, metric_fn=precision_at_k, n_boot=BOOTSTRAP_N):\n",
    "    users = list(test_df.groupby('userId').groups.keys())\n",
    "    metric_vals = []\n",
    "    for _ in range(n_boot):\n",
    "        sampled_users = RNG.choice(users, size=len(users), replace=True)\n",
    "        metric_samples = []\n",
    "        for u in sampled_users:\n",
    "            gt_items = set(test_df[test_df['userId'] == u]['movieId'].tolist())\n",
    "            seen = set(train[train['userId'] == u]['movieId'].tolist())\n",
    "            unseen = set(all_items) - seen\n",
    "            candidate_pool = sample_candidate_pool(unseen, sample_size=CANDIDATE_SAMPLE)\n",
    "            recs = recommend_fn(u, k=k, candidate_pool=candidate_pool)\n",
    "            metric_samples.append(metric_fn(recs, gt_items, k))\n",
    "        metric_vals.append(np.mean(metric_samples))\n",
    "    lo, hi = np.percentile(metric_vals, [2.5, 97.5])\n",
    "    return np.mean(metric_vals), (lo, hi)\n",
    "\n",
    "# -----------------------------\n",
    "# ---- RUN PIPELINE -----------\n",
    "\n",
    "print(\"Starting Task 6 evaluation pipeline...\")\n",
    "\n",
    "# 0) Preprocessing: ensure consistent types\n",
    "movies_metadata['id'] = pd.to_numeric(movies_metadata['id'], errors='coerce')\n",
    "movies_metadata = movies_metadata.dropna(subset=['id'])\n",
    "movies_metadata['id'] = movies_metadata['id'].astype(int)\n",
    "\n",
    "# 1) Train-test split\n",
    "train, test = leave_last_one(ratings, time_col='timestamp')\n",
    "print(f\"Ratings total: {len(ratings)}, train: {len(train)}, test: {len(test)}\")\n",
    "print(f\"Users train: {train['userId'].nunique()}, test: {test['userId'].nunique()}\")\n",
    "\n",
    "# 2) Prepare global popularity, item popularity, catalog\n",
    "pop_rank, item_pop = build_popularity_rank(train)\n",
    "global_mean_rating = train['rating'].mean()\n",
    "\n",
    "all_items = movies_metadata['id'].unique().tolist()\n",
    "num_catalog = len(all_items)\n",
    "total_ratings = len(train)\n",
    "\n",
    "# 3) Item similarity matrix for ILD (optional)\n",
    "if 'text' in movies_metadata.columns:\n",
    "    tfidf = TfidfVectorizer(max_features=max_features_tfidf, stop_words='english')\n",
    "    item_text = movies_metadata.set_index('id').loc[all_items]['text'].fillna('').values\n",
    "    item_tfidf = tfidf.fit_transform(item_text)\n",
    "    print(\"Computing item similarity matrix for ILD...\")\n",
    "    item_sim_matrix = cosine_similarity(item_tfidf)\n",
    "    item_index_map = {mid: idx for idx, mid in enumerate(all_items)}\n",
    "else:\n",
    "    item_sim_matrix = None\n",
    "    item_index_map = {}\n",
    "\n",
    "# 4) Evaluate all recommenders\n",
    "variants = {\n",
    "    'Popularity': lambda u,k,candidate_pool: recommend_popularity_topk(u,k,candidate_pool,pop_rank),\n",
    "    'Random': recommend_random_topk,\n",
    "    'CB_full': recommend_cb_full,\n",
    "    'CB_no_cast': recommend_cb_no_cast,\n",
    "    'MF': recommend_mf,\n",
    "    'Hybrid': recommend_hybrid\n",
    "}\n",
    "\n",
    "all_results = {}\n",
    "all_rec_lists = {}\n",
    "\n",
    "for name, fn in variants.items():\n",
    "    print(f\"Evaluating {name} recommender...\")\n",
    "    res, cov, nov, ild, rec_lists = evaluate_recommender(fn, test, k_list=K_LIST)\n",
    "    all_results[name] = {'summary': res, 'coverage': cov, 'novelty': nov, 'ild': ild}\n",
    "    all_rec_lists[name] = rec_lists\n",
    "    print(f\"{name} results:\", res)\n",
    "\n",
    "# # 5) Bootstrap example on Hybrid Precision@10\n",
    "# print(\"Bootstrapping Precision@10 CI for Hybrid...\")\n",
    "# mean_prec, (ci_lo, ci_hi) = bootstrap_metric(recommend_hybrid, test, k=10, metric_fn=precision_at_k, n_boot=BOOTSTRAP_N)\n",
    "# print(f\"Precision@10: {mean_prec:.4f} (95% CI: {ci_lo:.4f} - {ci_hi:.4f})\")\n"
   ]
  },
  {
   "cell_type": "code",
   "execution_count": 28,
   "id": "7063cbfd",
   "metadata": {},
   "outputs": [
    {
     "name": "stdout",
     "output_type": "stream",
     "text": [
      "\n",
      "Metrics table:\n",
      "K               10       20\n",
      "model                      \n",
      "CB_full     0.0000  0.00000\n",
      "CB_no_cast  0.0020  0.00100\n",
      "Hybrid      0.0005  0.00025\n",
      "MF          0.0010  0.00075\n",
      "Popularity  0.0000  0.00000\n",
      "Random      0.0000  0.00000\n"
     ]
    },
    {
     "data": {
      "image/png": "[encoded data removed]",
      "text/plain": [
       "<Figure size 1000x600 with 1 Axes>"
      ]
     },
     "metadata": {},
     "output_type": "display_data"
    },
    {
     "name": "stdout",
     "output_type": "stream",
     "text": [
      "Saved metrics table to evaluation_metrics_table.csv\n"
     ]
    }
   ],
   "source": [
    "\n",
    "# 6) Visual summaries\n",
    "rows = []\n",
    "for model, info in all_results.items():\n",
    "    for k in K_LIST:\n",
    "        s = info['summary'][k]\n",
    "        rows.append({\n",
    "            'model': model, 'K': k,\n",
    "            'Precision': s['precision'], 'Recall': s['recall'], 'HitRate': s['hit'], 'NDCG': s['ndcg'],\n",
    "            'Coverage': info['coverage'], 'Novelty': info['novelty'], 'ILD': info['ild']\n",
    "        })\n",
    "df_metrics = pd.DataFrame(rows)\n",
    "\n",
    "print(\"\\nMetrics table:\")\n",
    "print(df_metrics.pivot(index='model', columns='K', values='Precision'))\n",
    "\n",
    "plt.figure(figsize=(10,6))\n",
    "sns.barplot(data=df_metrics[df_metrics['K']==10], x='model', y='Precision')\n",
    "plt.title('Precision@10 by model')\n",
    "plt.xticks(rotation=45)\n",
    "plt.show()\n",
    "\n",
    "# Save metrics\n",
    "df_metrics.to_csv('evaluation_metrics_table.csv', index=False)\n",
    "print(\"Saved metrics table to evaluation_metrics_table.csv\")\n"
   ]
  },
  {
   "cell_type": "code",
   "execution_count": 29,
   "id": "66ad38d0",
   "metadata": {},
   "outputs": [
    {
     "name": "stdout",
     "output_type": "stream",
     "text": [
      "dict_keys(['Popularity', 'Random', 'CB_full', 'CB_no_cast', 'MF', 'Hybrid'])\n",
      "[{'model': 'Popularity', 'K': 10, 'Precision': 0.0, 'Recall': 0.0, 'HitRate': 0.0, 'NDCG': 0.0, 'Coverage': 0.04058041218953673, 'Novelty': 9.234420188139456, 'ILD': nan}, {'model': 'Popularity', 'K': 20, 'Precision': 0.0, 'Recall': 0.0, 'HitRate': 0.0, 'NDCG': 0.0, 'Coverage': 0.04058041218953673, 'Novelty': 9.234420188139456, 'ILD': nan}, {'model': 'Random', 'K': 10, 'Precision': 0.0, 'Recall': 0.0, 'HitRate': 0.0, 'NDCG': 0.0, 'Coverage': 0.08395719570195526, 'Novelty': 16.34041764687705, 'ILD': nan}]\n",
      "        model   K  Precision  Recall  HitRate  NDCG  Coverage    Novelty  ILD\n",
      "0  Popularity  10        0.0     0.0      0.0   0.0  0.040580   9.234420  NaN\n",
      "1  Popularity  20        0.0     0.0      0.0   0.0  0.040580   9.234420  NaN\n",
      "2      Random  10        0.0     0.0      0.0   0.0  0.083957  16.340418  NaN\n",
      "3      Random  20        0.0     0.0      0.0   0.0  0.083957  16.340418  NaN\n",
      "4     CB_full  10        0.0     0.0      0.0   0.0  0.041153   9.275563  NaN\n"
     ]
    }
   ],
   "source": [
    "print(all_results.keys())\n",
    "print(rows[:3])\n",
    "print(df_metrics.head())"
   ]
  }
 ],
 "metadata": {
  "kernelspec": {
   "display_name": "Python 3",
   "language": "python",
   "name": "python3"
  },
  "language_info": {
   "codemirror_mode": {
    "name": "ipython",
    "version": 3
   },
   "file_extension": ".py",
   "mimetype": "text/x-python",
   "name": "python",
   "nbconvert_exporter": "python",
   "pygments_lexer": "ipython3",
   "version": "3.11.5"
  }
 },
 "nbformat": 4,
 "nbformat_minor": 5
}

{
 "cells": [
  {
   "cell_type": "markdown",
   "id": "2d90cc4b",
   "metadata": {},
   "source": [
    "# Task2"
   ]
  },
  {
   "cell_type": "code",
   "execution_count": 13,
   "id": "7f843ee6",
   "metadata": {},
   "outputs": [],
   "source": [
    "import pandas as pd\n",
    "import matplotlib.pyplot as plt\n",
    "import seaborn as sns"
   ]
  },
  {
   "cell_type": "code",
   "execution_count": 14,
   "id": "ab8dfa63",
   "metadata": {},
   "outputs": [],
   "source": [
    "df = pd.read_csv('../data/movies.csv')"
   ]
  },
  {
   "cell_type": "code",
   "execution_count": 15,
   "id": "c475e924",
   "metadata": {},
   "outputs": [
    {
     "data": {
      "application/vnd.microsoft.datawrangler.viewer.v0+json": {
       "columns": [
        {
         "name": "index",
         "rawType": "object",
         "type": "string"
        },
        {
         "name": "0",
         "rawType": "int64",
         "type": "integer"
        }
       ],
       "ref": "c7766beb-8afa-47cf-a546-0c26e9a583c7",
       "rows": [
        [
         "id",
         "0"
        ],
        [
         "title",
         "0"
        ],
        [
         "genres",
         "44"
        ],
        [
         "overview",
         "0"
        ],
        [
         "rating",
         "0"
        ],
        [
         "spoken_languages",
         "199"
        ],
        [
         "cast",
         "132"
        ],
        [
         "crew",
         "26"
        ],
        [
         "vote_average",
         "0"
        ],
        [
         "vote_count",
         "0"
        ],
        [
         "popularity",
         "0"
        ],
        [
         "budget",
         "0"
        ],
        [
         "keywords",
         "1167"
        ],
        [
         "production_companies",
         "1057"
        ],
        [
         "revenue",
         "0"
        ],
        [
         "runtime",
         "0"
        ],
        [
         "poster_path",
         "0"
        ]
       ],
       "shape": {
        "columns": 1,
        "rows": 17
       }
      },
      "text/plain": [
       "id                         0\n",
       "title                      0\n",
       "genres                    44\n",
       "overview                   0\n",
       "rating                     0\n",
       "spoken_languages         199\n",
       "cast                     132\n",
       "crew                      26\n",
       "vote_average               0\n",
       "vote_count                 0\n",
       "popularity                 0\n",
       "budget                     0\n",
       "keywords                1167\n",
       "production_companies    1057\n",
       "revenue                    0\n",
       "runtime                    0\n",
       "poster_path                0\n",
       "dtype: int64"
      ]
     },
     "execution_count": 15,
     "metadata": {},
     "output_type": "execute_result"
    }
   ],
   "source": [
    "df.isnull().sum()"
   ]
  },
  {
   "cell_type": "code",
   "execution_count": 16,
   "id": "d9cd10b9",
   "metadata": {},
   "outputs": [],
   "source": [
    "df = df.dropna()"
   ]
  },
  {
   "cell_type": "code",
   "execution_count": 17,
   "id": "825e8c54",
   "metadata": {},
   "outputs": [],
   "source": [
    "m = df['vote_count'].quantile(0.80)\n",
    "C = df['vote_average'].mean()\n",
    "df = df[df['vote_count'] >= m]"
   ]
  },
  {
   "cell_type": "code",
   "execution_count": 18,
   "id": "9117fa6a",
   "metadata": {},
   "outputs": [],
   "source": [
    "# Formula\n",
    "def weighted_rating(x,m=m,C=C):\n",
    "    v = x['vote_count']\n",
    "    R = x['vote_average']\n",
    "    return ((v/v+m)*R) + ((m/v+m)*C)"
   ]
  },
  {
   "cell_type": "code",
   "execution_count": 19,
   "id": "63bae996",
   "metadata": {},
   "outputs": [],
   "source": [
    "# weighted rating (score) which is used for recommending movies\n",
    "df['score'] = df.apply(weighted_rating,axis=1)\n",
    "df.drop(labels=['rating'],axis=1,inplace=True)"
   ]
  },
  {
   "cell_type": "code",
   "execution_count": 20,
   "id": "9fcbe28a",
   "metadata": {},
   "outputs": [
    {
     "data": {
      "text/plain": [
       "np.int64(4465)"
      ]
     },
     "execution_count": 20,
     "metadata": {},
     "output_type": "execute_result"
    }
   ],
   "source": [
    "df.duplicated().sum()"
   ]
  },
  {
   "cell_type": "code",
   "execution_count": 21,
   "id": "e6daab6d",
   "metadata": {},
   "outputs": [
    {
     "data": {
      "application/vnd.microsoft.datawrangler.viewer.v0+json": {
       "columns": [
        {
         "name": "index",
         "rawType": "int64",
         "type": "integer"
        },
        {
         "name": "title",
         "rawType": "object",
         "type": "string"
        },
        {
         "name": "vote_count",
         "rawType": "float64",
         "type": "float"
        },
        {
         "name": "vote_average",
         "rawType": "float64",
         "type": "float"
        },
        {
         "name": "score",
         "rawType": "float64",
         "type": "float"
        },
        {
         "name": "popularity",
         "rawType": "float64",
         "type": "float"
        }
       ],
       "ref": "f530127c-a4ed-4804-8410-3260b243087d",
       "rows": [
        [
         "3323",
         "The Godfather",
         "6024.0",
         "8.5",
         "17979.902429116264",
         "41.109264"
        ],
        [
         "1439",
         "The Shawshank Redemption",
         "8358.0",
         "8.5",
         "17979.539473729383",
         "51.645403"
        ],
        [
         "4694",
         "Psycho",
         "2405.0",
         "8.3",
         "17743.058246329092",
         "36.826309"
        ],
        [
         "4517",
         "One Flew Over the Cuckoo's Nest",
         "3001.0",
         "8.3",
         "17742.411692172052",
         "35.529554"
        ],
        [
         "4712",
         "The Godfather: Part II",
         "3418.0",
         "8.3",
         "17742.093391375154",
         "36.629307"
        ],
        [
         "8646",
         "Life Is Beautiful",
         "3643.0",
         "8.3",
         "17741.951912690572",
         "39.39497"
        ],
        [
         "17126",
         "Spirited Away",
         "3968.0",
         "8.3",
         "17741.77588043613",
         "41.048867"
        ],
        [
         "27776",
         "Whiplash",
         "4376.0",
         "8.3",
         "17741.59190878292",
         "64.29999"
        ],
        [
         "2352",
         "Schindler's List",
         "4436.0",
         "8.3",
         "17741.567708406325",
         "41.725123"
        ],
        [
         "1350",
         "Pulp Fiction",
         "8670.0",
         "8.3",
         "17740.705762634767",
         "140.950236"
        ]
       ],
       "shape": {
        "columns": 5,
        "rows": 10
       }
      },
      "text/html": [
       "<div>\n",
       "<style scoped>\n",
       "    .dataframe tbody tr th:only-of-type {\n",
       "        vertical-align: middle;\n",
       "    }\n",
       "\n",
       "    .dataframe tbody tr th {\n",
       "        vertical-align: top;\n",
       "    }\n",
       "\n",
       "    .dataframe thead th {\n",
       "        text-align: right;\n",
       "    }\n",
       "</style>\n",
       "<table border=\"1\" class=\"dataframe\">\n",
       "  <thead>\n",
       "    <tr style=\"text-align: right;\">\n",
       "      <th></th>\n",
       "      <th>title</th>\n",
       "      <th>vote_count</th>\n",
       "      <th>vote_average</th>\n",
       "      <th>score</th>\n",
       "      <th>popularity</th>\n",
       "    </tr>\n",
       "  </thead>\n",
       "  <tbody>\n",
       "    <tr>\n",
       "      <th>3323</th>\n",
       "      <td>The Godfather</td>\n",
       "      <td>6024.0</td>\n",
       "      <td>8.5</td>\n",
       "      <td>17979.902429</td>\n",
       "      <td>41.109264</td>\n",
       "    </tr>\n",
       "    <tr>\n",
       "      <th>1439</th>\n",
       "      <td>The Shawshank Redemption</td>\n",
       "      <td>8358.0</td>\n",
       "      <td>8.5</td>\n",
       "      <td>17979.539474</td>\n",
       "      <td>51.645403</td>\n",
       "    </tr>\n",
       "    <tr>\n",
       "      <th>4694</th>\n",
       "      <td>Psycho</td>\n",
       "      <td>2405.0</td>\n",
       "      <td>8.3</td>\n",
       "      <td>17743.058246</td>\n",
       "      <td>36.826309</td>\n",
       "    </tr>\n",
       "    <tr>\n",
       "      <th>4517</th>\n",
       "      <td>One Flew Over the Cuckoo's Nest</td>\n",
       "      <td>3001.0</td>\n",
       "      <td>8.3</td>\n",
       "      <td>17742.411692</td>\n",
       "      <td>35.529554</td>\n",
       "    </tr>\n",
       "    <tr>\n",
       "      <th>4712</th>\n",
       "      <td>The Godfather: Part II</td>\n",
       "      <td>3418.0</td>\n",
       "      <td>8.3</td>\n",
       "      <td>17742.093391</td>\n",
       "      <td>36.629307</td>\n",
       "    </tr>\n",
       "    <tr>\n",
       "      <th>8646</th>\n",
       "      <td>Life Is Beautiful</td>\n",
       "      <td>3643.0</td>\n",
       "      <td>8.3</td>\n",
       "      <td>17741.951913</td>\n",
       "      <td>39.394970</td>\n",
       "    </tr>\n",
       "    <tr>\n",
       "      <th>17126</th>\n",
       "      <td>Spirited Away</td>\n",
       "      <td>3968.0</td>\n",
       "      <td>8.3</td>\n",
       "      <td>17741.775880</td>\n",
       "      <td>41.048867</td>\n",
       "    </tr>\n",
       "    <tr>\n",
       "      <th>27776</th>\n",
       "      <td>Whiplash</td>\n",
       "      <td>4376.0</td>\n",
       "      <td>8.3</td>\n",
       "      <td>17741.591909</td>\n",
       "      <td>64.299990</td>\n",
       "    </tr>\n",
       "    <tr>\n",
       "      <th>2352</th>\n",
       "      <td>Schindler's List</td>\n",
       "      <td>4436.0</td>\n",
       "      <td>8.3</td>\n",
       "      <td>17741.567708</td>\n",
       "      <td>41.725123</td>\n",
       "    </tr>\n",
       "    <tr>\n",
       "      <th>1350</th>\n",
       "      <td>Pulp Fiction</td>\n",
       "      <td>8670.0</td>\n",
       "      <td>8.3</td>\n",
       "      <td>17740.705763</td>\n",
       "      <td>140.950236</td>\n",
       "    </tr>\n",
       "  </tbody>\n",
       "</table>\n",
       "</div>"
      ],
      "text/plain": [
       "                                 title  vote_count  vote_average  \\\n",
       "3323                     The Godfather      6024.0           8.5   \n",
       "1439          The Shawshank Redemption      8358.0           8.5   \n",
       "4694                            Psycho      2405.0           8.3   \n",
       "4517   One Flew Over the Cuckoo's Nest      3001.0           8.3   \n",
       "4712            The Godfather: Part II      3418.0           8.3   \n",
       "8646                 Life Is Beautiful      3643.0           8.3   \n",
       "17126                    Spirited Away      3968.0           8.3   \n",
       "27776                         Whiplash      4376.0           8.3   \n",
       "2352                  Schindler's List      4436.0           8.3   \n",
       "1350                      Pulp Fiction      8670.0           8.3   \n",
       "\n",
       "              score  popularity  \n",
       "3323   17979.902429   41.109264  \n",
       "1439   17979.539474   51.645403  \n",
       "4694   17743.058246   36.826309  \n",
       "4517   17742.411692   35.529554  \n",
       "4712   17742.093391   36.629307  \n",
       "8646   17741.951913   39.394970  \n",
       "17126  17741.775880   41.048867  \n",
       "27776  17741.591909   64.299990  \n",
       "2352   17741.567708   41.725123  \n",
       "1350   17740.705763  140.950236  "
      ]
     },
     "execution_count": 21,
     "metadata": {},
     "output_type": "execute_result"
    }
   ],
   "source": [
    "new_df = df.drop_duplicates()\n",
    "new_df = new_df.sort_values('score', ascending=False)\n",
    "\n",
    "new_df[[\"title\", \"vote_count\", \"vote_average\", \"score\",'popularity']].head(10) #dropping unnecessary columns"
   ]
  },
  {
   "cell_type": "code",
   "execution_count": 22,
   "id": "057fcd4c",
   "metadata": {},
   "outputs": [
    {
     "data": {
      "image/png": "[encoded data removed]",
      "text/plain": [
       "<Figure size 1200x600 with 1 Axes>"
      ]
     },
     "metadata": {},
     "output_type": "display_data"
    }
   ],
   "source": [
    "popularity = new_df.sort_values('popularity',ascending=False)\n",
    "\n",
    "plt.figure(figsize=(12,6))\n",
    "\n",
    "ax = sns.barplot(x=popularity['popularity'].head(5), y=popularity['title'].head(5), data=popularity)\n",
    "\n",
    "plt.title('Most Popular Movies by their respective scores')\n",
    "plt.xlabel('Score of Popularity')\n",
    "plt.ylabel('Movie Title')\n",
    "\n",
    "plt.show()"
   ]
  },
  {
   "cell_type": "code",
   "execution_count": 23,
   "id": "9c5cfaee",
   "metadata": {},
   "outputs": [
    {
     "data": {
      "text/plain": [
       "Text(0, 0.5, 'Movie Title')"
      ]
     },
     "execution_count": 23,
     "metadata": {},
     "output_type": "execute_result"
    },
    {
     "data": {
      "image/png": "[encoded data removed]",
      "text/plain": [
       "<Figure size 1200x600 with 1 Axes>"
      ]
     },
     "metadata": {},
     "output_type": "display_data"
    }
   ],
   "source": [
    "weight_average = new_df.sort_values('score',ascending=False)\n",
    "\n",
    "plt.figure(figsize=(12,6))\n",
    "\n",
    "axis1=sns.barplot(x=weight_average['score'].head(5), y=weight_average['title'].head(5), data=weight_average)\n",
    "\n",
    "plt.title('Best Movies according to calculated score')\n",
    "plt.xlabel('Weighted Average Score')\n",
    "plt.ylabel('Movie Title')"
   ]
  },
  {
   "cell_type": "code",
   "execution_count": 24,
   "id": "a66ab568",
   "metadata": {},
   "outputs": [],
   "source": [
    "#SAVE \n",
    "import pickle\n",
    "with open(\"models/popularityRecommender.pkl\", \"wb\") as f:\n",
    "    pickle.dump(popularity, f)\n",
    "\n",
    "with open(\"models/weight_average.pkl\", \"wb\") as f:\n",
    "    pickle.dump(weight_average, f)"
   ]
  }
 ],
 "metadata": {
  "kernelspec": {
   "display_name": "Python 3",
   "language": "python",
   "name": "python3"
  },
  "language_info": {
   "codemirror_mode": {
    "name": "ipython",
    "version": 3
   },
   "file_extension": ".py",
   "mimetype": "text/x-python",
   "name": "python",
   "nbconvert_exporter": "python",
   "pygments_lexer": "ipython3",
   "version": "3.10.7"
  }
 },
 "nbformat": 4,
 "nbformat_minor": 5
}

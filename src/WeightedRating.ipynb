{
 "cells": [
  {
   "cell_type": "markdown",
   "id": "2d90cc4b",
   "metadata": {},
   "source": [
    "# Task2"
   ]
  },
  {
   "cell_type": "code",
   "execution_count": 25,
   "id": "7f843ee6",
   "metadata": {},
   "outputs": [],
   "source": [
    "import pandas as pd\n",
    "import matplotlib.pyplot as plt\n",
    "import seaborn as sns"
   ]
  },
  {
   "cell_type": "code",
   "execution_count": 26,
   "id": "ab8dfa63",
   "metadata": {},
   "outputs": [],
   "source": [
    "df = pd.read_csv('../data/movies.csv')"
   ]
  },
  {
   "cell_type": "code",
   "execution_count": 27,
   "id": "c475e924",
   "metadata": {},
   "outputs": [
    {
     "data": {
      "application/vnd.microsoft.datawrangler.viewer.v0+json": {
       "columns": [
        {
         "name": "index",
         "rawType": "object",
         "type": "string"
        },
        {
         "name": "0",
         "rawType": "int64",
         "type": "integer"
        }
       ],
       "ref": "03add56a-bcee-45ab-8c46-447875e82782",
       "rows": [
        [
         "id",
         "0"
        ],
        [
         "rating",
         "0"
        ],
        [
         "title",
         "0"
        ],
        [
         "genres",
         "31"
        ],
        [
         "overview",
         "0"
        ],
        [
         "spoken_languages",
         "138"
        ],
        [
         "cast",
         "89"
        ],
        [
         "crew",
         "24"
        ],
        [
         "vote_average",
         "0"
        ],
        [
         "vote_count",
         "0"
        ],
        [
         "popularity",
         "0"
        ],
        [
         "budget",
         "0"
        ],
        [
         "keywords",
         "747"
        ],
        [
         "production_companies",
         "653"
        ],
        [
         "revenue",
         "0"
        ],
        [
         "runtime",
         "0"
        ],
        [
         "poster_path",
         "0"
        ]
       ],
       "shape": {
        "columns": 1,
        "rows": 17
       }
      },
      "text/plain": [
       "id                        0\n",
       "rating                    0\n",
       "title                     0\n",
       "genres                   31\n",
       "overview                  0\n",
       "spoken_languages        138\n",
       "cast                     89\n",
       "crew                     24\n",
       "vote_average              0\n",
       "vote_count                0\n",
       "popularity                0\n",
       "budget                    0\n",
       "keywords                747\n",
       "production_companies    653\n",
       "revenue                   0\n",
       "runtime                   0\n",
       "poster_path               0\n",
       "dtype: int64"
      ]
     },
     "execution_count": 27,
     "metadata": {},
     "output_type": "execute_result"
    }
   ],
   "source": [
    "df.isnull().sum()"
   ]
  },
  {
   "cell_type": "code",
   "execution_count": 28,
   "id": "d9cd10b9",
   "metadata": {},
   "outputs": [],
   "source": [
    "df = df.dropna()"
   ]
  },
  {
   "cell_type": "code",
   "execution_count": 29,
   "id": "825e8c54",
   "metadata": {},
   "outputs": [],
   "source": [
    "m = df['vote_count'].quantile(0.80)\n",
    "C = df['vote_average'].mean()\n",
    "df = df[df['vote_count'] >= m]"
   ]
  },
  {
   "cell_type": "code",
   "execution_count": 30,
   "id": "9117fa6a",
   "metadata": {},
   "outputs": [],
   "source": [
    "def weighted_rating(x,m=m,C=C):\n",
    "    v = x['vote_count']\n",
    "    R = x['vote_average']\n",
    "    return ((v/v+m)*R) + ((m/v+m)*C)"
   ]
  },
  {
   "cell_type": "code",
   "execution_count": 31,
   "id": "63bae996",
   "metadata": {},
   "outputs": [],
   "source": [
    "df['score'] = df.apply(weighted_rating,axis=1)\n",
    "df.drop(labels=['rating'],axis=1,inplace=True)"
   ]
  },
  {
   "cell_type": "code",
   "execution_count": 32,
   "id": "9fcbe28a",
   "metadata": {},
   "outputs": [
    {
     "data": {
      "text/plain": [
       "np.int64(0)"
      ]
     },
     "execution_count": 32,
     "metadata": {},
     "output_type": "execute_result"
    }
   ],
   "source": [
    "df.duplicated().sum()"
   ]
  },
  {
   "cell_type": "code",
   "execution_count": 33,
   "id": "e6daab6d",
   "metadata": {},
   "outputs": [
    {
     "data": {
      "application/vnd.microsoft.datawrangler.viewer.v0+json": {
       "columns": [
        {
         "name": "index",
         "rawType": "int64",
         "type": "integer"
        },
        {
         "name": "title",
         "rawType": "object",
         "type": "string"
        },
        {
         "name": "vote_count",
         "rawType": "float64",
         "type": "float"
        },
        {
         "name": "vote_average",
         "rawType": "float64",
         "type": "float"
        },
        {
         "name": "score",
         "rawType": "float64",
         "type": "float"
        },
        {
         "name": "popularity",
         "rawType": "float64",
         "type": "float"
        }
       ],
       "ref": "675316e5-9e92-4a7b-847b-e56519ff8780",
       "rows": [
        [
         "166",
         "The Godfather",
         "6024.0",
         "8.5",
         "9044.032626931985",
         "41.109264"
        ],
        [
         "200",
         "The Shawshank Redemption",
         "8358.0",
         "8.5",
         "9043.852582287676",
         "51.645403"
        ],
        [
         "227",
         "Once Upon a Time in America",
         "1104.0",
         "8.3",
         "8925.505905620497",
         "32.182851"
        ],
        [
         "351",
         "Psycho",
         "2405.0",
         "8.3",
         "8923.602813426365",
         "36.826309"
        ],
        [
         "337",
         "One Flew Over the Cuckoo's Nest",
         "3001.0",
         "8.3",
         "8923.282089124046",
         "35.529554"
        ],
        [
         "168",
         "The Godfather: Part II",
         "3418.0",
         "8.3",
         "8923.12419546595",
         "36.629307"
        ],
        [
         "436",
         "Life Is Beautiful",
         "3643.0",
         "8.3",
         "8923.05401472098",
         "39.39497"
        ],
        [
         "80",
         "Spirited Away",
         "3968.0",
         "8.3",
         "8922.966693618211",
         "41.048867"
        ],
        [
         "8732",
         "Whiplash",
         "4376.0",
         "8.3",
         "8922.875434163023",
         "64.29999"
        ],
        [
         "288",
         "Schindler's List",
         "4436.0",
         "8.3",
         "8922.863429524563",
         "41.725123"
        ]
       ],
       "shape": {
        "columns": 5,
        "rows": 10
       }
      },
      "text/html": [
       "<div>\n",
       "<style scoped>\n",
       "    .dataframe tbody tr th:only-of-type {\n",
       "        vertical-align: middle;\n",
       "    }\n",
       "\n",
       "    .dataframe tbody tr th {\n",
       "        vertical-align: top;\n",
       "    }\n",
       "\n",
       "    .dataframe thead th {\n",
       "        text-align: right;\n",
       "    }\n",
       "</style>\n",
       "<table border=\"1\" class=\"dataframe\">\n",
       "  <thead>\n",
       "    <tr style=\"text-align: right;\">\n",
       "      <th></th>\n",
       "      <th>title</th>\n",
       "      <th>vote_count</th>\n",
       "      <th>vote_average</th>\n",
       "      <th>score</th>\n",
       "      <th>popularity</th>\n",
       "    </tr>\n",
       "  </thead>\n",
       "  <tbody>\n",
       "    <tr>\n",
       "      <th>166</th>\n",
       "      <td>The Godfather</td>\n",
       "      <td>6024.0</td>\n",
       "      <td>8.5</td>\n",
       "      <td>9044.032627</td>\n",
       "      <td>41.109264</td>\n",
       "    </tr>\n",
       "    <tr>\n",
       "      <th>200</th>\n",
       "      <td>The Shawshank Redemption</td>\n",
       "      <td>8358.0</td>\n",
       "      <td>8.5</td>\n",
       "      <td>9043.852582</td>\n",
       "      <td>51.645403</td>\n",
       "    </tr>\n",
       "    <tr>\n",
       "      <th>227</th>\n",
       "      <td>Once Upon a Time in America</td>\n",
       "      <td>1104.0</td>\n",
       "      <td>8.3</td>\n",
       "      <td>8925.505906</td>\n",
       "      <td>32.182851</td>\n",
       "    </tr>\n",
       "    <tr>\n",
       "      <th>351</th>\n",
       "      <td>Psycho</td>\n",
       "      <td>2405.0</td>\n",
       "      <td>8.3</td>\n",
       "      <td>8923.602813</td>\n",
       "      <td>36.826309</td>\n",
       "    </tr>\n",
       "    <tr>\n",
       "      <th>337</th>\n",
       "      <td>One Flew Over the Cuckoo's Nest</td>\n",
       "      <td>3001.0</td>\n",
       "      <td>8.3</td>\n",
       "      <td>8923.282089</td>\n",
       "      <td>35.529554</td>\n",
       "    </tr>\n",
       "    <tr>\n",
       "      <th>168</th>\n",
       "      <td>The Godfather: Part II</td>\n",
       "      <td>3418.0</td>\n",
       "      <td>8.3</td>\n",
       "      <td>8923.124195</td>\n",
       "      <td>36.629307</td>\n",
       "    </tr>\n",
       "    <tr>\n",
       "      <th>436</th>\n",
       "      <td>Life Is Beautiful</td>\n",
       "      <td>3643.0</td>\n",
       "      <td>8.3</td>\n",
       "      <td>8923.054015</td>\n",
       "      <td>39.394970</td>\n",
       "    </tr>\n",
       "    <tr>\n",
       "      <th>80</th>\n",
       "      <td>Spirited Away</td>\n",
       "      <td>3968.0</td>\n",
       "      <td>8.3</td>\n",
       "      <td>8922.966694</td>\n",
       "      <td>41.048867</td>\n",
       "    </tr>\n",
       "    <tr>\n",
       "      <th>8732</th>\n",
       "      <td>Whiplash</td>\n",
       "      <td>4376.0</td>\n",
       "      <td>8.3</td>\n",
       "      <td>8922.875434</td>\n",
       "      <td>64.299990</td>\n",
       "    </tr>\n",
       "    <tr>\n",
       "      <th>288</th>\n",
       "      <td>Schindler's List</td>\n",
       "      <td>4436.0</td>\n",
       "      <td>8.3</td>\n",
       "      <td>8922.863430</td>\n",
       "      <td>41.725123</td>\n",
       "    </tr>\n",
       "  </tbody>\n",
       "</table>\n",
       "</div>"
      ],
      "text/plain": [
       "                                title  vote_count  vote_average        score  \\\n",
       "166                     The Godfather      6024.0           8.5  9044.032627   \n",
       "200          The Shawshank Redemption      8358.0           8.5  9043.852582   \n",
       "227       Once Upon a Time in America      1104.0           8.3  8925.505906   \n",
       "351                            Psycho      2405.0           8.3  8923.602813   \n",
       "337   One Flew Over the Cuckoo's Nest      3001.0           8.3  8923.282089   \n",
       "168            The Godfather: Part II      3418.0           8.3  8923.124195   \n",
       "436                 Life Is Beautiful      3643.0           8.3  8923.054015   \n",
       "80                      Spirited Away      3968.0           8.3  8922.966694   \n",
       "8732                         Whiplash      4376.0           8.3  8922.875434   \n",
       "288                  Schindler's List      4436.0           8.3  8922.863430   \n",
       "\n",
       "      popularity  \n",
       "166    41.109264  \n",
       "200    51.645403  \n",
       "227    32.182851  \n",
       "351    36.826309  \n",
       "337    35.529554  \n",
       "168    36.629307  \n",
       "436    39.394970  \n",
       "80     41.048867  \n",
       "8732   64.299990  \n",
       "288    41.725123  "
      ]
     },
     "execution_count": 33,
     "metadata": {},
     "output_type": "execute_result"
    }
   ],
   "source": [
    "new_df = df.drop_duplicates()\n",
    "new_df = new_df.sort_values('score', ascending=False)\n",
    "\n",
    "new_df[[\"title\", \"vote_count\", \"vote_average\", \"score\",'popularity']].head(10) #dropping unnecessary columns"
   ]
  },
  {
   "cell_type": "code",
   "execution_count": 38,
   "id": "057fcd4c",
   "metadata": {},
   "outputs": [
    {
     "data": {
      "image/png": "[encoded data removed]",
      "text/plain": [
       "<Figure size 1200x600 with 1 Axes>"
      ]
     },
     "metadata": {},
     "output_type": "display_data"
    }
   ],
   "source": [
    "popularity = new_df.sort_values('popularity',ascending=False)\n",
    "\n",
    "plt.figure(figsize=(12,6))\n",
    "\n",
    "ax = sns.barplot(x=popularity['popularity'].head(5), y=popularity['title'].head(5), data=popularity,color=\"darkcyan\")\n",
    "\n",
    "plt.title('Most Popular Movies by their respective scores')\n",
    "plt.xlabel('Score of Popularity')\n",
    "plt.ylabel('Movie Title')\n",
    "\n",
    "plt.show()"
   ]
  },
  {
   "cell_type": "code",
   "execution_count": 39,
   "id": "9c5cfaee",
   "metadata": {},
   "outputs": [
    {
     "data": {
      "text/plain": [
       "Text(0, 0.5, 'Movie Title')"
      ]
     },
     "execution_count": 39,
     "metadata": {},
     "output_type": "execute_result"
    },
    {
     "data": {
      "image/png": "[encoded data removed]",
      "text/plain": [
       "<Figure size 1200x600 with 1 Axes>"
      ]
     },
     "metadata": {},
     "output_type": "display_data"
    }
   ],
   "source": [
    "weight_average = new_df.sort_values('score',ascending=False)\n",
    "\n",
    "plt.figure(figsize=(12,6))\n",
    "\n",
    "axis1=sns.barplot(x=weight_average['score'].head(5), y=weight_average['title'].head(5), data=weight_average,color=\"darkcyan\")\n",
    "\n",
    "plt.title('Best Movies according to calculated score')\n",
    "plt.xlabel('Weighted Average Score')\n",
    "plt.ylabel('Movie Title')"
   ]
  },
  {
   "cell_type": "code",
   "execution_count": 36,
   "id": "a66ab568",
   "metadata": {},
   "outputs": [],
   "source": [
    "#SAVE \n",
    "import pickle\n",
    "with open(\"models/popularityRecommender.pkl\", \"wb\") as f:\n",
    "    pickle.dump(popularity, f)\n",
    "\n",
    "with open(\"models/weight_average.pkl\", \"wb\") as f:\n",
    "    pickle.dump(weight_average, f)"
   ]
  }
 ],
 "metadata": {
  "kernelspec": {
   "display_name": "Python 3",
   "language": "python",
   "name": "python3"
  },
  "language_info": {
   "codemirror_mode": {
    "name": "ipython",
    "version": 3
   },
   "file_extension": ".py",
   "mimetype": "text/x-python",
   "name": "python",
   "nbconvert_exporter": "python",
   "pygments_lexer": "ipython3",
   "version": "3.10.7"
  }
 },
 "nbformat": 4,
 "nbformat_minor": 5
}

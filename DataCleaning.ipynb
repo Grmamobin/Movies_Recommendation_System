{
 "cells": [
  {
   "cell_type": "markdown",
   "id": "3286b88a",
   "metadata": {},
   "source": [
    "# Task1"
   ]
  },
  {
   "cell_type": "markdown",
   "id": "2e9ed5a2",
   "metadata": {},
   "source": [
    "## Libraries"
   ]
  },
  {
   "cell_type": "code",
   "execution_count": 3,
   "id": "f147996d",
   "metadata": {},
   "outputs": [],
   "source": [
    "import pandas as pd\n",
    "import json\n",
    "import ast\n",
    "import numpy as np"
   ]
  },
  {
   "cell_type": "code",
   "execution_count": 4,
   "id": "95f5dbb2",
   "metadata": {},
   "outputs": [
    {
     "name": "stderr",
     "output_type": "stream",
     "text": [
      "/var/folders/vs/t6hclhb524l53jbbc2n222640000gn/T/ipykernel_82821/2482702822.py:5: DtypeWarning: Columns (10) have mixed types. Specify dtype option on import or set low_memory=False.\n",
      "  movies_metadata = pd.read_csv('.csv /movies_metadata.csv')\n"
     ]
    }
   ],
   "source": [
    "credits = pd.read_csv('.csv /credits.csv')\n",
    "keywords = pd.read_csv('.csv /keywords.csv')\n",
    "links_small = pd.read_csv('.csv /links_small.csv')\n",
    "links = pd.read_csv('.csv /links.csv')\n",
    "movies_metadata = pd.read_csv('.csv /movies_metadata.csv')\n",
    "ratings_small = pd.read_csv('.csv /ratings_small.csv')\n",
    "ratings = pd.read_csv('.csv /ratings.csv')"
   ]
  },
  {
   "cell_type": "code",
   "execution_count": 5,
   "id": "8128b1c1",
   "metadata": {},
   "outputs": [],
   "source": [
    "# Merge all of them to decrease confusion\n",
    "credits  = credits.merge(keywords, on = 'id')\n",
    "links  = links.merge(ratings_small, on = 'movieId')\n",
    "links.rename(columns = {'tmdbId':'id'}, inplace = True) #Links and credits have same column id and tmdbid\n",
    "links  = credits.merge(links, on = 'id')"
   ]
  },
  {
   "cell_type": "code",
   "execution_count": 6,
   "id": "7d52c726",
   "metadata": {},
   "outputs": [],
   "source": [
    "movies_metadata = movies_metadata.drop([29503,35587,19730]) # as the data in those points arent clear and those indices are removed\n",
    "\n",
    "movies_metadata['id'] = movies_metadata['id'].astype('int64') #id is an object we need to convert into int\n",
    "\n",
    "movies_metadata = movies_metadata.merge(links,on='id')"
   ]
  },
  {
   "cell_type": "code",
   "execution_count": 10,
   "id": "b67e8755",
   "metadata": {},
   "outputs": [
    {
     "name": "stdout",
     "output_type": "stream",
     "text": [
      "244\n"
     ]
    }
   ],
   "source": [
    "# Dropping Duplicates\n",
    "print(movies_metadata.duplicated().sum())\n",
    "df = movies_metadata.drop_duplicates()\n",
    "# Dropping unnecessary columns and rearranging them for readability\n",
    "df = df[['id','title','genres','overview','rating','spoken_languages','cast','crew','vote_average','vote_count','popularity','budget','keywords','production_companies','revenue','runtime']]"
   ]
  },
  {
   "cell_type": "markdown",
   "id": "ccc3c355",
   "metadata": {},
   "source": [
    "## Data Cleaning"
   ]
  },
  {
   "cell_type": "code",
   "execution_count": null,
   "id": "fa6a0cb6",
   "metadata": {},
   "outputs": [
    {
     "data": {
      "text/plain": [
       "(99878, 16)"
      ]
     },
     "execution_count": 11,
     "metadata": {},
     "output_type": "execute_result"
    }
   ],
   "source": [
    "df.shape"
   ]
  },
  {
   "cell_type": "code",
   "execution_count": 12,
   "id": "36eff1da",
   "metadata": {},
   "outputs": [
    {
     "data": {
      "text/plain": [
       "71255"
      ]
     },
     "execution_count": 12,
     "metadata": {},
     "output_type": "execute_result"
    }
   ],
   "source": [
    "df.duplicated().sum()"
   ]
  },
  {
   "cell_type": "code",
   "execution_count": 13,
   "id": "f1dca69f",
   "metadata": {},
   "outputs": [
    {
     "data": {
      "text/plain": [
       "(28623, 16)"
      ]
     },
     "execution_count": 13,
     "metadata": {},
     "output_type": "execute_result"
    }
   ],
   "source": [
    "df = df.drop_duplicates()\n",
    "\n",
    "df.shape"
   ]
  },
  {
   "cell_type": "code",
   "execution_count": 14,
   "id": "df1f4910",
   "metadata": {},
   "outputs": [
    {
     "data": {
      "application/vnd.microsoft.datawrangler.viewer.v0+json": {
       "columns": [
        {
         "name": "index",
         "rawType": "object",
         "type": "string"
        },
        {
         "name": "0",
         "rawType": "int64",
         "type": "integer"
        }
       ],
       "ref": "2a690650-dd3a-415a-9eed-6cdca2843cce",
       "rows": [
        [
         "id",
         "0"
        ],
        [
         "title",
         "0"
        ],
        [
         "genres",
         "0"
        ],
        [
         "overview",
         "13"
        ],
        [
         "rating",
         "0"
        ],
        [
         "spoken_languages",
         "0"
        ],
        [
         "cast",
         "0"
        ],
        [
         "crew",
         "0"
        ],
        [
         "vote_average",
         "0"
        ],
        [
         "vote_count",
         "0"
        ],
        [
         "popularity",
         "0"
        ],
        [
         "budget",
         "0"
        ],
        [
         "keywords",
         "0"
        ],
        [
         "production_companies",
         "0"
        ],
        [
         "revenue",
         "0"
        ],
        [
         "runtime",
         "0"
        ]
       ],
       "shape": {
        "columns": 1,
        "rows": 16
       }
      },
      "text/plain": [
       "id                       0\n",
       "title                    0\n",
       "genres                   0\n",
       "overview                13\n",
       "rating                   0\n",
       "spoken_languages         0\n",
       "cast                     0\n",
       "crew                     0\n",
       "vote_average             0\n",
       "vote_count               0\n",
       "popularity               0\n",
       "budget                   0\n",
       "keywords                 0\n",
       "production_companies     0\n",
       "revenue                  0\n",
       "runtime                  0\n",
       "dtype: int64"
      ]
     },
     "execution_count": 14,
     "metadata": {},
     "output_type": "execute_result"
    }
   ],
   "source": [
    "df.isnull().sum()"
   ]
  },
  {
   "cell_type": "code",
   "execution_count": 15,
   "id": "b281372a",
   "metadata": {},
   "outputs": [],
   "source": [
    "df.dropna(inplace=True)"
   ]
  },
  {
   "cell_type": "markdown",
   "id": "42887f63",
   "metadata": {},
   "source": [
    "We have id name for each genre in our dataset as we are most interested in the name of genre not on its id, we only keep its name by removing the extra unnecessary information\n",
    "\n",
    "Genre / Keywords / Cast / Crew / SpokenLanguage"
   ]
  },
  {
   "cell_type": "code",
   "execution_count": 16,
   "id": "313be634",
   "metadata": {},
   "outputs": [],
   "source": [
    "import ast\n",
    "\n",
    "def genre_convert(data):\n",
    "    genre = []\n",
    "    for i in ast.literal_eval(data):\n",
    "        genre.append(i['name'])\n",
    "    return genre \n",
    "df['genres'] = df['genres'].apply(genre_convert)\n",
    "\n",
    "def name_convert(data):\n",
    "    keywords = []\n",
    "    for i in ast.literal_eval(data):\n",
    "        keywords.append(i['name'])\n",
    "    return keywords \n",
    "df['keywords'] = df['keywords'].apply(name_convert)\n",
    "\n",
    "def cast_names(data):\n",
    "    actors = []\n",
    "    counter = 0\n",
    "    for i in ast.literal_eval(data):\n",
    "        if counter != 3:\n",
    "            actors.append(i['name'])\n",
    "            counter += 1\n",
    "    return actors \n",
    "df['cast'] = df['cast'].apply(cast_names)\n",
    "\n",
    "\n",
    "def crew_names(data):\n",
    "    director = []\n",
    "    for i in ast.literal_eval(data):\n",
    "        if i['job'] == \"Director\":\n",
    "            director.append(i['name'])\n",
    "            break\n",
    "    return director\n",
    "df['crew'] = df['crew'].apply(crew_names)\n",
    "\n",
    "def spoken_lang(data):\n",
    "    keywords = []\n",
    "    for i in ast.literal_eval(data):\n",
    "        keywords.append(i['name'])\n",
    "    return keywords\n",
    "df['spoken_languages'] = df['spoken_languages'].apply(spoken_lang)\n",
    "\n",
    "def production_companies(data):\n",
    "    production_companies = []\n",
    "    for i in ast.literal_eval(data):\n",
    "        production_companies.append(i['name'])\n",
    "    return production_companies \n",
    "df['production_companies'] = df['production_companies'].apply(production_companies)\n",
    "\n",
    "df['genres'] = df['genres'].apply(lambda x:[i.replace(\" \",\"\") for i in x])\n",
    "df['cast'] = df['cast'].apply(lambda x:[i.replace(\" \",\"\") for i in x])\n",
    "df['crew'] = df['crew'].apply(lambda x:[i.replace(\" \",\"\") for i in x])\n",
    "df['keywords'] = df['keywords'].apply(lambda x:[i.replace(\" \",\"\") for i in x])\n",
    "df['genres'] = df['genres'].apply(lambda x:\" \".join(x))\n",
    "df['cast'] = df['cast'].apply(lambda x:\" \".join(x))\n",
    "df['crew'] = df['crew'].apply(lambda x:\" \".join(x))\n",
    "df['keywords'] = df['keywords'].apply(lambda x:\" \".join(x))\n",
    "df['spoken_languages'] = df['spoken_languages'].apply(lambda x:\" \".join(x))\n",
    "df['production_companies'] = df['production_companies'].apply(lambda x:\" \".join(x))"
   ]
  },
  {
   "cell_type": "code",
   "execution_count": 17,
   "id": "08657a78",
   "metadata": {},
   "outputs": [
    {
     "data": {
      "text/plain": [
       "<bound method NDFrame.head of             id                                              title  \\\n",
       "0          862                                          Toy Story   \n",
       "1          862                                          Toy Story   \n",
       "2          862                                          Toy Story   \n",
       "3          862                                          Toy Story   \n",
       "5          862                                          Toy Story   \n",
       "...        ...                                                ...   \n",
       "100104  402672                                       Mohenjo Daro   \n",
       "100105  391698  The Beatles: Eight Days a Week - The Touring Y...   \n",
       "100106   10991                      Pokémon: Spell of the Unknown   \n",
       "100110   12600        Pokémon 4Ever: Celebi - Voice of the Forest   \n",
       "100114  265189                                      Force Majeure   \n",
       "\n",
       "                                                   genres  \\\n",
       "0                                 Animation Comedy Family   \n",
       "1                                 Animation Comedy Family   \n",
       "2                                 Animation Comedy Family   \n",
       "3                                 Animation Comedy Family   \n",
       "5                                 Animation Comedy Family   \n",
       "...                                                   ...   \n",
       "100104                    Adventure Drama History Romance   \n",
       "100105                                  Documentary Music   \n",
       "100106          Adventure Fantasy Animation Action Family   \n",
       "100110  Adventure Fantasy Animation ScienceFiction Family   \n",
       "100114                                       Comedy Drama   \n",
       "\n",
       "                                                 overview  rating  \\\n",
       "0       Led by Woody, Andy's toys live happily in his ...     3.0   \n",
       "1       Led by Woody, Andy's toys live happily in his ...     4.0   \n",
       "2       Led by Woody, Andy's toys live happily in his ...     5.0   \n",
       "3       Led by Woody, Andy's toys live happily in his ...     2.0   \n",
       "5       Led by Woody, Andy's toys live happily in his ...     3.5   \n",
       "...                                                   ...     ...   \n",
       "100104  Village lad Sarman is drawn to big, bad Mohenj...     3.0   \n",
       "100105  The band stormed Europe in 1963, and, in 1964,...     5.0   \n",
       "100106  When Molly Hale's sadness of her father's disa...     2.5   \n",
       "100110  All your favorite Pokémon characters are back,...     0.5   \n",
       "100114  While holidaying in the French Alps, a Swedish...     4.0   \n",
       "\n",
       "                      spoken_languages  \\\n",
       "0                              English   \n",
       "1                              English   \n",
       "2                              English   \n",
       "3                              English   \n",
       "5                              English   \n",
       "...                                ...   \n",
       "100104                          हिन्दी   \n",
       "100105                         English   \n",
       "100106                         English   \n",
       "100110                             日本語   \n",
       "100114  Français Norsk svenska English   \n",
       "\n",
       "                                                     cast               crew  \\\n",
       "0                            TomHanks TimAllen DonRickles       JohnLasseter   \n",
       "1                            TomHanks TimAllen DonRickles       JohnLasseter   \n",
       "2                            TomHanks TimAllen DonRickles       JohnLasseter   \n",
       "3                            TomHanks TimAllen DonRickles       JohnLasseter   \n",
       "5                            TomHanks TimAllen DonRickles       JohnLasseter   \n",
       "...                                                   ...                ...   \n",
       "100104                 HrithikRoshan PoojaHegde KabirBedi  AshutoshGowariker   \n",
       "100105                PaulMcCartney RingoStarr JohnLennon          RonHoward   \n",
       "100106            VeronicaTaylor RachaelLillis EricStuart     MichaelHaigney   \n",
       "100110       VeronicaTaylor RachaelLillis MaddieBlaustein     KunihikoYuyama   \n",
       "100114  LisaLovenKongsli JohannesBahKuhnke ClaraWetter...       RubenÖstlund   \n",
       "\n",
       "        vote_average  vote_count popularity    budget  \\\n",
       "0                7.7      5415.0  21.946943  30000000   \n",
       "1                7.7      5415.0  21.946943  30000000   \n",
       "2                7.7      5415.0  21.946943  30000000   \n",
       "3                7.7      5415.0  21.946943  30000000   \n",
       "5                7.7      5415.0  21.946943  30000000   \n",
       "...              ...         ...        ...       ...   \n",
       "100104           6.7        26.0   1.423358  15050000   \n",
       "100105           7.6        92.0   7.078301         0   \n",
       "100106           6.0       144.0   6.480376  16000000   \n",
       "100110           5.7        82.0   6.080108         0   \n",
       "100114           6.8       255.0  12.165685         0   \n",
       "\n",
       "                                                 keywords  \\\n",
       "0       jealousy toy boy friendship friends rivalry bo...   \n",
       "1       jealousy toy boy friendship friends rivalry bo...   \n",
       "2       jealousy toy boy friendship friends rivalry bo...   \n",
       "3       jealousy toy boy friendship friends rivalry bo...   \n",
       "5       jealousy toy boy friendship friends rivalry bo...   \n",
       "...                                                   ...   \n",
       "100104                                          bollywood   \n",
       "100105                                  music documentary   \n",
       "100106  mountain mountainvillage friendship basedontvs...   \n",
       "100110                              sequel pokémon celebi   \n",
       "100114  femalenudity darkcomedy familyvacation avalanc...   \n",
       "\n",
       "                                     production_companies      revenue  \\\n",
       "0                                 Pixar Animation Studios  373554033.0   \n",
       "1                                 Pixar Animation Studios  373554033.0   \n",
       "2                                 Pixar Animation Studios  373554033.0   \n",
       "3                                 Pixar Animation Studios  373554033.0   \n",
       "5                                 Pixar Animation Studios  373554033.0   \n",
       "...                                                   ...          ...   \n",
       "100104  UTV Motion Pictures Ashutosh Gowariker Product...   16180000.0   \n",
       "100105                  Imagine Entertainment Apple Corps          0.0   \n",
       "100106  TV Tokyo 4 Kids Entertainment Nintendo Pikachu...   68411275.0   \n",
       "100110                                                      28023563.0   \n",
       "100114             Motlys Coproduction Office Film i Väst    1359497.0   \n",
       "\n",
       "        runtime  \n",
       "0          81.0  \n",
       "1          81.0  \n",
       "2          81.0  \n",
       "3          81.0  \n",
       "5          81.0  \n",
       "...         ...  \n",
       "100104    155.0  \n",
       "100105     99.0  \n",
       "100106     93.0  \n",
       "100110     75.0  \n",
       "100114    118.0  \n",
       "\n",
       "[28610 rows x 16 columns]>"
      ]
     },
     "execution_count": 17,
     "metadata": {},
     "output_type": "execute_result"
    }
   ],
   "source": [
    "df.head"
   ]
  },
  {
   "cell_type": "code",
   "execution_count": 18,
   "id": "3ce25cd9",
   "metadata": {},
   "outputs": [
    {
     "name": "stdout",
     "output_type": "stream",
     "text": [
      "<class 'pandas.core.frame.DataFrame'>\n",
      "Index: 28610 entries, 0 to 100114\n",
      "Data columns (total 16 columns):\n",
      " #   Column                Non-Null Count  Dtype  \n",
      "---  ------                --------------  -----  \n",
      " 0   id                    28610 non-null  int64  \n",
      " 1   title                 28610 non-null  object \n",
      " 2   genres                28610 non-null  object \n",
      " 3   overview              28610 non-null  object \n",
      " 4   rating                28610 non-null  float64\n",
      " 5   spoken_languages      28610 non-null  object \n",
      " 6   cast                  28610 non-null  object \n",
      " 7   crew                  28610 non-null  object \n",
      " 8   vote_average          28610 non-null  float64\n",
      " 9   vote_count            28610 non-null  float64\n",
      " 10  popularity            28610 non-null  object \n",
      " 11  budget                28610 non-null  object \n",
      " 12  keywords              28610 non-null  object \n",
      " 13  production_companies  28610 non-null  object \n",
      " 14  revenue               28610 non-null  float64\n",
      " 15  runtime               28610 non-null  float64\n",
      "dtypes: float64(5), int64(1), object(10)\n",
      "memory usage: 3.7+ MB\n"
     ]
    }
   ],
   "source": [
    "df.info()"
   ]
  },
  {
   "cell_type": "code",
   "execution_count": 19,
   "id": "c9dd03bc",
   "metadata": {},
   "outputs": [],
   "source": [
    "df.to_csv('.csv /movies.csv',index=False)"
   ]
  },
  {
   "cell_type": "code",
   "execution_count": 20,
   "id": "3389ba8e",
   "metadata": {},
   "outputs": [
    {
     "data": {
      "application/vnd.microsoft.datawrangler.viewer.v0+json": {
       "columns": [
        {
         "name": "index",
         "rawType": "int64",
         "type": "integer"
        },
        {
         "name": "id",
         "rawType": "int64",
         "type": "integer"
        },
        {
         "name": "title",
         "rawType": "object",
         "type": "string"
        },
        {
         "name": "genres",
         "rawType": "object",
         "type": "string"
        },
        {
         "name": "overview",
         "rawType": "object",
         "type": "string"
        },
        {
         "name": "rating",
         "rawType": "float64",
         "type": "float"
        },
        {
         "name": "spoken_languages",
         "rawType": "object",
         "type": "string"
        },
        {
         "name": "cast",
         "rawType": "object",
         "type": "string"
        },
        {
         "name": "crew",
         "rawType": "object",
         "type": "string"
        },
        {
         "name": "vote_average",
         "rawType": "float64",
         "type": "float"
        },
        {
         "name": "vote_count",
         "rawType": "float64",
         "type": "float"
        },
        {
         "name": "popularity",
         "rawType": "float64",
         "type": "float"
        },
        {
         "name": "budget",
         "rawType": "int64",
         "type": "integer"
        },
        {
         "name": "keywords",
         "rawType": "object",
         "type": "string"
        },
        {
         "name": "production_companies",
         "rawType": "object",
         "type": "string"
        },
        {
         "name": "revenue",
         "rawType": "float64",
         "type": "float"
        },
        {
         "name": "runtime",
         "rawType": "float64",
         "type": "float"
        }
       ],
       "ref": "4a6ea584-2a74-4890-bd05-0b02f51d24a5",
       "rows": [
        [
         "0",
         "862",
         "Toy Story",
         "Animation Comedy Family",
         "Led by Woody, Andy's toys live happily in his room until Andy's birthday brings Buzz Lightyear onto the scene. Afraid of losing his place in Andy's heart, Woody plots against Buzz. But when circumstances separate Buzz and Woody from their owner, the duo eventually learns to put aside their differences.",
         "3.0",
         "English",
         "TomHanks TimAllen DonRickles",
         "JohnLasseter",
         "7.7",
         "5415.0",
         "21.946943",
         "30000000",
         "jealousy toy boy friendship friends rivalry boynextdoor newtoy toycomestolife",
         "Pixar Animation Studios",
         "373554033.0",
         "81.0"
        ],
        [
         "1",
         "862",
         "Toy Story",
         "Animation Comedy Family",
         "Led by Woody, Andy's toys live happily in his room until Andy's birthday brings Buzz Lightyear onto the scene. Afraid of losing his place in Andy's heart, Woody plots against Buzz. But when circumstances separate Buzz and Woody from their owner, the duo eventually learns to put aside their differences.",
         "4.0",
         "English",
         "TomHanks TimAllen DonRickles",
         "JohnLasseter",
         "7.7",
         "5415.0",
         "21.946943",
         "30000000",
         "jealousy toy boy friendship friends rivalry boynextdoor newtoy toycomestolife",
         "Pixar Animation Studios",
         "373554033.0",
         "81.0"
        ],
        [
         "2",
         "862",
         "Toy Story",
         "Animation Comedy Family",
         "Led by Woody, Andy's toys live happily in his room until Andy's birthday brings Buzz Lightyear onto the scene. Afraid of losing his place in Andy's heart, Woody plots against Buzz. But when circumstances separate Buzz and Woody from their owner, the duo eventually learns to put aside their differences.",
         "5.0",
         "English",
         "TomHanks TimAllen DonRickles",
         "JohnLasseter",
         "7.7",
         "5415.0",
         "21.946943",
         "30000000",
         "jealousy toy boy friendship friends rivalry boynextdoor newtoy toycomestolife",
         "Pixar Animation Studios",
         "373554033.0",
         "81.0"
        ],
        [
         "3",
         "862",
         "Toy Story",
         "Animation Comedy Family",
         "Led by Woody, Andy's toys live happily in his room until Andy's birthday brings Buzz Lightyear onto the scene. Afraid of losing his place in Andy's heart, Woody plots against Buzz. But when circumstances separate Buzz and Woody from their owner, the duo eventually learns to put aside their differences.",
         "2.0",
         "English",
         "TomHanks TimAllen DonRickles",
         "JohnLasseter",
         "7.7",
         "5415.0",
         "21.946943",
         "30000000",
         "jealousy toy boy friendship friends rivalry boynextdoor newtoy toycomestolife",
         "Pixar Animation Studios",
         "373554033.0",
         "81.0"
        ],
        [
         "4",
         "862",
         "Toy Story",
         "Animation Comedy Family",
         "Led by Woody, Andy's toys live happily in his room until Andy's birthday brings Buzz Lightyear onto the scene. Afraid of losing his place in Andy's heart, Woody plots against Buzz. But when circumstances separate Buzz and Woody from their owner, the duo eventually learns to put aside their differences.",
         "3.5",
         "English",
         "TomHanks TimAllen DonRickles",
         "JohnLasseter",
         "7.7",
         "5415.0",
         "21.946943",
         "30000000",
         "jealousy toy boy friendship friends rivalry boynextdoor newtoy toycomestolife",
         "Pixar Animation Studios",
         "373554033.0",
         "81.0"
        ]
       ],
       "shape": {
        "columns": 16,
        "rows": 5
       }
      },
      "text/html": [
       "<div>\n",
       "<style scoped>\n",
       "    .dataframe tbody tr th:only-of-type {\n",
       "        vertical-align: middle;\n",
       "    }\n",
       "\n",
       "    .dataframe tbody tr th {\n",
       "        vertical-align: top;\n",
       "    }\n",
       "\n",
       "    .dataframe thead th {\n",
       "        text-align: right;\n",
       "    }\n",
       "</style>\n",
       "<table border=\"1\" class=\"dataframe\">\n",
       "  <thead>\n",
       "    <tr style=\"text-align: right;\">\n",
       "      <th></th>\n",
       "      <th>id</th>\n",
       "      <th>title</th>\n",
       "      <th>genres</th>\n",
       "      <th>overview</th>\n",
       "      <th>rating</th>\n",
       "      <th>spoken_languages</th>\n",
       "      <th>cast</th>\n",
       "      <th>crew</th>\n",
       "      <th>vote_average</th>\n",
       "      <th>vote_count</th>\n",
       "      <th>popularity</th>\n",
       "      <th>budget</th>\n",
       "      <th>keywords</th>\n",
       "      <th>production_companies</th>\n",
       "      <th>revenue</th>\n",
       "      <th>runtime</th>\n",
       "    </tr>\n",
       "  </thead>\n",
       "  <tbody>\n",
       "    <tr>\n",
       "      <th>0</th>\n",
       "      <td>862</td>\n",
       "      <td>Toy Story</td>\n",
       "      <td>Animation Comedy Family</td>\n",
       "      <td>Led by Woody, Andy's toys live happily in his ...</td>\n",
       "      <td>3.0</td>\n",
       "      <td>English</td>\n",
       "      <td>TomHanks TimAllen DonRickles</td>\n",
       "      <td>JohnLasseter</td>\n",
       "      <td>7.7</td>\n",
       "      <td>5415.0</td>\n",
       "      <td>21.946943</td>\n",
       "      <td>30000000</td>\n",
       "      <td>jealousy toy boy friendship friends rivalry bo...</td>\n",
       "      <td>Pixar Animation Studios</td>\n",
       "      <td>373554033.0</td>\n",
       "      <td>81.0</td>\n",
       "    </tr>\n",
       "    <tr>\n",
       "      <th>1</th>\n",
       "      <td>862</td>\n",
       "      <td>Toy Story</td>\n",
       "      <td>Animation Comedy Family</td>\n",
       "      <td>Led by Woody, Andy's toys live happily in his ...</td>\n",
       "      <td>4.0</td>\n",
       "      <td>English</td>\n",
       "      <td>TomHanks TimAllen DonRickles</td>\n",
       "      <td>JohnLasseter</td>\n",
       "      <td>7.7</td>\n",
       "      <td>5415.0</td>\n",
       "      <td>21.946943</td>\n",
       "      <td>30000000</td>\n",
       "      <td>jealousy toy boy friendship friends rivalry bo...</td>\n",
       "      <td>Pixar Animation Studios</td>\n",
       "      <td>373554033.0</td>\n",
       "      <td>81.0</td>\n",
       "    </tr>\n",
       "    <tr>\n",
       "      <th>2</th>\n",
       "      <td>862</td>\n",
       "      <td>Toy Story</td>\n",
       "      <td>Animation Comedy Family</td>\n",
       "      <td>Led by Woody, Andy's toys live happily in his ...</td>\n",
       "      <td>5.0</td>\n",
       "      <td>English</td>\n",
       "      <td>TomHanks TimAllen DonRickles</td>\n",
       "      <td>JohnLasseter</td>\n",
       "      <td>7.7</td>\n",
       "      <td>5415.0</td>\n",
       "      <td>21.946943</td>\n",
       "      <td>30000000</td>\n",
       "      <td>jealousy toy boy friendship friends rivalry bo...</td>\n",
       "      <td>Pixar Animation Studios</td>\n",
       "      <td>373554033.0</td>\n",
       "      <td>81.0</td>\n",
       "    </tr>\n",
       "    <tr>\n",
       "      <th>3</th>\n",
       "      <td>862</td>\n",
       "      <td>Toy Story</td>\n",
       "      <td>Animation Comedy Family</td>\n",
       "      <td>Led by Woody, Andy's toys live happily in his ...</td>\n",
       "      <td>2.0</td>\n",
       "      <td>English</td>\n",
       "      <td>TomHanks TimAllen DonRickles</td>\n",
       "      <td>JohnLasseter</td>\n",
       "      <td>7.7</td>\n",
       "      <td>5415.0</td>\n",
       "      <td>21.946943</td>\n",
       "      <td>30000000</td>\n",
       "      <td>jealousy toy boy friendship friends rivalry bo...</td>\n",
       "      <td>Pixar Animation Studios</td>\n",
       "      <td>373554033.0</td>\n",
       "      <td>81.0</td>\n",
       "    </tr>\n",
       "    <tr>\n",
       "      <th>4</th>\n",
       "      <td>862</td>\n",
       "      <td>Toy Story</td>\n",
       "      <td>Animation Comedy Family</td>\n",
       "      <td>Led by Woody, Andy's toys live happily in his ...</td>\n",
       "      <td>3.5</td>\n",
       "      <td>English</td>\n",
       "      <td>TomHanks TimAllen DonRickles</td>\n",
       "      <td>JohnLasseter</td>\n",
       "      <td>7.7</td>\n",
       "      <td>5415.0</td>\n",
       "      <td>21.946943</td>\n",
       "      <td>30000000</td>\n",
       "      <td>jealousy toy boy friendship friends rivalry bo...</td>\n",
       "      <td>Pixar Animation Studios</td>\n",
       "      <td>373554033.0</td>\n",
       "      <td>81.0</td>\n",
       "    </tr>\n",
       "  </tbody>\n",
       "</table>\n",
       "</div>"
      ],
      "text/plain": [
       "    id      title                   genres  \\\n",
       "0  862  Toy Story  Animation Comedy Family   \n",
       "1  862  Toy Story  Animation Comedy Family   \n",
       "2  862  Toy Story  Animation Comedy Family   \n",
       "3  862  Toy Story  Animation Comedy Family   \n",
       "4  862  Toy Story  Animation Comedy Family   \n",
       "\n",
       "                                            overview  rating spoken_languages  \\\n",
       "0  Led by Woody, Andy's toys live happily in his ...     3.0          English   \n",
       "1  Led by Woody, Andy's toys live happily in his ...     4.0          English   \n",
       "2  Led by Woody, Andy's toys live happily in his ...     5.0          English   \n",
       "3  Led by Woody, Andy's toys live happily in his ...     2.0          English   \n",
       "4  Led by Woody, Andy's toys live happily in his ...     3.5          English   \n",
       "\n",
       "                           cast          crew  vote_average  vote_count  \\\n",
       "0  TomHanks TimAllen DonRickles  JohnLasseter           7.7      5415.0   \n",
       "1  TomHanks TimAllen DonRickles  JohnLasseter           7.7      5415.0   \n",
       "2  TomHanks TimAllen DonRickles  JohnLasseter           7.7      5415.0   \n",
       "3  TomHanks TimAllen DonRickles  JohnLasseter           7.7      5415.0   \n",
       "4  TomHanks TimAllen DonRickles  JohnLasseter           7.7      5415.0   \n",
       "\n",
       "   popularity    budget                                           keywords  \\\n",
       "0   21.946943  30000000  jealousy toy boy friendship friends rivalry bo...   \n",
       "1   21.946943  30000000  jealousy toy boy friendship friends rivalry bo...   \n",
       "2   21.946943  30000000  jealousy toy boy friendship friends rivalry bo...   \n",
       "3   21.946943  30000000  jealousy toy boy friendship friends rivalry bo...   \n",
       "4   21.946943  30000000  jealousy toy boy friendship friends rivalry bo...   \n",
       "\n",
       "      production_companies      revenue  runtime  \n",
       "0  Pixar Animation Studios  373554033.0     81.0  \n",
       "1  Pixar Animation Studios  373554033.0     81.0  \n",
       "2  Pixar Animation Studios  373554033.0     81.0  \n",
       "3  Pixar Animation Studios  373554033.0     81.0  \n",
       "4  Pixar Animation Studios  373554033.0     81.0  "
      ]
     },
     "execution_count": 20,
     "metadata": {},
     "output_type": "execute_result"
    }
   ],
   "source": [
    "df_act = pd.read_csv(\".csv /movies.csv\")\n",
    "\n",
    "df_act.head(5)"
   ]
  }
 ],
 "metadata": {
  "kernelspec": {
   "display_name": "Python 3",
   "language": "python",
   "name": "python3"
  },
  "language_info": {
   "codemirror_mode": {
    "name": "ipython",
    "version": 3
   },
   "file_extension": ".py",
   "mimetype": "text/x-python",
   "name": "python",
   "nbconvert_exporter": "python",
   "pygments_lexer": "ipython3",
   "version": "3.10.7"
  }
 },
 "nbformat": 4,
 "nbformat_minor": 5
}

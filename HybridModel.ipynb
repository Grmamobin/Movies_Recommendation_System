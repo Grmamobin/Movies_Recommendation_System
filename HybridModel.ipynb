{
 "cells": [
  {
   "cell_type": "markdown",
   "id": "d4b83c33",
   "metadata": {},
   "source": [
    "# Task5"
   ]
  },
  {
   "cell_type": "code",
   "execution_count": 2,
   "id": "686d1885",
   "metadata": {},
   "outputs": [],
   "source": [
    "import pandas as pd\n",
    "import matplotlib.pyplot as plt\n",
    "import seaborn as sns"
   ]
  },
  {
   "cell_type": "code",
   "execution_count": 3,
   "id": "209f82ef",
   "metadata": {},
   "outputs": [],
   "source": [
    "df = pd.read_csv('.csv /movies.csv')\n",
    "ratings_small = pd.read_csv('.csv /ratings_small.csv')"
   ]
  },
  {
   "cell_type": "code",
   "execution_count": 4,
   "id": "9faa3da0",
   "metadata": {},
   "outputs": [],
   "source": [
    "df.dropna(inplace=True)\n",
    "df = df.drop_duplicates().reset_index(drop=True)"
   ]
  },
  {
   "cell_type": "code",
   "execution_count": 5,
   "id": "dc89ec9e",
   "metadata": {},
   "outputs": [],
   "source": [
    "ratings_matrix = ratings_small.pivot(index='userId', columns='movieId', values='rating').fillna(0)"
   ]
  },
  {
   "cell_type": "code",
   "execution_count": 6,
   "id": "46183413",
   "metadata": {},
   "outputs": [
    {
     "data": {
      "text/plain": [
       "Index([  1,   2,   3,   4,   5,   6,   7,   8,   9,  10,\n",
       "       ...\n",
       "       662, 663, 664, 665, 666, 667, 668, 669, 670, 671],\n",
       "      dtype='int64', name='userId', length=671)"
      ]
     },
     "execution_count": 6,
     "metadata": {},
     "output_type": "execute_result"
    }
   ],
   "source": [
    "ratings_matrix.index"
   ]
  },
  {
   "cell_type": "code",
   "execution_count": 11,
   "id": "9c2bf59a",
   "metadata": {},
   "outputs": [],
   "source": [
    "# -------------------------------\n",
    "# 1. Content-Based (CB) scores\n",
    "# -------------------------------\n",
    "import numpy as np\n",
    "user_id =1\n",
    "\n",
    "\n",
    "from sklearn.metrics.pairwise import cosine_similarity\n",
    "cb_features = ['genres','keywords','cast','crew']\n",
    "df_cb = df[cb_features].fillna('').apply(lambda x: x.str.lower())  \n",
    "\n",
    "# Convert to simple bag-of-words vectors\n",
    "from sklearn.feature_extraction.text import CountVectorizer\n",
    "vec = CountVectorizer()\n",
    "cb_matrix = vec.fit_transform(df_cb.apply(lambda x: ' '.join(x), axis=1))\n",
    "\n",
    "# Compute similarity between all items\n",
    "cb_sim = cosine_similarity(cb_matrix)\n",
    "\n",
    "# For user, average CB scores of items they rated\n",
    "user_ratings = ratings_matrix.loc[user_id]\n",
    "user_rated_items = user_ratings.to_numpy().nonzero()[0]\n",
    "sCB = cb_sim[user_rated_items,:].mean(axis=0) if len(user_rated_items) > 0 else np.zeros(cb_sim.shape[0])"
   ]
  },
  {
   "cell_type": "code",
   "execution_count": 12,
   "id": "2a9f1395",
   "metadata": {},
   "outputs": [],
   "source": [
    "# -------------------------------\n",
    "# 2. Collaborative Filtering (CF) scores\n",
    "# -------------------------------\n",
    "# Simple CF: user mean for unrated items\n",
    "user_ratings = ratings_matrix[user_id].copy()\n",
    "user_mean = user_ratings[user_ratings > 0].mean() if np.any(user_ratings > 0) else 0\n",
    "sCF = user_ratings.copy()\n",
    "sCF[sCF == 0] = user_mean"
   ]
  },
  {
   "cell_type": "code",
   "execution_count": 18,
   "id": "9fac02cd",
   "metadata": {},
   "outputs": [],
   "source": [
    "# Map movie IDs in df to their row indices\n",
    "movie_id_to_idx = {mid: i for i, mid in enumerate(df['id'])}\n",
    "\n",
    "# Create full CF score array aligned to df\n",
    "sCF_full = np.zeros(len(df))  # one value per movie\n",
    "\n",
    "for mid, score in sCF.items():  # sCF is ratings_matrix.loc[user_id]\n",
    "    if mid in movie_id_to_idx:\n",
    "        idx = movie_id_to_idx[mid]\n",
    "        sCF_full[idx] = score\n",
    "\n"
   ]
  },
  {
   "cell_type": "code",
   "execution_count": 21,
   "id": "63214251",
   "metadata": {},
   "outputs": [],
   "source": [
    "# -------------------------------\n",
    "# 3. Normalize scores\n",
    "# -------------------------------\n",
    "from sklearn.preprocessing import MinMaxScaler\n",
    "scaler = MinMaxScaler()\n",
    "sCF_norm = scaler.fit_transform(sCF_full.reshape(-1,1)).flatten()\n",
    "sCB_norm = scaler.fit_transform(sCB.reshape(-1,1)).flatten()"
   ]
  },
  {
   "cell_type": "code",
   "execution_count": 22,
   "id": "994eb767",
   "metadata": {},
   "outputs": [],
   "source": [
    "alpha = 0.7  # tune on validation\n",
    "s_hyb = alpha * sCF_norm + (1 - alpha) * sCB_norm"
   ]
  },
  {
   "cell_type": "code",
   "execution_count": 24,
   "id": "6f7ac707",
   "metadata": {},
   "outputs": [
    {
     "name": "stdout",
     "output_type": "stream",
     "text": [
      "Top-10 hybrid recommendations:\n",
      "['Monsoon Wedding', 'Italian for Beginners', 'To Die For', 'Volver', 'Harold and Maude', 'Forrest Gump', 'Jackie Brown', 'Garden State', 'A Grand Day Out', 'Bull Durham']\n"
     ]
    }
   ],
   "source": [
    "# List of movie IDs in order of df\n",
    "item_ids = df['id'].tolist()\n",
    "\n",
    "# Top-10 indices\n",
    "top_indices = s_hyb.argsort()[::-1][:10]\n",
    "\n",
    "# Map indices to movie titles\n",
    "recommended_titles = [df.loc[i, 'title'] for i in top_indices]\n",
    "\n",
    "print(\"Top-10 hybrid recommendations:\")\n",
    "print(recommended_titles)\n"
   ]
  }
 ],
 "metadata": {
  "kernelspec": {
   "display_name": "Python 3",
   "language": "python",
   "name": "python3"
  },
  "language_info": {
   "codemirror_mode": {
    "name": "ipython",
    "version": 3
   },
   "file_extension": ".py",
   "mimetype": "text/x-python",
   "name": "python",
   "nbconvert_exporter": "python",
   "pygments_lexer": "ipython3",
   "version": "3.10.7"
  }
 },
 "nbformat": 4,
 "nbformat_minor": 5
}

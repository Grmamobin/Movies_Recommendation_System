{
 "cells": [
  {
   "cell_type": "markdown",
   "id": "08aa0fac",
   "metadata": {},
   "source": [
    "# Task3"
   ]
  },
  {
   "cell_type": "code",
   "execution_count": 35,
   "id": "2ffcb5e1",
   "metadata": {},
   "outputs": [],
   "source": [
    "import pandas as pd\n",
    "import matplotlib.pyplot as plt\n",
    "import seaborn as sns"
   ]
  },
  {
   "cell_type": "code",
   "execution_count": 36,
   "id": "2909cac5",
   "metadata": {},
   "outputs": [],
   "source": [
    "df = pd.read_csv('.csv /movies.csv')"
   ]
  },
  {
   "cell_type": "code",
   "execution_count": 37,
   "id": "589e1487",
   "metadata": {},
   "outputs": [],
   "source": [
    "df.dropna(inplace=True)"
   ]
  },
  {
   "cell_type": "code",
   "execution_count": 38,
   "id": "cc8813f6",
   "metadata": {},
   "outputs": [
    {
     "data": {
      "application/vnd.microsoft.datawrangler.viewer.v0+json": {
       "columns": [
        {
         "name": "index",
         "rawType": "int64",
         "type": "integer"
        },
        {
         "name": "id",
         "rawType": "int64",
         "type": "integer"
        },
        {
         "name": "title",
         "rawType": "object",
         "type": "string"
        },
        {
         "name": "genres",
         "rawType": "object",
         "type": "string"
        },
        {
         "name": "overview",
         "rawType": "object",
         "type": "string"
        },
        {
         "name": "rating",
         "rawType": "float64",
         "type": "float"
        },
        {
         "name": "spoken_languages",
         "rawType": "object",
         "type": "string"
        },
        {
         "name": "cast",
         "rawType": "object",
         "type": "string"
        },
        {
         "name": "crew",
         "rawType": "object",
         "type": "string"
        },
        {
         "name": "vote_average",
         "rawType": "float64",
         "type": "float"
        },
        {
         "name": "vote_count",
         "rawType": "float64",
         "type": "float"
        },
        {
         "name": "popularity",
         "rawType": "float64",
         "type": "float"
        },
        {
         "name": "budget",
         "rawType": "int64",
         "type": "integer"
        },
        {
         "name": "keywords",
         "rawType": "object",
         "type": "string"
        },
        {
         "name": "production_companies",
         "rawType": "object",
         "type": "string"
        },
        {
         "name": "revenue",
         "rawType": "float64",
         "type": "float"
        },
        {
         "name": "runtime",
         "rawType": "float64",
         "type": "float"
        },
        {
         "name": "tagline",
         "rawType": "object",
         "type": "string"
        }
       ],
       "ref": "71494358-fc77-4b1d-b2c8-68d3fe7d8958",
       "rows": [
        [
         "0",
         "862",
         "Toy Story",
         "Animation Comedy Family",
         "Led by Woody, Andy's toys live happily in his room until Andy's birthday brings Buzz Lightyear onto the scene. Afraid of losing his place in Andy's heart, Woody plots against Buzz. But when circumstances separate Buzz and Woody from their owner, the duo eventually learns to put aside their differences.",
         "3.0",
         "English",
         "TomHanks TimAllen DonRickles",
         "JohnLasseter",
         "7.7",
         "5415.0",
         "21.946943",
         "30000000",
         "jealousy toy boy friendship friends rivalry boynextdoor newtoy toycomestolife",
         "Pixar Animation Studios",
         "373554033.0",
         "81.0",
         "English jealousy toy boy friendship friends rivalry boynextdoor newtoy toycomestolife Animation Comedy Family TomHanks TimAllen DonRickles JohnLasseter Led by Woody, Andy's toys live happily in his room until Andy's birthday brings Buzz Lightyear onto the scene. Afraid of losing his place in Andy's heart, Woody plots against Buzz. But when circumstances separate Buzz and Woody from their owner, the duo eventually learns to put aside their differences. Pixar Animation Studios"
        ],
        [
         "1",
         "862",
         "Toy Story",
         "Animation Comedy Family",
         "Led by Woody, Andy's toys live happily in his room until Andy's birthday brings Buzz Lightyear onto the scene. Afraid of losing his place in Andy's heart, Woody plots against Buzz. But when circumstances separate Buzz and Woody from their owner, the duo eventually learns to put aside their differences.",
         "4.0",
         "English",
         "TomHanks TimAllen DonRickles",
         "JohnLasseter",
         "7.7",
         "5415.0",
         "21.946943",
         "30000000",
         "jealousy toy boy friendship friends rivalry boynextdoor newtoy toycomestolife",
         "Pixar Animation Studios",
         "373554033.0",
         "81.0",
         "English jealousy toy boy friendship friends rivalry boynextdoor newtoy toycomestolife Animation Comedy Family TomHanks TimAllen DonRickles JohnLasseter Led by Woody, Andy's toys live happily in his room until Andy's birthday brings Buzz Lightyear onto the scene. Afraid of losing his place in Andy's heart, Woody plots against Buzz. But when circumstances separate Buzz and Woody from their owner, the duo eventually learns to put aside their differences. Pixar Animation Studios"
        ],
        [
         "2",
         "862",
         "Toy Story",
         "Animation Comedy Family",
         "Led by Woody, Andy's toys live happily in his room until Andy's birthday brings Buzz Lightyear onto the scene. Afraid of losing his place in Andy's heart, Woody plots against Buzz. But when circumstances separate Buzz and Woody from their owner, the duo eventually learns to put aside their differences.",
         "5.0",
         "English",
         "TomHanks TimAllen DonRickles",
         "JohnLasseter",
         "7.7",
         "5415.0",
         "21.946943",
         "30000000",
         "jealousy toy boy friendship friends rivalry boynextdoor newtoy toycomestolife",
         "Pixar Animation Studios",
         "373554033.0",
         "81.0",
         "English jealousy toy boy friendship friends rivalry boynextdoor newtoy toycomestolife Animation Comedy Family TomHanks TimAllen DonRickles JohnLasseter Led by Woody, Andy's toys live happily in his room until Andy's birthday brings Buzz Lightyear onto the scene. Afraid of losing his place in Andy's heart, Woody plots against Buzz. But when circumstances separate Buzz and Woody from their owner, the duo eventually learns to put aside their differences. Pixar Animation Studios"
        ],
        [
         "3",
         "862",
         "Toy Story",
         "Animation Comedy Family",
         "Led by Woody, Andy's toys live happily in his room until Andy's birthday brings Buzz Lightyear onto the scene. Afraid of losing his place in Andy's heart, Woody plots against Buzz. But when circumstances separate Buzz and Woody from their owner, the duo eventually learns to put aside their differences.",
         "2.0",
         "English",
         "TomHanks TimAllen DonRickles",
         "JohnLasseter",
         "7.7",
         "5415.0",
         "21.946943",
         "30000000",
         "jealousy toy boy friendship friends rivalry boynextdoor newtoy toycomestolife",
         "Pixar Animation Studios",
         "373554033.0",
         "81.0",
         "English jealousy toy boy friendship friends rivalry boynextdoor newtoy toycomestolife Animation Comedy Family TomHanks TimAllen DonRickles JohnLasseter Led by Woody, Andy's toys live happily in his room until Andy's birthday brings Buzz Lightyear onto the scene. Afraid of losing his place in Andy's heart, Woody plots against Buzz. But when circumstances separate Buzz and Woody from their owner, the duo eventually learns to put aside their differences. Pixar Animation Studios"
        ],
        [
         "4",
         "862",
         "Toy Story",
         "Animation Comedy Family",
         "Led by Woody, Andy's toys live happily in his room until Andy's birthday brings Buzz Lightyear onto the scene. Afraid of losing his place in Andy's heart, Woody plots against Buzz. But when circumstances separate Buzz and Woody from their owner, the duo eventually learns to put aside their differences.",
         "3.5",
         "English",
         "TomHanks TimAllen DonRickles",
         "JohnLasseter",
         "7.7",
         "5415.0",
         "21.946943",
         "30000000",
         "jealousy toy boy friendship friends rivalry boynextdoor newtoy toycomestolife",
         "Pixar Animation Studios",
         "373554033.0",
         "81.0",
         "English jealousy toy boy friendship friends rivalry boynextdoor newtoy toycomestolife Animation Comedy Family TomHanks TimAllen DonRickles JohnLasseter Led by Woody, Andy's toys live happily in his room until Andy's birthday brings Buzz Lightyear onto the scene. Afraid of losing his place in Andy's heart, Woody plots against Buzz. But when circumstances separate Buzz and Woody from their owner, the duo eventually learns to put aside their differences. Pixar Animation Studios"
        ]
       ],
       "shape": {
        "columns": 17,
        "rows": 5
       }
      },
      "text/html": [
       "<div>\n",
       "<style scoped>\n",
       "    .dataframe tbody tr th:only-of-type {\n",
       "        vertical-align: middle;\n",
       "    }\n",
       "\n",
       "    .dataframe tbody tr th {\n",
       "        vertical-align: top;\n",
       "    }\n",
       "\n",
       "    .dataframe thead th {\n",
       "        text-align: right;\n",
       "    }\n",
       "</style>\n",
       "<table border=\"1\" class=\"dataframe\">\n",
       "  <thead>\n",
       "    <tr style=\"text-align: right;\">\n",
       "      <th></th>\n",
       "      <th>id</th>\n",
       "      <th>title</th>\n",
       "      <th>genres</th>\n",
       "      <th>overview</th>\n",
       "      <th>rating</th>\n",
       "      <th>spoken_languages</th>\n",
       "      <th>cast</th>\n",
       "      <th>crew</th>\n",
       "      <th>vote_average</th>\n",
       "      <th>vote_count</th>\n",
       "      <th>popularity</th>\n",
       "      <th>budget</th>\n",
       "      <th>keywords</th>\n",
       "      <th>production_companies</th>\n",
       "      <th>revenue</th>\n",
       "      <th>runtime</th>\n",
       "      <th>tagline</th>\n",
       "    </tr>\n",
       "  </thead>\n",
       "  <tbody>\n",
       "    <tr>\n",
       "      <th>0</th>\n",
       "      <td>862</td>\n",
       "      <td>Toy Story</td>\n",
       "      <td>Animation Comedy Family</td>\n",
       "      <td>Led by Woody, Andy's toys live happily in his ...</td>\n",
       "      <td>3.0</td>\n",
       "      <td>English</td>\n",
       "      <td>TomHanks TimAllen DonRickles</td>\n",
       "      <td>JohnLasseter</td>\n",
       "      <td>7.7</td>\n",
       "      <td>5415.0</td>\n",
       "      <td>21.946943</td>\n",
       "      <td>30000000</td>\n",
       "      <td>jealousy toy boy friendship friends rivalry bo...</td>\n",
       "      <td>Pixar Animation Studios</td>\n",
       "      <td>373554033.0</td>\n",
       "      <td>81.0</td>\n",
       "      <td>English jealousy toy boy friendship friends ri...</td>\n",
       "    </tr>\n",
       "    <tr>\n",
       "      <th>1</th>\n",
       "      <td>862</td>\n",
       "      <td>Toy Story</td>\n",
       "      <td>Animation Comedy Family</td>\n",
       "      <td>Led by Woody, Andy's toys live happily in his ...</td>\n",
       "      <td>4.0</td>\n",
       "      <td>English</td>\n",
       "      <td>TomHanks TimAllen DonRickles</td>\n",
       "      <td>JohnLasseter</td>\n",
       "      <td>7.7</td>\n",
       "      <td>5415.0</td>\n",
       "      <td>21.946943</td>\n",
       "      <td>30000000</td>\n",
       "      <td>jealousy toy boy friendship friends rivalry bo...</td>\n",
       "      <td>Pixar Animation Studios</td>\n",
       "      <td>373554033.0</td>\n",
       "      <td>81.0</td>\n",
       "      <td>English jealousy toy boy friendship friends ri...</td>\n",
       "    </tr>\n",
       "    <tr>\n",
       "      <th>2</th>\n",
       "      <td>862</td>\n",
       "      <td>Toy Story</td>\n",
       "      <td>Animation Comedy Family</td>\n",
       "      <td>Led by Woody, Andy's toys live happily in his ...</td>\n",
       "      <td>5.0</td>\n",
       "      <td>English</td>\n",
       "      <td>TomHanks TimAllen DonRickles</td>\n",
       "      <td>JohnLasseter</td>\n",
       "      <td>7.7</td>\n",
       "      <td>5415.0</td>\n",
       "      <td>21.946943</td>\n",
       "      <td>30000000</td>\n",
       "      <td>jealousy toy boy friendship friends rivalry bo...</td>\n",
       "      <td>Pixar Animation Studios</td>\n",
       "      <td>373554033.0</td>\n",
       "      <td>81.0</td>\n",
       "      <td>English jealousy toy boy friendship friends ri...</td>\n",
       "    </tr>\n",
       "    <tr>\n",
       "      <th>3</th>\n",
       "      <td>862</td>\n",
       "      <td>Toy Story</td>\n",
       "      <td>Animation Comedy Family</td>\n",
       "      <td>Led by Woody, Andy's toys live happily in his ...</td>\n",
       "      <td>2.0</td>\n",
       "      <td>English</td>\n",
       "      <td>TomHanks TimAllen DonRickles</td>\n",
       "      <td>JohnLasseter</td>\n",
       "      <td>7.7</td>\n",
       "      <td>5415.0</td>\n",
       "      <td>21.946943</td>\n",
       "      <td>30000000</td>\n",
       "      <td>jealousy toy boy friendship friends rivalry bo...</td>\n",
       "      <td>Pixar Animation Studios</td>\n",
       "      <td>373554033.0</td>\n",
       "      <td>81.0</td>\n",
       "      <td>English jealousy toy boy friendship friends ri...</td>\n",
       "    </tr>\n",
       "    <tr>\n",
       "      <th>4</th>\n",
       "      <td>862</td>\n",
       "      <td>Toy Story</td>\n",
       "      <td>Animation Comedy Family</td>\n",
       "      <td>Led by Woody, Andy's toys live happily in his ...</td>\n",
       "      <td>3.5</td>\n",
       "      <td>English</td>\n",
       "      <td>TomHanks TimAllen DonRickles</td>\n",
       "      <td>JohnLasseter</td>\n",
       "      <td>7.7</td>\n",
       "      <td>5415.0</td>\n",
       "      <td>21.946943</td>\n",
       "      <td>30000000</td>\n",
       "      <td>jealousy toy boy friendship friends rivalry bo...</td>\n",
       "      <td>Pixar Animation Studios</td>\n",
       "      <td>373554033.0</td>\n",
       "      <td>81.0</td>\n",
       "      <td>English jealousy toy boy friendship friends ri...</td>\n",
       "    </tr>\n",
       "  </tbody>\n",
       "</table>\n",
       "</div>"
      ],
      "text/plain": [
       "    id      title                   genres  \\\n",
       "0  862  Toy Story  Animation Comedy Family   \n",
       "1  862  Toy Story  Animation Comedy Family   \n",
       "2  862  Toy Story  Animation Comedy Family   \n",
       "3  862  Toy Story  Animation Comedy Family   \n",
       "4  862  Toy Story  Animation Comedy Family   \n",
       "\n",
       "                                            overview  rating spoken_languages  \\\n",
       "0  Led by Woody, Andy's toys live happily in his ...     3.0          English   \n",
       "1  Led by Woody, Andy's toys live happily in his ...     4.0          English   \n",
       "2  Led by Woody, Andy's toys live happily in his ...     5.0          English   \n",
       "3  Led by Woody, Andy's toys live happily in his ...     2.0          English   \n",
       "4  Led by Woody, Andy's toys live happily in his ...     3.5          English   \n",
       "\n",
       "                           cast          crew  vote_average  vote_count  \\\n",
       "0  TomHanks TimAllen DonRickles  JohnLasseter           7.7      5415.0   \n",
       "1  TomHanks TimAllen DonRickles  JohnLasseter           7.7      5415.0   \n",
       "2  TomHanks TimAllen DonRickles  JohnLasseter           7.7      5415.0   \n",
       "3  TomHanks TimAllen DonRickles  JohnLasseter           7.7      5415.0   \n",
       "4  TomHanks TimAllen DonRickles  JohnLasseter           7.7      5415.0   \n",
       "\n",
       "   popularity    budget                                           keywords  \\\n",
       "0   21.946943  30000000  jealousy toy boy friendship friends rivalry bo...   \n",
       "1   21.946943  30000000  jealousy toy boy friendship friends rivalry bo...   \n",
       "2   21.946943  30000000  jealousy toy boy friendship friends rivalry bo...   \n",
       "3   21.946943  30000000  jealousy toy boy friendship friends rivalry bo...   \n",
       "4   21.946943  30000000  jealousy toy boy friendship friends rivalry bo...   \n",
       "\n",
       "      production_companies      revenue  runtime  \\\n",
       "0  Pixar Animation Studios  373554033.0     81.0   \n",
       "1  Pixar Animation Studios  373554033.0     81.0   \n",
       "2  Pixar Animation Studios  373554033.0     81.0   \n",
       "3  Pixar Animation Studios  373554033.0     81.0   \n",
       "4  Pixar Animation Studios  373554033.0     81.0   \n",
       "\n",
       "                                             tagline  \n",
       "0  English jealousy toy boy friendship friends ri...  \n",
       "1  English jealousy toy boy friendship friends ri...  \n",
       "2  English jealousy toy boy friendship friends ri...  \n",
       "3  English jealousy toy boy friendship friends ri...  \n",
       "4  English jealousy toy boy friendship friends ri...  "
      ]
     },
     "execution_count": 38,
     "metadata": {},
     "output_type": "execute_result"
    }
   ],
   "source": [
    "df['tagline'] = (\n",
    "    df['spoken_languages'].fillna('') + ' ' +\n",
    "    df['keywords'].fillna('') + ' ' +\n",
    "    df['genres'].fillna('') + ' ' +\n",
    "    df['cast'].fillna('') + ' ' +\n",
    "    df['crew'].fillna('') + ' ' +\n",
    "    df['overview'].fillna('') + ' ' +\n",
    "    df['production_companies'].fillna('')\n",
    ")\n",
    "\n",
    "df.head(5)"
   ]
  },
  {
   "cell_type": "code",
   "execution_count": 39,
   "id": "b09b461e",
   "metadata": {},
   "outputs": [
    {
     "data": {
      "application/vnd.microsoft.datawrangler.viewer.v0+json": {
       "columns": [
        {
         "name": "index",
         "rawType": "int64",
         "type": "integer"
        },
        {
         "name": "id",
         "rawType": "int64",
         "type": "integer"
        },
        {
         "name": "title",
         "rawType": "object",
         "type": "string"
        },
        {
         "name": "genres",
         "rawType": "object",
         "type": "string"
        },
        {
         "name": "tagline",
         "rawType": "object",
         "type": "string"
        }
       ],
       "ref": "f2b494b7-693a-4754-a8be-09a63da73ae4",
       "rows": [
        [
         "0",
         "862",
         "Toy Story",
         "Animation Comedy Family",
         "English jealousy toy boy friendship friends rivalry boynextdoor newtoy toycomestolife Animation Comedy Family TomHanks TimAllen DonRickles JohnLasseter Led by Woody, Andy's toys live happily in his room until Andy's birthday brings Buzz Lightyear onto the scene. Afraid of losing his place in Andy's heart, Woody plots against Buzz. But when circumstances separate Buzz and Woody from their owner, the duo eventually learns to put aside their differences. Pixar Animation Studios"
        ],
        [
         "1",
         "862",
         "Toy Story",
         "Animation Comedy Family",
         "English jealousy toy boy friendship friends rivalry boynextdoor newtoy toycomestolife Animation Comedy Family TomHanks TimAllen DonRickles JohnLasseter Led by Woody, Andy's toys live happily in his room until Andy's birthday brings Buzz Lightyear onto the scene. Afraid of losing his place in Andy's heart, Woody plots against Buzz. But when circumstances separate Buzz and Woody from their owner, the duo eventually learns to put aside their differences. Pixar Animation Studios"
        ],
        [
         "2",
         "862",
         "Toy Story",
         "Animation Comedy Family",
         "English jealousy toy boy friendship friends rivalry boynextdoor newtoy toycomestolife Animation Comedy Family TomHanks TimAllen DonRickles JohnLasseter Led by Woody, Andy's toys live happily in his room until Andy's birthday brings Buzz Lightyear onto the scene. Afraid of losing his place in Andy's heart, Woody plots against Buzz. But when circumstances separate Buzz and Woody from their owner, the duo eventually learns to put aside their differences. Pixar Animation Studios"
        ],
        [
         "3",
         "862",
         "Toy Story",
         "Animation Comedy Family",
         "English jealousy toy boy friendship friends rivalry boynextdoor newtoy toycomestolife Animation Comedy Family TomHanks TimAllen DonRickles JohnLasseter Led by Woody, Andy's toys live happily in his room until Andy's birthday brings Buzz Lightyear onto the scene. Afraid of losing his place in Andy's heart, Woody plots against Buzz. But when circumstances separate Buzz and Woody from their owner, the duo eventually learns to put aside their differences. Pixar Animation Studios"
        ],
        [
         "4",
         "862",
         "Toy Story",
         "Animation Comedy Family",
         "English jealousy toy boy friendship friends rivalry boynextdoor newtoy toycomestolife Animation Comedy Family TomHanks TimAllen DonRickles JohnLasseter Led by Woody, Andy's toys live happily in his room until Andy's birthday brings Buzz Lightyear onto the scene. Afraid of losing his place in Andy's heart, Woody plots against Buzz. But when circumstances separate Buzz and Woody from their owner, the duo eventually learns to put aside their differences. Pixar Animation Studios"
        ]
       ],
       "shape": {
        "columns": 4,
        "rows": 5
       }
      },
      "text/html": [
       "<div>\n",
       "<style scoped>\n",
       "    .dataframe tbody tr th:only-of-type {\n",
       "        vertical-align: middle;\n",
       "    }\n",
       "\n",
       "    .dataframe tbody tr th {\n",
       "        vertical-align: top;\n",
       "    }\n",
       "\n",
       "    .dataframe thead th {\n",
       "        text-align: right;\n",
       "    }\n",
       "</style>\n",
       "<table border=\"1\" class=\"dataframe\">\n",
       "  <thead>\n",
       "    <tr style=\"text-align: right;\">\n",
       "      <th></th>\n",
       "      <th>id</th>\n",
       "      <th>title</th>\n",
       "      <th>genres</th>\n",
       "      <th>tagline</th>\n",
       "    </tr>\n",
       "  </thead>\n",
       "  <tbody>\n",
       "    <tr>\n",
       "      <th>0</th>\n",
       "      <td>862</td>\n",
       "      <td>Toy Story</td>\n",
       "      <td>Animation Comedy Family</td>\n",
       "      <td>English jealousy toy boy friendship friends ri...</td>\n",
       "    </tr>\n",
       "    <tr>\n",
       "      <th>1</th>\n",
       "      <td>862</td>\n",
       "      <td>Toy Story</td>\n",
       "      <td>Animation Comedy Family</td>\n",
       "      <td>English jealousy toy boy friendship friends ri...</td>\n",
       "    </tr>\n",
       "    <tr>\n",
       "      <th>2</th>\n",
       "      <td>862</td>\n",
       "      <td>Toy Story</td>\n",
       "      <td>Animation Comedy Family</td>\n",
       "      <td>English jealousy toy boy friendship friends ri...</td>\n",
       "    </tr>\n",
       "    <tr>\n",
       "      <th>3</th>\n",
       "      <td>862</td>\n",
       "      <td>Toy Story</td>\n",
       "      <td>Animation Comedy Family</td>\n",
       "      <td>English jealousy toy boy friendship friends ri...</td>\n",
       "    </tr>\n",
       "    <tr>\n",
       "      <th>4</th>\n",
       "      <td>862</td>\n",
       "      <td>Toy Story</td>\n",
       "      <td>Animation Comedy Family</td>\n",
       "      <td>English jealousy toy boy friendship friends ri...</td>\n",
       "    </tr>\n",
       "  </tbody>\n",
       "</table>\n",
       "</div>"
      ],
      "text/plain": [
       "    id      title                   genres  \\\n",
       "0  862  Toy Story  Animation Comedy Family   \n",
       "1  862  Toy Story  Animation Comedy Family   \n",
       "2  862  Toy Story  Animation Comedy Family   \n",
       "3  862  Toy Story  Animation Comedy Family   \n",
       "4  862  Toy Story  Animation Comedy Family   \n",
       "\n",
       "                                             tagline  \n",
       "0  English jealousy toy boy friendship friends ri...  \n",
       "1  English jealousy toy boy friendship friends ri...  \n",
       "2  English jealousy toy boy friendship friends ri...  \n",
       "3  English jealousy toy boy friendship friends ri...  \n",
       "4  English jealousy toy boy friendship friends ri...  "
      ]
     },
     "execution_count": 39,
     "metadata": {},
     "output_type": "execute_result"
    }
   ],
   "source": [
    "df = df.drop(['rating','spoken_languages','vote_average','vote_count','popularity','budget','revenue','runtime','cast','keywords','crew','overview','production_companies'],axis=1)\n",
    "df.head(5)"
   ]
  },
  {
   "cell_type": "code",
   "execution_count": 40,
   "id": "19b55fb0",
   "metadata": {},
   "outputs": [
    {
     "name": "stdout",
     "output_type": "stream",
     "text": [
      "18816\n"
     ]
    }
   ],
   "source": [
    "print(df.duplicated().sum())\n",
    "df = df.drop_duplicates().reset_index(drop=True)"
   ]
  },
  {
   "cell_type": "code",
   "execution_count": 41,
   "id": "c5c4c38b",
   "metadata": {},
   "outputs": [],
   "source": [
    "from sklearn.feature_extraction.text import TfidfVectorizer\n",
    "\n",
    "\n",
    "tfv = TfidfVectorizer(min_df=3,\n",
    "                      max_features=None, \n",
    "                      \n",
    "                      # this removes the all the characters from the sentences\n",
    "                      strip_accents = 'unicode',\n",
    "                      analyzer = 'word',\n",
    "                      token_pattern = r'\\w{1,}',\n",
    "                      \n",
    "                      ngram_range = (1, 3), # takes combination 1-3 words\n",
    "                      stop_words = 'english') # this will remove all the unnecessary words like the that etc.\n",
    "\n",
    "# Filling NaNs with empty string\n",
    "df['tagline'] = df['tagline'].fillna('')"
   ]
  },
  {
   "cell_type": "code",
   "execution_count": 42,
   "id": "c0d5990e",
   "metadata": {},
   "outputs": [
    {
     "name": "stdout",
     "output_type": "stream",
     "text": [
      "  (0, 8921)\t0.016462131388803643\n",
      "  (0, 15333)\t0.07948259519445919\n",
      "  (0, 29134)\t0.10056585474217311\n",
      "  (0, 3323)\t0.0638252096853962\n",
      "  (0, 12091)\t0.06523515079120551\n",
      "  (0, 12071)\t0.05663767024093756\n",
      "  (0, 24076)\t0.08852887567673193\n",
      "  (0, 29136)\t0.11096460190113233\n",
      "  (0, 1467)\t0.11934440925490594\n",
      "  (0, 5263)\t0.029845016229510846\n",
      "  (0, 10491)\t0.040797219159699756\n",
      "  (0, 28982)\t0.0930181837053329\n",
      "  (0, 28833)\t0.11096460190113233\n",
      "  (0, 15665)\t0.12256416744666161\n",
      "  (0, 16677)\t0.08081371398998001\n",
      "  (0, 31172)\t0.3182476294356918\n",
      "  (0, 1408)\t0.3053000193862296\n",
      "  (0, 24711)\t0.0844744416224003\n",
      "  (0, 29138)\t0.1088177714256033\n",
      "  (0, 17119)\t0.06915478065444072\n",
      "  (0, 13326)\t0.09892762283569115\n",
      "  (0, 24546)\t0.0901671075832139\n",
      "  (0, 2991)\t0.09075550538805756\n",
      "  (0, 3485)\t0.08177162788119566\n",
      "  (0, 3842)\t0.35474489229052264\n",
      "  :\t:\n",
      "  (7795, 28925)\t0.1297161614994831\n",
      "  (7795, 5953)\t0.14055836598812124\n",
      "  (7795, 12648)\t0.11280598070580682\n",
      "  (7795, 10083)\t0.11280598070580682\n",
      "  (7795, 29104)\t0.14554413873438313\n",
      "  (7795, 23440)\t0.1297161614994831\n",
      "  (7795, 146)\t0.14554413873438313\n",
      "  (7795, 7668)\t0.12531117832750951\n",
      "  (7795, 23615)\t0.12890739066290852\n",
      "  (7795, 145)\t0.147546330567044\n",
      "  (7795, 29857)\t0.147546330567044\n",
      "  (7795, 19424)\t0.1497845906072956\n",
      "  (7795, 148)\t0.15232212055432934\n",
      "  (7795, 1678)\t0.13144492060994228\n",
      "  (7795, 14914)\t0.1420794372790827\n",
      "  (7795, 9628)\t0.1552514838952569\n",
      "  (7795, 29661)\t0.1629566372234698\n",
      "  (7795, 15669)\t0.1552514838952569\n",
      "  (7795, 21147)\t0.1552514838952569\n",
      "  (7795, 26365)\t0.15871618535055732\n",
      "  (7795, 13037)\t0.14373293590966077\n",
      "  (7795, 9326)\t0.15871618535055732\n",
      "  (7795, 29108)\t0.15232212055432934\n",
      "  (7795, 24036)\t0.1629566372234698\n",
      "  (7795, 5706)\t0.1629566372234698\n"
     ]
    }
   ],
   "source": [
    "# Fitting the TF-IDF on the 'overview' text\n",
    "tfv_matrix = tfv.fit_transform(df['tagline'])\n",
    "print(tfv_matrix)"
   ]
  },
  {
   "cell_type": "code",
   "execution_count": 43,
   "id": "eeb560c8",
   "metadata": {},
   "outputs": [],
   "source": [
    "# Using kernel function to bring values between 0 and 1 (just in case for similarity)\n",
    "from sklearn.metrics.pairwise import sigmoid_kernel\n",
    "# Compute the sigmoid kernel which brings the values between 0 and 1\n",
    "sig = sigmoid_kernel(tfv_matrix, tfv_matrix)\n",
    "indices = pd.Series(df.index, index=df['title']).drop_duplicates()"
   ]
  },
  {
   "cell_type": "code",
   "execution_count": 44,
   "id": "fe7d4312",
   "metadata": {},
   "outputs": [],
   "source": [
    "def get_recommendations(title, sig=sig):\n",
    "    # Get DataFrame index for the given title\n",
    "    idx = indices[title]  \n",
    "    \n",
    "    # Similarity scores\n",
    "    sig_scores = list(enumerate(sig[idx].flatten()))\n",
    "    sig_scores = sorted(sig_scores, key=lambda x: x[1], reverse=True)[1:11]  # Skip itself\n",
    "    \n",
    "    # Convert similarity positions to actual DataFrame indexes\n",
    "    movie_indices = [df.index[i] for i, _ in sig_scores]\n",
    "    \n",
    "    return df.loc[movie_indices, 'title'].tolist()\n",
    "\n"
   ]
  },
  {
   "cell_type": "code",
   "execution_count": 48,
   "id": "9f43124a",
   "metadata": {},
   "outputs": [],
   "source": [
    "def recommend_cold_start(fav_genres=None, fav_titles=None):\n",
    "    if fav_genres:\n",
    "        subset = df[df['genres'].apply(lambda g: any(genre.lower() in g.lower() for genre in fav_genres))]\n",
    "        return subset.sort_values('title', ascending=False).head(10)['title'].tolist()\n",
    "\n",
    "    elif fav_titles:\n",
    "        all_recommendations = []\n",
    "        for title in fav_titles:\n",
    "            if title in indices:\n",
    "                recs = get_recommendations(title)\n",
    "                all_recommendations.extend(recs)\n",
    "\n",
    "        # Remove duplicates while keeping order and avoid showing fav_titles themselves\n",
    "        seen = set()\n",
    "        unique_recs = []\n",
    "        for m in all_recommendations:\n",
    "            if m not in seen and m not in fav_titles:\n",
    "                seen.add(m)\n",
    "                unique_recs.append(m)\n",
    "\n",
    "        return unique_recs[:10]\n",
    "\n",
    "    else:\n",
    "        return df.sort_values('title', ascending=False).head(10)['title'].tolist()\n"
   ]
  },
  {
   "cell_type": "code",
   "execution_count": 49,
   "id": "374a9607",
   "metadata": {},
   "outputs": [
    {
     "name": "stdout",
     "output_type": "stream",
     "text": [
      "['’Round Midnight', 'Æon Flux', 'xXx: State of the Union', 'xXx', 'eXistenZ', 'Zulu', 'Zorro, The Gay Blade', 'Zorba the Greek', 'Zoot Suit', 'Zombeavers']\n",
      "['My Giant', 'Othello', 'Extreme Measures', 'Dracula: Dead and Loving It', 'Did You Hear About the Morgans?', 'Little Big League', 'Envy', 'Striptease', 'Misery', 'Absolute Power']\n",
      "['’Round Midnight', 'Æon Flux', '¡Three Amigos!', 'xXx: State of the Union', 'xXx', 'loudQUIETloud: A Film About the Pixies', 'eXistenZ', '[REC]', 'Zulu', 'Zorro, The Gay Blade']\n"
     ]
    }
   ],
   "source": [
    "# By genres & title $ nothing just new\n",
    "print(recommend_cold_start(fav_genres=[\"Action\", \"Drama\"]))\n",
    "print(recommend_cold_start(fav_titles=[\"City Hall\"]))\n",
    "print(recommend_cold_start())\n"
   ]
  }
 ],
 "metadata": {
  "kernelspec": {
   "display_name": "Python 3",
   "language": "python",
   "name": "python3"
  },
  "language_info": {
   "codemirror_mode": {
    "name": "ipython",
    "version": 3
   },
   "file_extension": ".py",
   "mimetype": "text/x-python",
   "name": "python",
   "nbconvert_exporter": "python",
   "pygments_lexer": "ipython3",
   "version": "3.10.7"
  }
 },
 "nbformat": 4,
 "nbformat_minor": 5
}

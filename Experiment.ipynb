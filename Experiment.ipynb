{
  "cells": [
    {
      "cell_type": "markdown",
      "id": "fb1dce0e",
      "metadata": {
        "id": "fb1dce0e"
      },
      "source": [
        "# Task6"
      ]
    },
    {
      "cell_type": "code",
      "source": [
        "from google.colab import drive\n",
        "drive.mount('/content/drive')"
      ],
      "metadata": {
        "colab": {
          "base_uri": "https://localhost:8080/"
        },
        "id": "fHiKzBVkOh3M",
        "outputId": "142c7d7d-bb90-4dd9-97fe-dc10f81ae3a3"
      },
      "id": "fHiKzBVkOh3M",
      "execution_count": null,
      "outputs": [
        {
          "output_type": "stream",
          "name": "stdout",
          "text": [
            "Mounted at /content/drive\n"
          ]
        }
      ]
    },
    {
      "cell_type": "code",
      "execution_count": null,
      "id": "6a5c2910",
      "metadata": {
        "id": "6a5c2910"
      },
      "outputs": [],
      "source": [
        "import pandas as pd\n",
        "import numpy as np\n",
        "from sklearn.feature_extraction.text import CountVectorizer, TfidfVectorizer\n",
        "from sklearn.metrics.pairwise import cosine_similarity\n",
        "from sklearn.preprocessing import MinMaxScaler\n",
        "import matplotlib.pyplot as plt\n",
        "import seaborn as sns"
      ]
    },
    {
      "cell_type": "code",
      "execution_count": 39,
      "id": "c70b5347",
      "metadata": {
        "id": "c70b5347"
      },
      "outputs": [],
      "source": [
        "import csv\n",
        "\n",
        "with open('/content/movies.csv', 'r', encoding='utf-8', errors='ignore') as infile, \\\n",
        "     open('/content/movies_clean.csv', 'w', encoding='utf-8', newline='') as outfile:\n",
        "    writer = csv.writer(outfile)\n",
        "    for row in csv.reader(infile):\n",
        "        writer.writerow(row)\n",
        "\n",
        "df = pd.read_csv('/content/movies_clean.csv')\n",
        "\n",
        "ratings = pd.read_csv('/content/ratings.csv')"
      ]
    },
    {
      "cell_type": "code",
      "execution_count": 62,
      "id": "ee0eb000",
      "metadata": {
        "id": "ee0eb000"
      },
      "outputs": [],
      "source": [
        "df = df.dropna(subset=['id'])\n",
        "df_cb = df[['genres','keywords','cast','crew','id','title']].fillna('').astype(str).apply(lambda x: x.str.lower())"
      ]
    },
    {
      "cell_type": "code",
      "execution_count": 63,
      "id": "4825ef23",
      "metadata": {
        "id": "4825ef23"
      },
      "outputs": [],
      "source": [
        "df = df.dropna(subset=['id'])\n",
        "df_cb = df[['genres','keywords','cast','crew','id','title']].fillna('').astype(str).apply(lambda x: x.str.lower())"
      ]
    },
    {
      "cell_type": "code",
      "source": [
        "# Keep only needed columns for CB\n",
        "ratings = ratings[ratings['movieId'].isin(df['id'].astype(int))]"
      ],
      "metadata": {
        "id": "1Pcdehh9XvPy"
      },
      "id": "1Pcdehh9XvPy",
      "execution_count": 64,
      "outputs": []
    },
    {
      "cell_type": "code",
      "execution_count": 65,
      "id": "5dca987e",
      "metadata": {
        "id": "5dca987e",
        "outputId": "d3f1c579-6272-43c5-d800-d2a5cec1176f",
        "colab": {
          "base_uri": "https://localhost:8080/"
        }
      },
      "outputs": [
        {
          "output_type": "stream",
          "name": "stderr",
          "text": [
            "/tmp/ipython-input-677233376.py:6: DeprecationWarning: DataFrameGroupBy.apply operated on the grouping columns. This behavior is deprecated, and in a future version of pandas the grouping columns will be excluded from the operation. Either pass `include_groups=False` to exclude the groupings or explicitly select the grouping columns after groupby to silence this warning.\n",
            "  train = ratings_sorted.groupby('userId', group_keys=False).apply(lambda x: x.iloc[:-test_size])\n",
            "/tmp/ipython-input-677233376.py:7: DeprecationWarning: DataFrameGroupBy.apply operated on the grouping columns. This behavior is deprecated, and in a future version of pandas the grouping columns will be excluded from the operation. Either pass `include_groups=False` to exclude the groupings or explicitly select the grouping columns after groupby to silence this warning.\n",
            "  test = ratings_sorted.groupby('userId', group_keys=False).apply(lambda x: x.iloc[-test_size:])\n"
          ]
        }
      ],
      "source": [
        "# -------------------------------\n",
        "# 3. Time-aware split (leave-one-out per user)\n",
        "# -------------------------------\n",
        "ratings_sorted = ratings.sort_values(['userId', 'timestamp'])\n",
        "test_size = 5  # last 5 ratings\n",
        "train = ratings_sorted.groupby('userId', group_keys=False).apply(lambda x: x.iloc[:-test_size])\n",
        "test = ratings_sorted.groupby('userId', group_keys=False).apply(lambda x: x.iloc[-test_size:])\n",
        "\n",
        "train_matrix = train.pivot(index='userId', columns='movieId', values='rating').fillna(0)"
      ]
    },
    {
      "cell_type": "code",
      "execution_count": 66,
      "id": "539a481c",
      "metadata": {
        "id": "539a481c"
      },
      "outputs": [],
      "source": [
        "# -------------------------------\n",
        "# 4. CB matrix (TF-IDF or CountVectorizer)\n",
        "# -------------------------------\n",
        "vec = CountVectorizer()  # can switch to TfidfVectorizer for ablation\n",
        "cb_matrix = vec.fit_transform(df_cb.apply(lambda x: ' '.join(x), axis=1))\n",
        "cb_sim = cosine_similarity(cb_matrix)"
      ]
    },
    {
      "cell_type": "code",
      "source": [
        "# Map movie IDs to indices in df\n",
        "movie_id_to_idx = {int(mid): i for i, mid in enumerate(df['id'].astype(int))}"
      ],
      "metadata": {
        "id": "54VVC0PiX5ul"
      },
      "id": "54VVC0PiX5ul",
      "execution_count": 67,
      "outputs": []
    },
    {
      "cell_type": "code",
      "execution_count": 74,
      "id": "cc7ad775",
      "metadata": {
        "id": "cc7ad775"
      },
      "outputs": [],
      "source": [
        "def recommend_hybrid(user_id, top_k=20, alpha=0.7):\n",
        "    if user_id not in train_matrix.index:\n",
        "        # fallback: top popular movies\n",
        "        return df['id'].astype(int).tolist()[:top_k]\n",
        "\n",
        "    # CF part\n",
        "    sCF = train_matrix.loc[user_id]\n",
        "    sCF_full = np.zeros(len(df))\n",
        "    rated_indices = []\n",
        "\n",
        "    for mid, score in sCF.items():\n",
        "        if mid in movie_id_to_idx:\n",
        "            idx = movie_id_to_idx[mid]\n",
        "            sCF_full[idx] = score\n",
        "            rated_indices.append(idx)\n",
        "\n",
        "    # CB part: weighted by user ratings\n",
        "    if rated_indices:\n",
        "        sCB = np.zeros(len(df))\n",
        "        for idx in rated_indices:\n",
        "            sCB += sCF_full[idx] * cb_sim[idx]  # weight by rating\n",
        "        sCB /= sCF_full[rated_indices].sum()\n",
        "    else:\n",
        "        sCB = np.zeros(len(df))\n",
        "        # Mask already rated movies (don’t recommend them)\n",
        "    already_rated_mask = np.array([i in rated_indices for i in range(len(df))])\n",
        "    sCF_full[already_rated_mask] = 0\n",
        "    sCB[already_rated_mask] = 0\n",
        "\n",
        "    # Normalize\n",
        "    scaler = MinMaxScaler()\n",
        "    sCF_norm = scaler.fit_transform(sCF_full.reshape(-1,1)).flatten()\n",
        "    sCB_norm = scaler.fit_transform(sCB.reshape(-1,1)).flatten()\n",
        "\n",
        "    # Hybrid score\n",
        "    s_hyb = alpha * sCF_norm + (1-alpha) * sCB_norm\n",
        "\n",
        "    # Top-K recommended movie IDs\n",
        "    top_indices = s_hyb.argsort()[::-1][:top_k]\n",
        "    recommended_movie_ids = df.iloc[top_indices]['id'].astype(int).tolist()\n",
        "    return recommended_movie_ids"
      ]
    },
    {
      "cell_type": "code",
      "execution_count": 75,
      "id": "a844bc0e",
      "metadata": {
        "id": "a844bc0e"
      },
      "outputs": [],
      "source": [
        "def precision_at_k(recommended, relevant):\n",
        "    if len(recommended) == 0:\n",
        "        return 0.0\n",
        "    return len(set(recommended) & set(relevant)) / len(recommended)\n",
        "\n",
        "def recall_at_k(recommended, relevant):\n",
        "    if len(recommended) == 0:\n",
        "        return 0.0\n",
        "    return len(set(recommended) & set(relevant)) / len(relevant)\n",
        "\n",
        "def hit_rate_at_k(recommended, relevant):\n",
        "    if len(recommended) == 0:\n",
        "        return 0\n",
        "    return int(len(set(recommended) & set(relevant)) > 0)"
      ]
    },
    {
      "cell_type": "code",
      "source": [
        "common_ids = set(df['id'].astype(int)) & set(ratings['movieId'])\n",
        "print(len(common_ids), \"common movies between df and ratings\")"
      ],
      "metadata": {
        "colab": {
          "base_uri": "https://localhost:8080/"
        },
        "id": "qhwhz_PlX_41",
        "outputId": "df09b7f8-a278-48ea-e139-0a6205d9293c"
      },
      "id": "qhwhz_PlX_41",
      "execution_count": 70,
      "outputs": [
        {
          "output_type": "stream",
          "name": "stdout",
          "text": [
            "446 common movies between df and ratings\n"
          ]
        }
      ]
    },
    {
      "cell_type": "code",
      "execution_count": 76,
      "id": "ca660a84",
      "metadata": {
        "id": "ca660a84",
        "outputId": "6ecd221a-6568-4e47-fc23-911aca02128b",
        "colab": {
          "base_uri": "https://localhost:8080/"
        }
      },
      "outputs": [
        {
          "output_type": "stream",
          "name": "stdout",
          "text": [
            "    K  Precision@K  Recall@K  HitRate@K\n",
            "0  10     0.000241  0.000482    0.00241\n",
            "1  20     0.000241  0.000964    0.00241\n"
          ]
        }
      ],
      "source": [
        "Ks = [10, 20]\n",
        "metrics_summary = []\n",
        "\n",
        "unique_users = test['userId'].unique()\n",
        "user_recs = {user: recommend_hybrid(user, top_k=max(Ks)) for user in unique_users}\n",
        "\n",
        "for K in Ks:\n",
        "    precisions, recalls, hits = [], [], []\n",
        "    for user in unique_users:\n",
        "        relevant_movies = set(test[test['userId'] == user]['movieId'])\n",
        "        recs = user_recs[user][:K]\n",
        "        precisions.append(precision_at_k(recs, relevant_movies))\n",
        "        recalls.append(recall_at_k(recs, relevant_movies))\n",
        "        hits.append(hit_rate_at_k(recs, relevant_movies))\n",
        "\n",
        "    metrics_summary.append({\n",
        "        'K': K,\n",
        "        'Precision@K': np.mean(precisions),\n",
        "        'Recall@K': np.mean(recalls),\n",
        "        'HitRate@K': np.mean(hits)\n",
        "    })\n",
        "\n",
        "metrics_df = pd.DataFrame(metrics_summary)\n",
        "print(metrics_df)"
      ]
    },
    {
      "cell_type": "code",
      "execution_count": 77,
      "id": "e68ab536",
      "metadata": {
        "id": "e68ab536",
        "colab": {
          "base_uri": "https://localhost:8080/",
          "height": 475
        },
        "outputId": "5bfd7d73-f099-4fcf-bac1-e8031c714e86"
      },
      "outputs": [
        {
          "output_type": "display_data",
          "data": {
            "text/plain": [
              "<Figure size 640x480 with 1 Axes>"
            ],
            "image/png": "[encoded data removed]"
          },
          "metadata": {}
        }
      ],
      "source": [
        "metrics_df.set_index('K').plot(kind='bar')\n",
        "plt.title(\"Hybrid Recommender Metrics at K\")\n",
        "plt.show()\n"
      ]
    }
  ],
  "metadata": {
    "kernelspec": {
      "display_name": "Python 3",
      "language": "python",
      "name": "python3"
    },
    "language_info": {
      "codemirror_mode": {
        "name": "ipython",
        "version": 3
      },
      "file_extension": ".py",
      "mimetype": "text/x-python",
      "name": "python",
      "nbconvert_exporter": "python",
      "pygments_lexer": "ipython3",
      "version": "3.10.7"
    },
    "colab": {
      "provenance": []
    }
  },
  "nbformat": 4,
  "nbformat_minor": 5
}